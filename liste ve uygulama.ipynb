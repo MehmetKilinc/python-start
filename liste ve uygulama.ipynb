{
 "cells": [
  {
   "cell_type": "code",
   "execution_count": 1,
   "id": "electrical-evolution",
   "metadata": {},
   "outputs": [
    {
     "name": "stdout",
     "output_type": "stream",
     "text": [
      "[1, 2, 3, 4, 5]\n"
     ]
    }
   ],
   "source": [
    "liste1 = [1,2,3,4,5]\n",
    "liste2 = list()\n",
    "\n",
    "for i in liste1:\n",
    "    liste2.append(i)\n",
    "print(liste2)"
   ]
  },
  {
   "cell_type": "code",
   "execution_count": 2,
   "id": "compressed-chassis",
   "metadata": {},
   "outputs": [
    {
     "name": "stdout",
     "output_type": "stream",
     "text": [
      "[6, 7, 8, 9]\n"
     ]
    }
   ],
   "source": [
    "liste3 = [6,7,8,9]\n",
    "\n",
    "liste4 = [i for i in liste3]\n",
    "\n",
    "print(liste4)"
   ]
  },
  {
   "cell_type": "code",
   "execution_count": 3,
   "id": "consolidated-manitoba",
   "metadata": {},
   "outputs": [
    {
     "name": "stdout",
     "output_type": "stream",
     "text": [
      "[30, 35, 40, 45]\n"
     ]
    }
   ],
   "source": [
    "liste5 = [i * 5 for i in liste3]\n",
    "\n",
    "print(liste5)"
   ]
  },
  {
   "cell_type": "code",
   "execution_count": 4,
   "id": "seven-shelter",
   "metadata": {},
   "outputs": [
    {
     "data": {
      "text/plain": [
       "[(1, 2), (3, 4), (5, 6)]"
      ]
     },
     "execution_count": 4,
     "metadata": {},
     "output_type": "execute_result"
    }
   ],
   "source": [
    "liste6 = [(1,2),(3,4),(5,6)]\n",
    "\n",
    "liste7 = [i*j for i,j in liste6]\n",
    "\n",
    "liste6"
   ]
  },
  {
   "cell_type": "code",
   "execution_count": 5,
   "id": "recovered-importance",
   "metadata": {},
   "outputs": [
    {
     "data": {
      "text/plain": [
       "[2, 12, 30]"
      ]
     },
     "execution_count": 5,
     "metadata": {},
     "output_type": "execute_result"
    }
   ],
   "source": [
    "liste7"
   ]
  },
  {
   "cell_type": "code",
   "execution_count": 6,
   "id": "continued-finding",
   "metadata": {},
   "outputs": [
    {
     "data": {
      "text/plain": [
       "['mmm', 'eee', 'rrr', 'hhh', 'aaa', 'bbb', 'aaa']"
      ]
     },
     "execution_count": 6,
     "metadata": {},
     "output_type": "execute_result"
    }
   ],
   "source": [
    "a = \"merhaba\"\n",
    "\n",
    "liste8 = [i*3 for i in a]\n",
    "\n",
    "liste8"
   ]
  },
  {
   "cell_type": "code",
   "execution_count": 10,
   "id": "mathematical-python",
   "metadata": {},
   "outputs": [
    {
     "name": "stdout",
     "output_type": "stream",
     "text": [
      "1\n",
      "2\n",
      "3\n",
      "4\n",
      "5\n",
      "6\n",
      "7\n",
      "8\n",
      "9\n"
     ]
    }
   ],
   "source": [
    "liste9 = [(1,2,3,4),(5,6,7),(8,9)]\n",
    "\n",
    "liste10 = list()\n",
    "for i in liste9:\n",
    "    for a in i:\n",
    "        print(a)\n",
    "        liste10.append(a)"
   ]
  },
  {
   "cell_type": "code",
   "execution_count": 11,
   "id": "dedicated-great",
   "metadata": {},
   "outputs": [
    {
     "data": {
      "text/plain": [
       "[1, 2, 3, 4, 5, 6, 7, 8, 9]"
      ]
     },
     "execution_count": 11,
     "metadata": {},
     "output_type": "execute_result"
    }
   ],
   "source": [
    "liste10"
   ]
  },
  {
   "cell_type": "code",
   "execution_count": null,
   "id": "dimensional-practice",
   "metadata": {},
   "outputs": [],
   "source": []
  },
  {
   "cell_type": "code",
   "execution_count": null,
   "id": "ruled-things",
   "metadata": {},
   "outputs": [],
   "source": []
  },
  {
   "cell_type": "code",
   "execution_count": 14,
   "id": "metallic-regard",
   "metadata": {},
   "outputs": [
    {
     "name": "stdout",
     "output_type": "stream",
     "text": [
      "kullanıcı adını giriniz :admin\n",
      "parolayı giriniz        :guhg\n",
      "şifreyi ya da parolayı yanlış girdiniz \n",
      "4  deneme hakkınız kaldı\n",
      "kullanıcı adını giriniz :gujhgoğ\n",
      "parolayı giriniz        :admin\n",
      "şifreyi ya da parolayı yanlış girdiniz \n",
      "3  deneme hakkınız kaldı\n",
      "kullanıcı adını giriniz :gruhıor\n",
      "parolayı giriniz        :rgıohjg\n",
      "şifreyi ya da parolayı yanlış girdiniz \n",
      "2  deneme hakkınız kaldı\n",
      "kullanıcı adını giriniz :rgh\n",
      "parolayı giriniz        :grh\n",
      "şifreyi ya da parolayı yanlış girdiniz \n",
      "1  deneme hakkınız kaldı\n",
      "kullanıcı adını giriniz :rgoıhj\n",
      "parolayı giriniz        :gruıh\n",
      "şifreyi ya da parolayı yanlış girdiniz \n",
      "0  deneme hakkınız kaldı\n",
      "giriş hakkı kalmadı\n"
     ]
    }
   ],
   "source": [
    "kullanıcı_adı = \"admin\"\n",
    "parola = \"admin\"\n",
    "hak = 5\n",
    "\n",
    "while True:\n",
    "    kullanıcı = input(\"kullanıcı adını giriniz :\")\n",
    "    paro      = input(\"parolayı giriniz        :\")\n",
    "    \n",
    "    if((kullanıcı==kullanıcı_adı and paro != parola) or (kullanıcı != kullanıcı_adı and paro == parola) or (kullanıcı != kullanıcı_adı and paro != parola)):\n",
    "        print(\"şifreyi ya da parolayı yanlış girdiniz \")\n",
    "        hak -= 1\n",
    "        print(\"{}  deneme hakkınız kaldı\".format(hak))\n",
    "        \n",
    "    else:\n",
    "        print(\"giriş yapıldı\")\n",
    "        break\n",
    "        \n",
    "    if(hak == 0):\n",
    "        print(\"giriş hakkı kalmadı\")\n",
    "        break\n",
    "        \n",
    "    "
   ]
  },
  {
   "cell_type": "code",
   "execution_count": null,
   "id": "fuzzy-tactics",
   "metadata": {},
   "outputs": [],
   "source": [
    "\n",
    "\n",
    "\n"
   ]
  },
  {
   "cell_type": "code",
   "execution_count": null,
   "id": "knowing-johns",
   "metadata": {},
   "outputs": [],
   "source": [
    "print(\"\"\"\n",
    "\n",
    "işlemler:\n",
    "\n",
    "1 - bakiye sorgulama \n",
    "\n",
    "2 - para çekme\n",
    "\n",
    "3 - para yatırma\n",
    "\n",
    "4 - çıkış\n",
    "\"\"\")\n",
    "\n",
    "bakiye = 1000\n",
    "\n",
    "\n",
    "while True:\n",
    "    islem = input(\"işlem giriniz :\")\n",
    "    \n",
    "    if (islem== \"1\"):\n",
    "        print(\"bakiyeniz : {}\".format(bakiye))\n",
    "        \n",
    "    elif (islem== \"2\"):\n",
    "        cpara = int(input(\"çekmek istediğiniz miktarı giriniz :\"))\n",
    "        \n",
    "        if (cpara > bakiye):\n",
    "            print(\"çekmek istediğiniz miktar bakiyenizden daha fazla\")\n",
    "            continue\n",
    "        else:\n",
    "            \n",
    "            bakiye -= cpara\n",
    "        \n",
    "    elif (islem== \"3\"):\n",
    "        ypara = int(input(\"yatırmak istediğiniz miktarı giriniz :\"))\n",
    "        \n",
    "        bakiye += ypara\n",
    "        \n",
    "    elif (islem==\"4\"):\n",
    "        break\n",
    "    \n",
    "    else:\n",
    "        print(\"hatalı sayı girdiniz :\")\n"
   ]
  },
  {
   "cell_type": "code",
   "execution_count": null,
   "id": "nearby-heating",
   "metadata": {},
   "outputs": [],
   "source": []
  }
 ],
 "metadata": {
  "kernelspec": {
   "display_name": "Python 3",
   "language": "python",
   "name": "python3"
  },
  "language_info": {
   "codemirror_mode": {
    "name": "ipython",
    "version": 3
   },
   "file_extension": ".py",
   "mimetype": "text/x-python",
   "name": "python",
   "nbconvert_exporter": "python",
   "pygments_lexer": "ipython3",
   "version": "3.9.1"
  }
 },
 "nbformat": 4,
 "nbformat_minor": 5
}
