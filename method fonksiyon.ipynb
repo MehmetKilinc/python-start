{
 "cells": [
  {
   "cell_type": "code",
   "execution_count": 3,
   "id": "absent-chile",
   "metadata": {},
   "outputs": [
    {
     "name": "stdout",
     "output_type": "stream",
     "text": [
      "a : 1     b :  2\n",
      "a : 2     b :  3\n",
      "a : 3     b :  5\n",
      "a : 5     b :  8\n",
      "a : 8     b :  13\n",
      "a : 13     b :  21\n",
      "a : 21     b :  34\n",
      "a : 34     b :  55\n",
      "a : 55     b :  89\n",
      "a : 89     b :  144\n",
      "a : 144     b :  233\n",
      "a : 233     b :  377\n",
      "a : 377     b :  610\n",
      "a : 610     b :  987\n",
      "a : 987     b :  1597\n",
      "a : 1597     b :  2584\n",
      "a : 2584     b :  4181\n",
      "a : 4181     b :  6765\n",
      "a : 6765     b :  10946\n",
      "a : 10946     b :  17711\n",
      "[1, 1, 2, 3, 5, 8, 13, 21, 34, 55, 89, 144, 233, 377, 610, 987, 1597, 2584, 4181, 6765, 10946, 17711]\n"
     ]
    }
   ],
   "source": [
    "a = 1\n",
    "\n",
    "b = 1\n",
    "\n",
    "fibonacci = [a,b]\n",
    "\n",
    "for i in range(20):\n",
    "    \n",
    "    a,b = b,a+b\n",
    "    \n",
    "    print(\"a :\" , a , \"    b : \", b)\n",
    "    \n",
    "    fibonacci.append(b)\n",
    "    \n",
    "print(fibonacci)\n",
    "    \n",
    "    "
   ]
  },
  {
   "cell_type": "code",
   "execution_count": null,
   "id": "upset-christopher",
   "metadata": {},
   "outputs": [],
   "source": [
    "\n",
    "\n",
    "\n",
    "\n",
    "\n"
   ]
  },
  {
   "cell_type": "code",
   "execution_count": 4,
   "id": "answering-poetry",
   "metadata": {},
   "outputs": [],
   "source": [
    "a = [1,2,3,4,5,6]"
   ]
  },
  {
   "cell_type": "code",
   "execution_count": 5,
   "id": "polyphonic-symposium",
   "metadata": {},
   "outputs": [],
   "source": [
    "a.append(5)"
   ]
  },
  {
   "cell_type": "code",
   "execution_count": 6,
   "id": "limited-spanish",
   "metadata": {},
   "outputs": [
    {
     "name": "stdout",
     "output_type": "stream",
     "text": [
      "[1, 2, 3, 4, 5, 6, 5]\n"
     ]
    }
   ],
   "source": [
    "print(a)"
   ]
  },
  {
   "cell_type": "code",
   "execution_count": 9,
   "id": "peaceful-terror",
   "metadata": {},
   "outputs": [],
   "source": [
    "a.insert(1,\"merhaba\")"
   ]
  },
  {
   "cell_type": "code",
   "execution_count": 10,
   "id": "opened-mobility",
   "metadata": {},
   "outputs": [
    {
     "data": {
      "text/plain": [
       "[1, 'merhaba', 2, 3, 4, 5, 6, 5]"
      ]
     },
     "execution_count": 10,
     "metadata": {},
     "output_type": "execute_result"
    }
   ],
   "source": [
    "a"
   ]
  },
  {
   "cell_type": "code",
   "execution_count": 12,
   "id": "twelve-cosmetic",
   "metadata": {},
   "outputs": [
    {
     "data": {
      "text/plain": [
       "'merhaba'"
      ]
     },
     "execution_count": 12,
     "metadata": {},
     "output_type": "execute_result"
    }
   ],
   "source": [
    "a.pop(1)"
   ]
  },
  {
   "cell_type": "code",
   "execution_count": 13,
   "id": "headed-wright",
   "metadata": {},
   "outputs": [
    {
     "data": {
      "text/plain": [
       "[1, 2, 3, 4, 5, 6, 5]"
      ]
     },
     "execution_count": 13,
     "metadata": {},
     "output_type": "execute_result"
    }
   ],
   "source": [
    "a"
   ]
  },
  {
   "cell_type": "code",
   "execution_count": 14,
   "id": "compound-economy",
   "metadata": {},
   "outputs": [
    {
     "data": {
      "text/plain": [
       "5"
      ]
     },
     "execution_count": 14,
     "metadata": {},
     "output_type": "execute_result"
    }
   ],
   "source": [
    "a.pop(4)"
   ]
  },
  {
   "cell_type": "code",
   "execution_count": 15,
   "id": "missing-formation",
   "metadata": {},
   "outputs": [
    {
     "data": {
      "text/plain": [
       "[1, 2, 3, 4, 6, 5]"
      ]
     },
     "execution_count": 15,
     "metadata": {},
     "output_type": "execute_result"
    }
   ],
   "source": [
    "a"
   ]
  },
  {
   "cell_type": "code",
   "execution_count": 16,
   "id": "minimal-alberta",
   "metadata": {},
   "outputs": [
    {
     "name": "stdout",
     "output_type": "stream",
     "text": [
      "Help on built-in function append:\n",
      "\n",
      "append(object, /) method of builtins.list instance\n",
      "    Append object to the end of the list.\n",
      "\n"
     ]
    }
   ],
   "source": [
    "help(a.append)"
   ]
  },
  {
   "cell_type": "code",
   "execution_count": 17,
   "id": "constant-final",
   "metadata": {},
   "outputs": [
    {
     "name": "stdout",
     "output_type": "stream",
     "text": [
      "Help on built-in function pop:\n",
      "\n",
      "pop(index=-1, /) method of builtins.list instance\n",
      "    Remove and return item at index (default last).\n",
      "    \n",
      "    Raises IndexError if list is empty or index is out of range.\n",
      "\n"
     ]
    }
   ],
   "source": [
    "help(a.pop)"
   ]
  },
  {
   "cell_type": "code",
   "execution_count": 18,
   "id": "graduate-participant",
   "metadata": {},
   "outputs": [],
   "source": [
    "def selamlama(isim):\n",
    "    print(\"merhaba \"  , isim , \"nasılsın\")\n",
    "    \n",
    "def yas(yas):\n",
    "    print(\"demek \", yas , \"yaşındasın \")"
   ]
  },
  {
   "cell_type": "code",
   "execution_count": null,
   "id": "little-surveillance",
   "metadata": {},
   "outputs": [],
   "source": [
    "isim = input(\"isminizi giriniz : \")\n",
    "\n",
    "selamlama(isim)\n",
    "\n",
    "\"\"\"\n",
    "1 - teşekkürler iyiyim \n",
    "\n",
    "2 - iyi değilim\n",
    "\n",
    "\"\"\"\n",
    "\n",
    "secim = int(input(\"seçiminizi giriniz :\"))\n",
    "\n",
    "if secim == \"1\":\n",
    "    \n",
    "    print(\"sevindim iyi olmana yaşını söylermisin bana :\")\n",
    "    \n",
    "    secimler \"\"\"\n",
    "    1 - evet\n",
    "    \n",
    "    2 - hayır\n",
    "    \n",
    "    \"\"\"\n",
    "    \n",
    "    secim2 = int(input(\"seçiminizi giriniz :\"))\n",
    "    \n",
    "    if secim2 == \"1\":\n",
    "        \n",
    "        yas = int(input(\"yaşınızı giriniz :\"))\n",
    "        \n",
    "        yas(yas)\n",
    "        \n",
    "    elif secim2 == \"2\":\n",
    "        \n",
    "        print(\"tamam\")\n",
    "        \n",
    "    else:\n",
    "        print(\"hatalı sayı girdiniz\")\n",
    "        \n",
    "elif secim == \"2\":\n",
    "    \n",
    "    print(\"anladım\")\n",
    "        \n",
    "else:\n",
    "    print(\"hatalı sayı girdiniz\")"
   ]
  },
  {
   "cell_type": "code",
   "execution_count": null,
   "id": "impressed-knight",
   "metadata": {},
   "outputs": [],
   "source": []
  }
 ],
 "metadata": {
  "kernelspec": {
   "display_name": "Python 3",
   "language": "python",
   "name": "python3"
  },
  "language_info": {
   "codemirror_mode": {
    "name": "ipython",
    "version": 3
   },
   "file_extension": ".py",
   "mimetype": "text/x-python",
   "name": "python",
   "nbconvert_exporter": "python",
   "pygments_lexer": "ipython3",
   "version": "3.9.1"
  }
 },
 "nbformat": 4,
 "nbformat_minor": 5
}
