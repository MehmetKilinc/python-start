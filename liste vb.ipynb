{
 "cells": [
  {
   "cell_type": "code",
   "execution_count": 1,
   "id": "alternate-belarus",
   "metadata": {},
   "outputs": [],
   "source": [
    "a = 6 \n",
    "b = 8"
   ]
  },
  {
   "cell_type": "code",
   "execution_count": 2,
   "id": "apparent-soccer",
   "metadata": {},
   "outputs": [
    {
     "data": {
      "text/plain": [
       "6"
      ]
     },
     "execution_count": 2,
     "metadata": {},
     "output_type": "execute_result"
    }
   ],
   "source": [
    "a"
   ]
  },
  {
   "cell_type": "code",
   "execution_count": 3,
   "id": "delayed-commonwealth",
   "metadata": {},
   "outputs": [
    {
     "data": {
      "text/plain": [
       "8"
      ]
     },
     "execution_count": 3,
     "metadata": {},
     "output_type": "execute_result"
    }
   ],
   "source": [
    "b"
   ]
  },
  {
   "cell_type": "code",
   "execution_count": 4,
   "id": "overhead-individual",
   "metadata": {},
   "outputs": [],
   "source": [
    "a,b = b,a"
   ]
  },
  {
   "cell_type": "code",
   "execution_count": 5,
   "id": "minimal-nylon",
   "metadata": {},
   "outputs": [
    {
     "data": {
      "text/plain": [
       "8"
      ]
     },
     "execution_count": 5,
     "metadata": {},
     "output_type": "execute_result"
    }
   ],
   "source": [
    "a"
   ]
  },
  {
   "cell_type": "code",
   "execution_count": 6,
   "id": "supported-heather",
   "metadata": {},
   "outputs": [
    {
     "data": {
      "text/plain": [
       "6"
      ]
     },
     "execution_count": 6,
     "metadata": {},
     "output_type": "execute_result"
    }
   ],
   "source": [
    "b"
   ]
  },
  {
   "cell_type": "code",
   "execution_count": null,
   "id": "wanted-degree",
   "metadata": {},
   "outputs": [],
   "source": []
  },
  {
   "cell_type": "code",
   "execution_count": 7,
   "id": "hybrid-decimal",
   "metadata": {},
   "outputs": [
    {
     "data": {
      "text/plain": [
       "1.6459400146305778"
      ]
     },
     "execution_count": 7,
     "metadata": {},
     "output_type": "execute_result"
    }
   ],
   "source": [
    "22.5/13.67\n"
   ]
  },
  {
   "cell_type": "code",
   "execution_count": 8,
   "id": "analyzed-infrastructure",
   "metadata": {},
   "outputs": [
    {
     "data": {
      "text/plain": [
       "1.0"
      ]
     },
     "execution_count": 8,
     "metadata": {},
     "output_type": "execute_result"
    }
   ],
   "source": [
    "22.5//13.67"
   ]
  },
  {
   "cell_type": "code",
   "execution_count": 9,
   "id": "respiratory-albany",
   "metadata": {},
   "outputs": [
    {
     "data": {
      "text/plain": [
       "\"ahmet'in bugün dersi var\""
      ]
     },
     "execution_count": 9,
     "metadata": {},
     "output_type": "execute_result"
    }
   ],
   "source": [
    "'ahmet\\'in bugün dersi var'"
   ]
  },
  {
   "cell_type": "code",
   "execution_count": 10,
   "id": "reverse-morrison",
   "metadata": {},
   "outputs": [
    {
     "data": {
      "text/plain": [
       "'mhaalc'"
      ]
     },
     "execution_count": 10,
     "metadata": {},
     "output_type": "execute_result"
    }
   ],
   "source": [
    "a = \"merhaba yazilimci\"\n",
    "\n",
    "a[0:20:3]"
   ]
  },
  {
   "cell_type": "code",
   "execution_count": 11,
   "id": "sound-photographer",
   "metadata": {},
   "outputs": [
    {
     "data": {
      "text/plain": [
       "17"
      ]
     },
     "execution_count": 11,
     "metadata": {},
     "output_type": "execute_result"
    }
   ],
   "source": [
    "len(a)"
   ]
  },
  {
   "cell_type": "code",
   "execution_count": 12,
   "id": "perceived-motor",
   "metadata": {},
   "outputs": [
    {
     "data": {
      "text/plain": [
       "'icmilizay abahrem'"
      ]
     },
     "execution_count": 12,
     "metadata": {},
     "output_type": "execute_result"
    }
   ],
   "source": [
    "\"\"\"ters çevirme\"\"\"\n",
    "a[::-1]"
   ]
  },
  {
   "cell_type": "code",
   "execution_count": 13,
   "id": "fresh-jackson",
   "metadata": {},
   "outputs": [
    {
     "ename": "TypeError",
     "evalue": "'str' object does not support item assignment",
     "output_type": "error",
     "traceback": [
      "\u001b[1;31m---------------------------------------------------------------------------\u001b[0m",
      "\u001b[1;31mTypeError\u001b[0m                                 Traceback (most recent call last)",
      "\u001b[1;32m<ipython-input-13-7e6f3167cde4>\u001b[0m in \u001b[0;36m<module>\u001b[1;34m\u001b[0m\n\u001b[0;32m      1\u001b[0m \u001b[0ma\u001b[0m \u001b[1;33m=\u001b[0m \u001b[1;34m\"merhaba\"\u001b[0m\u001b[1;33m\u001b[0m\u001b[1;33m\u001b[0m\u001b[0m\n\u001b[0;32m      2\u001b[0m \u001b[1;33m\u001b[0m\u001b[0m\n\u001b[1;32m----> 3\u001b[1;33m \u001b[0ma\u001b[0m\u001b[1;33m[\u001b[0m\u001b[1;36m1\u001b[0m\u001b[1;33m]\u001b[0m \u001b[1;33m=\u001b[0m \u001b[1;34m\"t\"\u001b[0m\u001b[1;33m\u001b[0m\u001b[1;33m\u001b[0m\u001b[0m\n\u001b[0m",
      "\u001b[1;31mTypeError\u001b[0m: 'str' object does not support item assignment"
     ]
    }
   ],
   "source": [
    "a = \"merhaba\"\n",
    "\n",
    "a[1] = \"t\""
   ]
  },
  {
   "cell_type": "code",
   "execution_count": 14,
   "id": "confidential-thesis",
   "metadata": {},
   "outputs": [],
   "source": [
    "b = \"yazılımcı\""
   ]
  },
  {
   "cell_type": "code",
   "execution_count": 15,
   "id": "special-auditor",
   "metadata": {},
   "outputs": [],
   "source": [
    "a = a + b "
   ]
  },
  {
   "cell_type": "code",
   "execution_count": 16,
   "id": "streaming-bridge",
   "metadata": {},
   "outputs": [
    {
     "data": {
      "text/plain": [
       "'merhabayazılımcı'"
      ]
     },
     "execution_count": 16,
     "metadata": {},
     "output_type": "execute_result"
    }
   ],
   "source": [
    "a"
   ]
  },
  {
   "cell_type": "code",
   "execution_count": 17,
   "id": "primary-grass",
   "metadata": {},
   "outputs": [],
   "source": [
    "a = str(3456)"
   ]
  },
  {
   "cell_type": "code",
   "execution_count": 18,
   "id": "external-settle",
   "metadata": {},
   "outputs": [
    {
     "data": {
      "text/plain": [
       "4"
      ]
     },
     "execution_count": 18,
     "metadata": {},
     "output_type": "execute_result"
    }
   ],
   "source": [
    "len(a)"
   ]
  },
  {
   "cell_type": "code",
   "execution_count": 19,
   "id": "matched-terror",
   "metadata": {},
   "outputs": [
    {
     "data": {
      "text/plain": [
       "'3456'"
      ]
     },
     "execution_count": 19,
     "metadata": {},
     "output_type": "execute_result"
    }
   ],
   "source": [
    "a"
   ]
  },
  {
   "cell_type": "code",
   "execution_count": 20,
   "id": "powered-confirmation",
   "metadata": {},
   "outputs": [],
   "source": [
    "b = int(a)"
   ]
  },
  {
   "cell_type": "code",
   "execution_count": 21,
   "id": "particular-messaging",
   "metadata": {},
   "outputs": [
    {
     "data": {
      "text/plain": [
       "'3456'"
      ]
     },
     "execution_count": 21,
     "metadata": {},
     "output_type": "execute_result"
    }
   ],
   "source": [
    "a"
   ]
  },
  {
   "cell_type": "code",
   "execution_count": 22,
   "id": "senior-missouri",
   "metadata": {},
   "outputs": [
    {
     "data": {
      "text/plain": [
       "3456"
      ]
     },
     "execution_count": 22,
     "metadata": {},
     "output_type": "execute_result"
    }
   ],
   "source": [
    "b"
   ]
  },
  {
   "cell_type": "code",
   "execution_count": 23,
   "id": "frequent-senior",
   "metadata": {},
   "outputs": [
    {
     "name": "stdout",
     "output_type": "stream",
     "text": [
      "ocak\tsubat\n"
     ]
    }
   ],
   "source": [
    "print(\"ocak\\tsubat\")"
   ]
  },
  {
   "cell_type": "code",
   "execution_count": 24,
   "id": "threaded-birthday",
   "metadata": {},
   "outputs": [
    {
     "name": "stdout",
     "output_type": "stream",
     "text": [
      "ocak\t\tsubat\n"
     ]
    }
   ],
   "source": [
    "print(\"ocak\\t\\tsubat\")"
   ]
  },
  {
   "cell_type": "code",
   "execution_count": 25,
   "id": "automated-diagram",
   "metadata": {},
   "outputs": [
    {
     "name": "stdout",
     "output_type": "stream",
     "text": [
      "12 13 14 15\n"
     ]
    }
   ],
   "source": [
    "print(12,13,14,15)"
   ]
  },
  {
   "cell_type": "code",
   "execution_count": 26,
   "id": "cubic-burner",
   "metadata": {},
   "outputs": [
    {
     "name": "stdout",
     "output_type": "stream",
     "text": [
      "12/13/14/15\n"
     ]
    }
   ],
   "source": [
    "print(12,13,14,15,sep = \"/\")"
   ]
  },
  {
   "cell_type": "code",
   "execution_count": 27,
   "id": "interesting-keeping",
   "metadata": {},
   "outputs": [
    {
     "name": "stdout",
     "output_type": "stream",
     "text": [
      "python\n"
     ]
    }
   ],
   "source": [
    "print(\"python\")"
   ]
  },
  {
   "cell_type": "code",
   "execution_count": 28,
   "id": "micro-clerk",
   "metadata": {},
   "outputs": [
    {
     "name": "stdout",
     "output_type": "stream",
     "text": [
      "p y t h o n\n"
     ]
    }
   ],
   "source": [
    "print(*\"python\")"
   ]
  },
  {
   "cell_type": "code",
   "execution_count": 29,
   "id": "convenient-whale",
   "metadata": {},
   "outputs": [
    {
     "name": "stdout",
     "output_type": "stream",
     "text": [
      "p/y/t/h/o/n\n"
     ]
    }
   ],
   "source": [
    "print(*\"python\",sep=\"/\")"
   ]
  },
  {
   "cell_type": "code",
   "execution_count": 30,
   "id": "cognitive-account",
   "metadata": {},
   "outputs": [
    {
     "name": "stdout",
     "output_type": "stream",
     "text": [
      "a sayısı gir :3\n",
      "b sayısı gir :4\n",
      "3 + 4  =  7\n"
     ]
    }
   ],
   "source": [
    "a = int(input(\"a sayısı gir :\"))\n",
    "b = int(input(\"b sayısı gir :\"))\n",
    "\n",
    "print(\"{} + {}  =  {}\" . format(a,b,a+b))"
   ]
  },
  {
   "cell_type": "code",
   "execution_count": 32,
   "id": "brief-bennett",
   "metadata": {},
   "outputs": [
    {
     "data": {
      "text/plain": [
       "'d , a , c , b'"
      ]
     },
     "execution_count": 32,
     "metadata": {},
     "output_type": "execute_result"
    }
   ],
   "source": [
    "\"{3} , {0} , {2} , {1}\".format(\"a\",\"b\",\"c\",\"d\")"
   ]
  },
  {
   "cell_type": "code",
   "execution_count": 33,
   "id": "honey-landing",
   "metadata": {},
   "outputs": [
    {
     "data": {
      "text/plain": [
       "'3.55 , 6.36 , 9.346'"
      ]
     },
     "execution_count": 33,
     "metadata": {},
     "output_type": "execute_result"
    }
   ],
   "source": [
    "\"{:.2f} , {:.2f} , {:.3f}\".format(3.546745 , 6.36362 , 9.3456267)"
   ]
  },
  {
   "cell_type": "code",
   "execution_count": 34,
   "id": "sexual-nickel",
   "metadata": {},
   "outputs": [],
   "source": [
    "\n",
    "liste = [1,2,3,4,5,6,7,8,9]"
   ]
  },
  {
   "cell_type": "code",
   "execution_count": 35,
   "id": "passing-butler",
   "metadata": {},
   "outputs": [
    {
     "data": {
      "text/plain": [
       "list"
      ]
     },
     "execution_count": 35,
     "metadata": {},
     "output_type": "execute_result"
    }
   ],
   "source": [
    "type(liste)"
   ]
  },
  {
   "cell_type": "code",
   "execution_count": 36,
   "id": "enclosed-announcement",
   "metadata": {},
   "outputs": [
    {
     "data": {
      "text/plain": [
       "9"
      ]
     },
     "execution_count": 36,
     "metadata": {},
     "output_type": "execute_result"
    }
   ],
   "source": [
    "len(liste)"
   ]
  },
  {
   "cell_type": "code",
   "execution_count": 38,
   "id": "apparent-observer",
   "metadata": {},
   "outputs": [
    {
     "data": {
      "text/plain": [
       "9"
      ]
     },
     "execution_count": 38,
     "metadata": {},
     "output_type": "execute_result"
    }
   ],
   "source": [
    "liste[len(liste)-1]"
   ]
  },
  {
   "cell_type": "code",
   "execution_count": 39,
   "id": "humanitarian-ottawa",
   "metadata": {},
   "outputs": [
    {
     "data": {
      "text/plain": [
       "9"
      ]
     },
     "execution_count": 39,
     "metadata": {},
     "output_type": "execute_result"
    }
   ],
   "source": [
    "liste[-1]"
   ]
  },
  {
   "cell_type": "code",
   "execution_count": 42,
   "id": "spectacular-steps",
   "metadata": {},
   "outputs": [
    {
     "data": {
      "text/plain": [
       "[1, 2, 3, 4, 5]"
      ]
     },
     "execution_count": 42,
     "metadata": {},
     "output_type": "execute_result"
    }
   ],
   "source": [
    "liste[:5]"
   ]
  },
  {
   "cell_type": "code",
   "execution_count": 43,
   "id": "imported-filter",
   "metadata": {},
   "outputs": [],
   "source": [
    "liste2 = liste[::-1]"
   ]
  },
  {
   "cell_type": "code",
   "execution_count": 44,
   "id": "built-burning",
   "metadata": {},
   "outputs": [
    {
     "data": {
      "text/plain": [
       "[9, 8, 7, 6, 5, 4, 3, 2, 1]"
      ]
     },
     "execution_count": 44,
     "metadata": {},
     "output_type": "execute_result"
    }
   ],
   "source": [
    "liste2"
   ]
  },
  {
   "cell_type": "code",
   "execution_count": 46,
   "id": "numerous-pasta",
   "metadata": {},
   "outputs": [],
   "source": [
    "liste3 = liste + liste2"
   ]
  },
  {
   "cell_type": "code",
   "execution_count": 47,
   "id": "portable-progress",
   "metadata": {},
   "outputs": [
    {
     "data": {
      "text/plain": [
       "[1, 2, 3, 4, 5, 6, 7, 8, 9, 9, 8, 7, 6, 5, 4, 3, 2, 1]"
      ]
     },
     "execution_count": 47,
     "metadata": {},
     "output_type": "execute_result"
    }
   ],
   "source": [
    "liste3"
   ]
  },
  {
   "cell_type": "code",
   "execution_count": 48,
   "id": "moved-refund",
   "metadata": {},
   "outputs": [],
   "source": [
    "liste3[2] = \"merhaba\""
   ]
  },
  {
   "cell_type": "code",
   "execution_count": 49,
   "id": "isolated-place",
   "metadata": {},
   "outputs": [
    {
     "data": {
      "text/plain": [
       "[1, 2, 'merhaba', 4, 5, 6, 7, 8, 9, 9, 8, 7, 6, 5, 4, 3, 2, 1]"
      ]
     },
     "execution_count": 49,
     "metadata": {},
     "output_type": "execute_result"
    }
   ],
   "source": [
    "liste3"
   ]
  },
  {
   "cell_type": "code",
   "execution_count": 51,
   "id": "becoming-longitude",
   "metadata": {},
   "outputs": [],
   "source": [
    "liste4 =liste3[:10]"
   ]
  },
  {
   "cell_type": "markdown",
   "id": "distant-kentucky",
   "metadata": {},
   "source": [
    "#### "
   ]
  },
  {
   "cell_type": "code",
   "execution_count": 52,
   "id": "metric-bikini",
   "metadata": {},
   "outputs": [
    {
     "data": {
      "text/plain": [
       "[1, 2, 'merhaba', 4, 5, 6, 7, 8, 9, 9]"
      ]
     },
     "execution_count": 52,
     "metadata": {},
     "output_type": "execute_result"
    }
   ],
   "source": [
    "liste4"
   ]
  },
  {
   "cell_type": "code",
   "execution_count": 53,
   "id": "vertical-morocco",
   "metadata": {},
   "outputs": [],
   "source": [
    "liste4.append(\"eklenen\")"
   ]
  },
  {
   "cell_type": "code",
   "execution_count": 54,
   "id": "invalid-screw",
   "metadata": {},
   "outputs": [
    {
     "data": {
      "text/plain": [
       "[1, 2, 'merhaba', 4, 5, 6, 7, 8, 9, 9, 'eklenen']"
      ]
     },
     "execution_count": 54,
     "metadata": {},
     "output_type": "execute_result"
    }
   ],
   "source": [
    "liste4"
   ]
  },
  {
   "cell_type": "code",
   "execution_count": 55,
   "id": "greek-concord",
   "metadata": {},
   "outputs": [
    {
     "data": {
      "text/plain": [
       "'eklenen'"
      ]
     },
     "execution_count": 55,
     "metadata": {},
     "output_type": "execute_result"
    }
   ],
   "source": [
    "liste4.pop()"
   ]
  },
  {
   "cell_type": "code",
   "execution_count": 56,
   "id": "painted-military",
   "metadata": {},
   "outputs": [
    {
     "data": {
      "text/plain": [
       "[1, 2, 'merhaba', 4, 5, 6, 7, 8, 9, 9]"
      ]
     },
     "execution_count": 56,
     "metadata": {},
     "output_type": "execute_result"
    }
   ],
   "source": [
    "liste4"
   ]
  },
  {
   "cell_type": "code",
   "execution_count": 57,
   "id": "moved-patient",
   "metadata": {},
   "outputs": [
    {
     "data": {
      "text/plain": [
       "'merhaba'"
      ]
     },
     "execution_count": 57,
     "metadata": {},
     "output_type": "execute_result"
    }
   ],
   "source": [
    "liste4.pop(2)"
   ]
  },
  {
   "cell_type": "code",
   "execution_count": 58,
   "id": "varied-turner",
   "metadata": {},
   "outputs": [
    {
     "data": {
      "text/plain": [
       "[1, 2, 4, 5, 6, 7, 8, 9, 9]"
      ]
     },
     "execution_count": 58,
     "metadata": {},
     "output_type": "execute_result"
    }
   ],
   "source": [
    "liste4"
   ]
  },
  {
   "cell_type": "code",
   "execution_count": 59,
   "id": "mobile-february",
   "metadata": {},
   "outputs": [],
   "source": [
    "liste5 = [23,5,78,13,9,100,45,1]"
   ]
  },
  {
   "cell_type": "code",
   "execution_count": 60,
   "id": "criminal-fever",
   "metadata": {},
   "outputs": [],
   "source": [
    "liste5.sort()"
   ]
  },
  {
   "cell_type": "code",
   "execution_count": 61,
   "id": "refined-woman",
   "metadata": {},
   "outputs": [
    {
     "data": {
      "text/plain": [
       "[1, 5, 9, 13, 23, 45, 78, 100]"
      ]
     },
     "execution_count": 61,
     "metadata": {},
     "output_type": "execute_result"
    }
   ],
   "source": [
    "liste5"
   ]
  },
  {
   "cell_type": "code",
   "execution_count": 62,
   "id": "engaging-spouse",
   "metadata": {},
   "outputs": [],
   "source": [
    "liste5.sort(reverse = True)"
   ]
  },
  {
   "cell_type": "code",
   "execution_count": 63,
   "id": "progressive-requirement",
   "metadata": {},
   "outputs": [
    {
     "data": {
      "text/plain": [
       "[100, 78, 45, 23, 13, 9, 5, 1]"
      ]
     },
     "execution_count": 63,
     "metadata": {},
     "output_type": "execute_result"
    }
   ],
   "source": [
    "liste5"
   ]
  },
  {
   "cell_type": "code",
   "execution_count": 64,
   "id": "genetic-therapist",
   "metadata": {},
   "outputs": [],
   "source": [
    "liste6 = [\"merhaba\" , \"yazılımcı\" , \"kalem\" , \"adana\" , \"zeytin\"]"
   ]
  },
  {
   "cell_type": "code",
   "execution_count": 65,
   "id": "destroyed-communist",
   "metadata": {},
   "outputs": [],
   "source": [
    "liste6.sort()"
   ]
  },
  {
   "cell_type": "code",
   "execution_count": 66,
   "id": "dynamic-bahamas",
   "metadata": {},
   "outputs": [
    {
     "data": {
      "text/plain": [
       "['adana', 'kalem', 'merhaba', 'yazılımcı', 'zeytin']"
      ]
     },
     "execution_count": 66,
     "metadata": {},
     "output_type": "execute_result"
    }
   ],
   "source": [
    "liste6"
   ]
  },
  {
   "cell_type": "code",
   "execution_count": 67,
   "id": "reported-pacific",
   "metadata": {},
   "outputs": [],
   "source": [
    "liste6.sort(reverse = True)"
   ]
  },
  {
   "cell_type": "code",
   "execution_count": 68,
   "id": "heard-chance",
   "metadata": {},
   "outputs": [
    {
     "data": {
      "text/plain": [
       "['zeytin', 'yazılımcı', 'merhaba', 'kalem', 'adana']"
      ]
     },
     "execution_count": 68,
     "metadata": {},
     "output_type": "execute_result"
    }
   ],
   "source": [
    "liste6"
   ]
  },
  {
   "cell_type": "code",
   "execution_count": 71,
   "id": "behind-railway",
   "metadata": {},
   "outputs": [],
   "source": [
    "liste7 = liste6 + [[24 , 56 , 78]]"
   ]
  },
  {
   "cell_type": "code",
   "execution_count": 72,
   "id": "assigned-boulder",
   "metadata": {},
   "outputs": [
    {
     "data": {
      "text/plain": [
       "['zeytin', 'yazılımcı', 'merhaba', 'kalem', 'adana', [24, 56, 78]]"
      ]
     },
     "execution_count": 72,
     "metadata": {},
     "output_type": "execute_result"
    }
   ],
   "source": [
    "liste7"
   ]
  },
  {
   "cell_type": "code",
   "execution_count": 73,
   "id": "ethical-domain",
   "metadata": {},
   "outputs": [
    {
     "data": {
      "text/plain": [
       "24"
      ]
     },
     "execution_count": 73,
     "metadata": {},
     "output_type": "execute_result"
    }
   ],
   "source": [
    "liste7[5][0]"
   ]
  },
  {
   "cell_type": "code",
   "execution_count": null,
   "id": "friendly-reunion",
   "metadata": {},
   "outputs": [],
   "source": []
  }
 ],
 "metadata": {
  "kernelspec": {
   "display_name": "Python 3",
   "language": "python",
   "name": "python3"
  },
  "language_info": {
   "codemirror_mode": {
    "name": "ipython",
    "version": 3
   },
   "file_extension": ".py",
   "mimetype": "text/x-python",
   "name": "python",
   "nbconvert_exporter": "python",
   "pygments_lexer": "ipython3",
   "version": "3.9.1"
  }
 },
 "nbformat": 4,
 "nbformat_minor": 5
}
