{
 "cells": [
  {
   "cell_type": "markdown",
   "id": "immune-furniture",
   "metadata": {},
   "source": [
    "# game\n"
   ]
  },
  {
   "cell_type": "code",
   "execution_count": 4,
   "id": "serious-restoration",
   "metadata": {},
   "outputs": [
    {
     "name": "stdout",
     "output_type": "stream",
     "text": [
      "100\n",
      "90\n"
     ]
    }
   ],
   "source": [
    "armors = {\"iron\" : 10 , \"steel\" : 20}\n",
    "\n",
    "characters = {\n",
    "    \n",
    "    \"characterone\" : {\n",
    "        \"weapon\" : \"sword\",\n",
    "        \"power\" : 30,\n",
    "        \"health\" : 100,\n",
    "        \"armor\" : armors[\"iron\"]\n",
    "    },\n",
    "    \n",
    "    \"charactertwo\" : {\n",
    "        \"weapon\" : \"sword\",\n",
    "        \"power\" : 30,\n",
    "        \"health\" : 100,\n",
    "        \"armor\" : armors[\"steel\"]\n",
    "    }\n",
    "}\n",
    "\n",
    "def fight(attacking , advocate):\n",
    "    power = attacking[\"power\"]\n",
    "    health = advocate[\"health\"]\n",
    "    armor = advocate[\"armor\"]\n",
    "    damage = power - armor\n",
    "    health -= damage\n",
    "    advocate[\"health\"] = health\n",
    "    \n",
    "print(characters[\"charactertwo\"][\"health\"])\n",
    "fight(characters[\"characterone\"],characters[\"charactertwo\"])\n",
    "print(characters[\"charactertwo\"][\"health\"])"
   ]
  },
  {
   "cell_type": "code",
   "execution_count": null,
   "id": "adolescent-following",
   "metadata": {},
   "outputs": [],
   "source": []
  }
 ],
 "metadata": {
  "kernelspec": {
   "display_name": "Python 3",
   "language": "python",
   "name": "python3"
  },
  "language_info": {
   "codemirror_mode": {
    "name": "ipython",
    "version": 3
   },
   "file_extension": ".py",
   "mimetype": "text/x-python",
   "name": "python",
   "nbconvert_exporter": "python",
   "pygments_lexer": "ipython3",
   "version": "3.9.1"
  }
 },
 "nbformat": 4,
 "nbformat_minor": 5
}
