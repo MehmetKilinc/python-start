{
 "cells": [
  {
   "cell_type": "code",
   "execution_count": 2,
   "id": "framed-newark",
   "metadata": {},
   "outputs": [
    {
     "name": "stdout",
     "output_type": "stream",
     "text": [
      "0 1 2 3 4 5 6 7 8 9 10 11 12 13 14 15 16 17 18 19\n"
     ]
    }
   ],
   "source": [
    "print(*range(0,20))"
   ]
  },
  {
   "cell_type": "code",
   "execution_count": 3,
   "id": "returning-court",
   "metadata": {},
   "outputs": [
    {
     "name": "stdout",
     "output_type": "stream",
     "text": [
      "0 5 10 15\n"
     ]
    }
   ],
   "source": [
    "print(*range(0,20,5))"
   ]
  },
  {
   "cell_type": "code",
   "execution_count": 4,
   "id": "cloudy-return",
   "metadata": {},
   "outputs": [
    {
     "name": "stdout",
     "output_type": "stream",
     "text": [
      "sayı gir : 9\n",
      "0 9 18 27 36 45 54 63 72 81 90 99\n"
     ]
    }
   ],
   "source": [
    "sayı = int(input(\"sayı gir : \"))\n",
    "\n",
    "print(*range(0,100,sayı))"
   ]
  },
  {
   "cell_type": "code",
   "execution_count": 5,
   "id": "guilty-mining",
   "metadata": {},
   "outputs": [
    {
     "name": "stdout",
     "output_type": "stream",
     "text": [
      "20 19 18 17 16 15 14 13 12 11 10 9 8 7 6 5 4 3 2 1\n"
     ]
    }
   ],
   "source": [
    "print(*range(20,0,-1))"
   ]
  },
  {
   "cell_type": "code",
   "execution_count": 7,
   "id": "broke-presence",
   "metadata": {},
   "outputs": [
    {
     "name": "stdout",
     "output_type": "stream",
     "text": [
      "\n",
      "*\n",
      "**\n",
      "***\n",
      "****\n",
      "*****\n",
      "******\n",
      "*******\n",
      "********\n",
      "*********\n"
     ]
    }
   ],
   "source": [
    "for i in range(10):\n",
    "    print(\"*\" * i)"
   ]
  },
  {
   "cell_type": "code",
   "execution_count": 9,
   "id": "spectacular-brake",
   "metadata": {},
   "outputs": [
    {
     "name": "stdout",
     "output_type": "stream",
     "text": [
      "  \n",
      "* * *\n",
      "** ** **\n",
      "*** *** ***\n",
      "**** **** ****\n",
      "***** ***** *****\n",
      "****** ****** ******\n",
      "******* ******* *******\n",
      "******** ******** ********\n",
      "********* ********* *********\n"
     ]
    }
   ],
   "source": [
    "for i in range(10):\n",
    "    print(\"*\" * i , \"*\" * i , \"*\" * i )"
   ]
  },
  {
   "cell_type": "code",
   "execution_count": null,
   "id": "incredible-helmet",
   "metadata": {},
   "outputs": [],
   "source": [
    "\n",
    "\n",
    "\n"
   ]
  },
  {
   "cell_type": "code",
   "execution_count": 12,
   "id": "lesser-dakota",
   "metadata": {},
   "outputs": [
    {
     "name": "stdout",
     "output_type": "stream",
     "text": [
      "i :  0\n",
      "i :  1\n",
      "i :  2\n",
      "i :  3\n",
      "i :  4\n",
      "i :  5\n",
      "i :  6\n",
      "i :  7\n",
      "i :  8\n",
      "i :  9\n",
      "i :  10\n"
     ]
    }
   ],
   "source": [
    "i = 0\n",
    "\n",
    "while(i < 15):\n",
    "    print(\"i : \", i)\n",
    "    i += 1\n",
    "    \n",
    "    if (i == 11):\n",
    "        break"
   ]
  },
  {
   "cell_type": "code",
   "execution_count": null,
   "id": "thick-fundamentals",
   "metadata": {},
   "outputs": [],
   "source": [
    "while True:\n",
    "    isim = input(\"isim giriniz :\")\n",
    "    print(\"isim = \" , isim)\n",
    "    a = input(\"çıkmak için Q ya basın\")\n",
    "    if (a == \"q\" or a == \"Q\"):\n",
    "       \n",
    "        print(\"çıkış yapılıyor..\")\n",
    "        break"
   ]
  }
 ],
 "metadata": {
  "kernelspec": {
   "display_name": "Python 3",
   "language": "python",
   "name": "python3"
  },
  "language_info": {
   "codemirror_mode": {
    "name": "ipython",
    "version": 3
   },
   "file_extension": ".py",
   "mimetype": "text/x-python",
   "name": "python",
   "nbconvert_exporter": "python",
   "pygments_lexer": "ipython3",
   "version": "3.9.1"
  }
 },
 "nbformat": 4,
 "nbformat_minor": 5
}
