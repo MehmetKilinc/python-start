{
 "cells": [
  {
   "cell_type": "markdown",
   "id": "intense-employee",
   "metadata": {},
   "source": [
    "# ##lambda ifadeleri"
   ]
  },
  {
   "cell_type": "code",
   "execution_count": 1,
   "id": "defensive-management",
   "metadata": {},
   "outputs": [],
   "source": [
    "liste1 = [1,2,3,4,5,6,7,8,9]\n",
    "\n",
    "liste2 = [i * 2 for i in liste1]\n",
    "\n"
   ]
  },
  {
   "cell_type": "code",
   "execution_count": 2,
   "id": "flush-metropolitan",
   "metadata": {},
   "outputs": [
    {
     "data": {
      "text/plain": [
       "[2, 4, 6, 8, 10, 12, 14, 16, 18]"
      ]
     },
     "execution_count": 2,
     "metadata": {},
     "output_type": "execute_result"
    }
   ],
   "source": [
    "liste2"
   ]
  },
  {
   "cell_type": "code",
   "execution_count": 3,
   "id": "meaning-economy",
   "metadata": {},
   "outputs": [],
   "source": [
    "def karesinial(x):\n",
    "    return x * x\n"
   ]
  },
  {
   "cell_type": "code",
   "execution_count": 4,
   "id": "passing-clone",
   "metadata": {},
   "outputs": [
    {
     "data": {
      "text/plain": [
       "25"
      ]
     },
     "execution_count": 4,
     "metadata": {},
     "output_type": "execute_result"
    }
   ],
   "source": [
    "karesinial(5)"
   ]
  },
  {
   "cell_type": "code",
   "execution_count": 5,
   "id": "defined-motor",
   "metadata": {},
   "outputs": [],
   "source": [
    "küpünüal = lambda x : x*x*x"
   ]
  },
  {
   "cell_type": "code",
   "execution_count": 6,
   "id": "distinct-latitude",
   "metadata": {},
   "outputs": [
    {
     "name": "stdout",
     "output_type": "stream",
     "text": [
      "512\n"
     ]
    }
   ],
   "source": [
    "print(küpünüal(8))"
   ]
  },
  {
   "cell_type": "code",
   "execution_count": null,
   "id": "narrative-aerospace",
   "metadata": {},
   "outputs": [],
   "source": [
    "\n",
    "\n",
    "\n"
   ]
  },
  {
   "cell_type": "code",
   "execution_count": 7,
   "id": "separated-algebra",
   "metadata": {},
   "outputs": [],
   "source": [
    "toplama = lambda x,y,z : x+y+z"
   ]
  },
  {
   "cell_type": "code",
   "execution_count": 8,
   "id": "existing-reserve",
   "metadata": {},
   "outputs": [
    {
     "name": "stdout",
     "output_type": "stream",
     "text": [
      "6\n"
     ]
    }
   ],
   "source": [
    "print(toplama(1,2,3))"
   ]
  },
  {
   "cell_type": "code",
   "execution_count": null,
   "id": "angry-grove",
   "metadata": {},
   "outputs": [],
   "source": [
    "\n",
    "\n"
   ]
  },
  {
   "cell_type": "code",
   "execution_count": 9,
   "id": "effective-determination",
   "metadata": {},
   "outputs": [],
   "source": [
    "def terscevirme(y):\n",
    "    return y[::-1]"
   ]
  },
  {
   "cell_type": "code",
   "execution_count": 10,
   "id": "enclosed-swing",
   "metadata": {},
   "outputs": [
    {
     "data": {
      "text/plain": [
       "'reban abahrem'"
      ]
     },
     "execution_count": 10,
     "metadata": {},
     "output_type": "execute_result"
    }
   ],
   "source": [
    "terscevirme(\"merhaba naber\")"
   ]
  },
  {
   "cell_type": "code",
   "execution_count": 11,
   "id": "opposed-teens",
   "metadata": {},
   "outputs": [],
   "source": [
    "terscevir2 = lambda z : z[::-1]"
   ]
  },
  {
   "cell_type": "code",
   "execution_count": 12,
   "id": "advisory-texas",
   "metadata": {},
   "outputs": [
    {
     "data": {
      "text/plain": [
       "'aynüd abahrem'"
      ]
     },
     "execution_count": 12,
     "metadata": {},
     "output_type": "execute_result"
    }
   ],
   "source": [
    "terscevir2(\"merhaba dünya\")"
   ]
  },
  {
   "cell_type": "code",
   "execution_count": null,
   "id": "vital-cruise",
   "metadata": {},
   "outputs": [],
   "source": [
    "\n",
    "\n",
    "\n"
   ]
  },
  {
   "cell_type": "code",
   "execution_count": 13,
   "id": "perfect-horror",
   "metadata": {},
   "outputs": [],
   "source": [
    "def tekcift(a):\n",
    "    return a % 2 == 0\n",
    "\n"
   ]
  },
  {
   "cell_type": "code",
   "execution_count": 14,
   "id": "flying-flexibility",
   "metadata": {},
   "outputs": [
    {
     "data": {
      "text/plain": [
       "True"
      ]
     },
     "execution_count": 14,
     "metadata": {},
     "output_type": "execute_result"
    }
   ],
   "source": [
    "tekcift(8)"
   ]
  },
  {
   "cell_type": "code",
   "execution_count": 15,
   "id": "wicked-quality",
   "metadata": {},
   "outputs": [
    {
     "data": {
      "text/plain": [
       "False"
      ]
     },
     "execution_count": 15,
     "metadata": {},
     "output_type": "execute_result"
    }
   ],
   "source": [
    "tekcift(7)"
   ]
  },
  {
   "cell_type": "code",
   "execution_count": null,
   "id": "moving-vaccine",
   "metadata": {},
   "outputs": [],
   "source": [
    "\n",
    "\n"
   ]
  },
  {
   "cell_type": "code",
   "execution_count": 17,
   "id": "limited-equality",
   "metadata": {},
   "outputs": [],
   "source": [
    "tekcift2 = lambda a : a % 2 == 0"
   ]
  },
  {
   "cell_type": "code",
   "execution_count": 18,
   "id": "upset-particular",
   "metadata": {},
   "outputs": [
    {
     "data": {
      "text/plain": [
       "False"
      ]
     },
     "execution_count": 18,
     "metadata": {},
     "output_type": "execute_result"
    }
   ],
   "source": [
    "tekcift2(3)"
   ]
  },
  {
   "cell_type": "code",
   "execution_count": 19,
   "id": "proof-facial",
   "metadata": {},
   "outputs": [
    {
     "data": {
      "text/plain": [
       "True"
      ]
     },
     "execution_count": 19,
     "metadata": {},
     "output_type": "execute_result"
    }
   ],
   "source": [
    "tekcift(4)"
   ]
  },
  {
   "cell_type": "code",
   "execution_count": null,
   "id": "removable-capital",
   "metadata": {},
   "outputs": [],
   "source": []
  }
 ],
 "metadata": {
  "kernelspec": {
   "display_name": "Python 3",
   "language": "python",
   "name": "python3"
  },
  "language_info": {
   "codemirror_mode": {
    "name": "ipython",
    "version": 3
   },
   "file_extension": ".py",
   "mimetype": "text/x-python",
   "name": "python",
   "nbconvert_exporter": "python",
   "pygments_lexer": "ipython3",
   "version": "3.9.1"
  }
 },
 "nbformat": 4,
 "nbformat_minor": 5
}
