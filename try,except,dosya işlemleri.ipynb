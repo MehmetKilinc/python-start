{
 "cells": [
  {
   "cell_type": "code",
   "execution_count": 2,
   "id": "unique-voltage",
   "metadata": {},
   "outputs": [
    {
     "ename": "ValueError",
     "evalue": "invalid literal for int() with base 10: 'fjhg589678956'",
     "output_type": "error",
     "traceback": [
      "\u001b[1;31m---------------------------------------------------------------------------\u001b[0m",
      "\u001b[1;31mValueError\u001b[0m                                Traceback (most recent call last)",
      "\u001b[1;32m<ipython-input-2-4f8e32201cd9>\u001b[0m in \u001b[0;36m<module>\u001b[1;34m\u001b[0m\n\u001b[1;32m----> 1\u001b[1;33m \u001b[0ma\u001b[0m \u001b[1;33m=\u001b[0m \u001b[0mint\u001b[0m\u001b[1;33m(\u001b[0m\u001b[1;34m\"fjhg589678956\"\u001b[0m\u001b[1;33m)\u001b[0m\u001b[1;33m\u001b[0m\u001b[1;33m\u001b[0m\u001b[0m\n\u001b[0m",
      "\u001b[1;31mValueError\u001b[0m: invalid literal for int() with base 10: 'fjhg589678956'"
     ]
    }
   ],
   "source": [
    "a = int(\"fjhg589678956\")"
   ]
  },
  {
   "cell_type": "code",
   "execution_count": 6,
   "id": "mounted-printer",
   "metadata": {},
   "outputs": [
    {
     "name": "stdout",
     "output_type": "stream",
     "text": [
      "bir hata var\n"
     ]
    }
   ],
   "source": [
    "try:\n",
    "    \n",
    "    a = int(\"jhrgpıu8546797\")\n",
    "    \n",
    "    print(a)\n",
    "    \n",
    "except:            #sadece except yazarsak bütün hataları kapsar\n",
    "    \n",
    "    print(\"bir hata var\")"
   ]
  },
  {
   "cell_type": "code",
   "execution_count": 7,
   "id": "hidden-forty",
   "metadata": {},
   "outputs": [
    {
     "name": "stdout",
     "output_type": "stream",
     "text": [
      "yanlış değer girdiniz..\n"
     ]
    }
   ],
   "source": [
    "try:\n",
    "    \n",
    "    c = int(\"rfhjg6576\")\n",
    "    \n",
    "    print(c)\n",
    "    \n",
    "except ValueError:\n",
    "    \n",
    "    print(\"yanlış değer girdiniz..\")"
   ]
  },
  {
   "cell_type": "code",
   "execution_count": 8,
   "id": "valued-rapid",
   "metadata": {},
   "outputs": [
    {
     "name": "stdout",
     "output_type": "stream",
     "text": [
      "345\n"
     ]
    }
   ],
   "source": [
    "try:\n",
    "    \n",
    "    b = int(345)\n",
    "    print(b)\n",
    "    \n",
    "except:\n",
    "    \n",
    "    print(\"bir hata var\")"
   ]
  },
  {
   "cell_type": "code",
   "execution_count": 9,
   "id": "fuzzy-senegal",
   "metadata": {},
   "outputs": [
    {
     "ename": "ZeroDivisionError",
     "evalue": "division by zero",
     "output_type": "error",
     "traceback": [
      "\u001b[1;31m---------------------------------------------------------------------------\u001b[0m",
      "\u001b[1;31mZeroDivisionError\u001b[0m                         Traceback (most recent call last)",
      "\u001b[1;32m<ipython-input-9-8b4ac6d3a3e1>\u001b[0m in \u001b[0;36m<module>\u001b[1;34m\u001b[0m\n\u001b[1;32m----> 1\u001b[1;33m \u001b[1;36m2\u001b[0m \u001b[1;33m/\u001b[0m \u001b[1;36m0\u001b[0m\u001b[1;33m\u001b[0m\u001b[1;33m\u001b[0m\u001b[0m\n\u001b[0m",
      "\u001b[1;31mZeroDivisionError\u001b[0m: division by zero"
     ]
    }
   ],
   "source": [
    "2 / 0"
   ]
  },
  {
   "cell_type": "code",
   "execution_count": 10,
   "id": "passing-pioneer",
   "metadata": {},
   "outputs": [
    {
     "name": "stdout",
     "output_type": "stream",
     "text": [
      "bir sayıyı sıfıra bölünmez..\n"
     ]
    }
   ],
   "source": [
    "try:\n",
    "    \n",
    "    2 / 0\n",
    "    \n",
    "except ZeroDivisionError:\n",
    "    \n",
    "    print(\"bir sayıyı sıfıra bölünmez..\")"
   ]
  },
  {
   "cell_type": "markdown",
   "id": "second-morning",
   "metadata": {},
   "source": [
    "# finally"
   ]
  },
  {
   "cell_type": "code",
   "execution_count": 14,
   "id": "listed-commitment",
   "metadata": {},
   "outputs": [
    {
     "name": "stdout",
     "output_type": "stream",
     "text": [
      "bir sayıyı sıfıra bölünmez..\n",
      "bu blok çalıştı\n"
     ]
    }
   ],
   "source": [
    "try:\n",
    "    \n",
    "    2 / 0\n",
    "    \n",
    "except ZeroDivisionError:\n",
    "    \n",
    "    print(\"bir sayıyı sıfıra bölünmez..\")\n",
    "    \n",
    "finally:                     #finally bloğunda yazılanlar hata olsada olmasada çalıştırılır\n",
    "    \n",
    "    print(\"bu blok çalıştı\")"
   ]
  },
  {
   "cell_type": "code",
   "execution_count": null,
   "id": "convinced-gabriel",
   "metadata": {},
   "outputs": [],
   "source": [
    "\n",
    "\n",
    "\n",
    "\n"
   ]
  },
  {
   "cell_type": "markdown",
   "id": "national-printing",
   "metadata": {},
   "source": [
    "# raise"
   ]
  },
  {
   "cell_type": "code",
   "execution_count": 20,
   "id": "balanced-japanese",
   "metadata": {},
   "outputs": [],
   "source": [
    "def terscevir(metin):\n",
    "    \n",
    "    if (type(metin) != str):\n",
    "        \n",
    "        raise ValueError(\"string bir değer girmeniz gerekmektedir.\")    #valueerror hatasının yanında bu yazıyı yazdırır\n",
    "        \n",
    "    else:\n",
    "        \n",
    "        print(metin[::-1])"
   ]
  },
  {
   "cell_type": "code",
   "execution_count": 21,
   "id": "increased-garage",
   "metadata": {},
   "outputs": [
    {
     "name": "stdout",
     "output_type": "stream",
     "text": [
      "abahrem\n"
     ]
    }
   ],
   "source": [
    "terscevir(\"merhaba\")"
   ]
  },
  {
   "cell_type": "code",
   "execution_count": 22,
   "id": "active-texture",
   "metadata": {},
   "outputs": [
    {
     "ename": "ValueError",
     "evalue": "string bir değer girmeniz gerekmektedir.",
     "output_type": "error",
     "traceback": [
      "\u001b[1;31m---------------------------------------------------------------------------\u001b[0m",
      "\u001b[1;31mValueError\u001b[0m                                Traceback (most recent call last)",
      "\u001b[1;32m<ipython-input-22-ba2a2a1d8f00>\u001b[0m in \u001b[0;36m<module>\u001b[1;34m\u001b[0m\n\u001b[1;32m----> 1\u001b[1;33m \u001b[0mterscevir\u001b[0m\u001b[1;33m(\u001b[0m\u001b[1;36m456\u001b[0m\u001b[1;33m)\u001b[0m\u001b[1;33m\u001b[0m\u001b[1;33m\u001b[0m\u001b[0m\n\u001b[0m",
      "\u001b[1;32m<ipython-input-20-286280b2a0f0>\u001b[0m in \u001b[0;36mterscevir\u001b[1;34m(metin)\u001b[0m\n\u001b[0;32m      3\u001b[0m     \u001b[1;32mif\u001b[0m \u001b[1;33m(\u001b[0m\u001b[0mtype\u001b[0m\u001b[1;33m(\u001b[0m\u001b[0mmetin\u001b[0m\u001b[1;33m)\u001b[0m \u001b[1;33m!=\u001b[0m \u001b[0mstr\u001b[0m\u001b[1;33m)\u001b[0m\u001b[1;33m:\u001b[0m\u001b[1;33m\u001b[0m\u001b[1;33m\u001b[0m\u001b[0m\n\u001b[0;32m      4\u001b[0m \u001b[1;33m\u001b[0m\u001b[0m\n\u001b[1;32m----> 5\u001b[1;33m         \u001b[1;32mraise\u001b[0m \u001b[0mValueError\u001b[0m\u001b[1;33m(\u001b[0m\u001b[1;34m\"string bir değer girmeniz gerekmektedir.\"\u001b[0m\u001b[1;33m)\u001b[0m    \u001b[1;31m#valueerror hatasının yanında bu yazıyı yazdırır\u001b[0m\u001b[1;33m\u001b[0m\u001b[1;33m\u001b[0m\u001b[0m\n\u001b[0m\u001b[0;32m      6\u001b[0m \u001b[1;33m\u001b[0m\u001b[0m\n\u001b[0;32m      7\u001b[0m     \u001b[1;32melse\u001b[0m\u001b[1;33m:\u001b[0m\u001b[1;33m\u001b[0m\u001b[1;33m\u001b[0m\u001b[0m\n",
      "\u001b[1;31mValueError\u001b[0m: string bir değer girmeniz gerekmektedir."
     ]
    }
   ],
   "source": [
    "terscevir(456)"
   ]
  },
  {
   "cell_type": "markdown",
   "id": "desperate-browser",
   "metadata": {},
   "source": [
    "string bir değer girmeniz gerekmektedir yazısını yazdırdı"
   ]
  },
  {
   "cell_type": "code",
   "execution_count": null,
   "id": "mobile-vinyl",
   "metadata": {},
   "outputs": [],
   "source": [
    "\n",
    "\n",
    "\n"
   ]
  },
  {
   "cell_type": "code",
   "execution_count": 23,
   "id": "accessory-water",
   "metadata": {},
   "outputs": [
    {
     "name": "stdout",
     "output_type": "stream",
     "text": [
      "abahrem\n",
      "None\n"
     ]
    }
   ],
   "source": [
    "try:\n",
    "    \n",
    "    print(terscevir(\"merhaba\"))\n",
    "    \n",
    "except ValueError:\n",
    "    \n",
    "    print(\"fonksiyon hata verdi\")"
   ]
  },
  {
   "cell_type": "code",
   "execution_count": 24,
   "id": "promotional-orange",
   "metadata": {},
   "outputs": [
    {
     "name": "stdout",
     "output_type": "stream",
     "text": [
      "fonksiyon hata verdi\n"
     ]
    }
   ],
   "source": [
    "try:\n",
    "    \n",
    "    print(terscevir(45646))\n",
    "    \n",
    "except ValueError:\n",
    "    \n",
    "    print(\"fonksiyon hata verdi\")"
   ]
  },
  {
   "cell_type": "code",
   "execution_count": null,
   "id": "combined-carbon",
   "metadata": {},
   "outputs": [],
   "source": [
    "\n",
    "\n",
    "\n",
    "\n"
   ]
  },
  {
   "cell_type": "markdown",
   "id": "intermediate-planet",
   "metadata": {},
   "source": [
    "# dosya açma ve yazma işlemleri"
   ]
  },
  {
   "cell_type": "code",
   "execution_count": null,
   "id": "experimental-conclusion",
   "metadata": {},
   "outputs": [],
   "source": [
    "\n",
    "\n",
    "\n"
   ]
  },
  {
   "cell_type": "markdown",
   "id": "acoustic-howard",
   "metadata": {},
   "source": [
    "# \"w\" dosya kipi"
   ]
  },
  {
   "cell_type": "code",
   "execution_count": 25,
   "id": "alternative-angel",
   "metadata": {},
   "outputs": [],
   "source": [
    "#w komutu eğer dosya yoksa bulunduğumuz dizine dosyayı açar ama aynı isimde dosya varsa o dosyayı siler \n",
    "#ve yerine yeni bir dosya açar"
   ]
  },
  {
   "cell_type": "code",
   "execution_count": 27,
   "id": "antique-ideal",
   "metadata": {},
   "outputs": [
    {
     "data": {
      "text/plain": [
       "<_io.TextIOWrapper name='ilkdosya.txt' mode='w' encoding='cp1254'>"
      ]
     },
     "execution_count": 27,
     "metadata": {},
     "output_type": "execute_result"
    }
   ],
   "source": [
    "open(\"ilkdosya.txt\",\"w\")     #open komutu dosyayı açar"
   ]
  },
  {
   "cell_type": "code",
   "execution_count": 28,
   "id": "existing-scout",
   "metadata": {},
   "outputs": [],
   "source": [
    "file = open(\"ilkdosya.txt\",\"w\")"
   ]
  },
  {
   "cell_type": "code",
   "execution_count": 30,
   "id": "public-jordan",
   "metadata": {},
   "outputs": [],
   "source": [
    "file.close()           #close komutuyla dosyayı kapatırız"
   ]
  },
  {
   "cell_type": "code",
   "execution_count": 32,
   "id": "miniature-bacteria",
   "metadata": {},
   "outputs": [],
   "source": [
    "file = open(\"merhaba..txt\",\"w\")"
   ]
  },
  {
   "cell_type": "code",
   "execution_count": 35,
   "id": "damaged-pizza",
   "metadata": {},
   "outputs": [
    {
     "ename": "ValueError",
     "evalue": "I/O operation on closed file.",
     "output_type": "error",
     "traceback": [
      "\u001b[1;31m---------------------------------------------------------------------------\u001b[0m",
      "\u001b[1;31mValueError\u001b[0m                                Traceback (most recent call last)",
      "\u001b[1;32m<ipython-input-35-f6971b0a2569>\u001b[0m in \u001b[0;36m<module>\u001b[1;34m\u001b[0m\n\u001b[1;32m----> 1\u001b[1;33m \u001b[0mfile\u001b[0m\u001b[1;33m.\u001b[0m\u001b[0mwrite\u001b[0m\u001b[1;33m(\u001b[0m\u001b[1;34m\"merhaba dünya\"\u001b[0m\u001b[1;33m)\u001b[0m      \u001b[1;31m#write  komutu dosyaya yazı yazdırmayı sağlar\u001b[0m\u001b[1;33m\u001b[0m\u001b[1;33m\u001b[0m\u001b[0m\n\u001b[0m",
      "\u001b[1;31mValueError\u001b[0m: I/O operation on closed file."
     ]
    }
   ],
   "source": [
    "file.write(\"merhaba dünya\")      #write  komutu dosyaya yazı yazdırmayı sağlar"
   ]
  },
  {
   "cell_type": "code",
   "execution_count": 36,
   "id": "opposed-yesterday",
   "metadata": {},
   "outputs": [],
   "source": [
    "file.close()"
   ]
  },
  {
   "cell_type": "code",
   "execution_count": null,
   "id": "classified-execution",
   "metadata": {},
   "outputs": [],
   "source": [
    "\n",
    "\n"
   ]
  },
  {
   "cell_type": "code",
   "execution_count": 37,
   "id": "freelance-range",
   "metadata": {},
   "outputs": [],
   "source": [
    "#ama içinde türkçe karakter olduğu için jupiterde hata verir okunmaz bu yüzden utf-8 le kodlamak gerekiyor"
   ]
  },
  {
   "cell_type": "code",
   "execution_count": 42,
   "id": "suited-movie",
   "metadata": {},
   "outputs": [],
   "source": [
    "file = open(\"merhaba.txt\",\"w\",encoding=\"utf-8\")"
   ]
  },
  {
   "cell_type": "code",
   "execution_count": 43,
   "id": "inappropriate-finish",
   "metadata": {},
   "outputs": [
    {
     "data": {
      "text/plain": [
       "13"
      ]
     },
     "execution_count": 43,
     "metadata": {},
     "output_type": "execute_result"
    }
   ],
   "source": [
    "file.write(\"merhaba dünya\")"
   ]
  },
  {
   "cell_type": "code",
   "execution_count": 45,
   "id": "trying-arena",
   "metadata": {},
   "outputs": [],
   "source": [
    "file.close()"
   ]
  },
  {
   "cell_type": "markdown",
   "id": "flush-jerusalem",
   "metadata": {},
   "source": [
    "# \"a\" kipi"
   ]
  },
  {
   "cell_type": "code",
   "execution_count": 46,
   "id": "mature-stage",
   "metadata": {},
   "outputs": [],
   "source": [
    "file = open(\"merhaba.txt\",\"a\" , encoding = \"utf-8\")"
   ]
  },
  {
   "cell_type": "code",
   "execution_count": 47,
   "id": "sweet-chinese",
   "metadata": {},
   "outputs": [],
   "source": [
    "#a kipinde eğer dosya yoksa açar varsa dosya kalır . silip tekrar açmaz"
   ]
  },
  {
   "cell_type": "code",
   "execution_count": 48,
   "id": "exotic-galaxy",
   "metadata": {},
   "outputs": [
    {
     "data": {
      "text/plain": [
       "21"
      ]
     },
     "execution_count": 48,
     "metadata": {},
     "output_type": "execute_result"
    }
   ],
   "source": [
    "file.write(\"\\nikinci merhaba dünya\")"
   ]
  },
  {
   "cell_type": "code",
   "execution_count": 49,
   "id": "soviet-gilbert",
   "metadata": {},
   "outputs": [],
   "source": [
    "file.close()"
   ]
  },
  {
   "cell_type": "code",
   "execution_count": 50,
   "id": "considered-student",
   "metadata": {},
   "outputs": [],
   "source": [
    "file = open(\"merhaba.txt\",\"a\",encoding = \"utf-8\")"
   ]
  },
  {
   "cell_type": "code",
   "execution_count": 51,
   "id": "settled-absence",
   "metadata": {},
   "outputs": [
    {
     "data": {
      "text/plain": [
       "22"
      ]
     },
     "execution_count": 51,
     "metadata": {},
     "output_type": "execute_result"
    }
   ],
   "source": [
    "file.write(\"\\n\\nüçüncü merhaba dünya\")"
   ]
  },
  {
   "cell_type": "code",
   "execution_count": 56,
   "id": "greenhouse-sharp",
   "metadata": {},
   "outputs": [],
   "source": [
    "file.close()"
   ]
  },
  {
   "cell_type": "code",
   "execution_count": null,
   "id": "daily-queens",
   "metadata": {},
   "outputs": [],
   "source": [
    "\n",
    "\n",
    "\n",
    "\n"
   ]
  },
  {
   "cell_type": "markdown",
   "id": "threatened-disaster",
   "metadata": {},
   "source": [
    "# dosyadaki verileri okumak"
   ]
  },
  {
   "cell_type": "code",
   "execution_count": 57,
   "id": "psychological-israel",
   "metadata": {},
   "outputs": [],
   "source": [
    "file = open(\"merhaba.txt\",\"r\",encoding=\"utf-8\")"
   ]
  },
  {
   "cell_type": "code",
   "execution_count": 58,
   "id": "pointed-clearing",
   "metadata": {},
   "outputs": [],
   "source": [
    "file.close()"
   ]
  },
  {
   "cell_type": "code",
   "execution_count": 59,
   "id": "central-protection",
   "metadata": {},
   "outputs": [
    {
     "ename": "FileNotFoundError",
     "evalue": "[Errno 2] No such file or directory: 'merhaba2.txt'",
     "output_type": "error",
     "traceback": [
      "\u001b[1;31m---------------------------------------------------------------------------\u001b[0m",
      "\u001b[1;31mFileNotFoundError\u001b[0m                         Traceback (most recent call last)",
      "\u001b[1;32m<ipython-input-59-8777e6479c3b>\u001b[0m in \u001b[0;36m<module>\u001b[1;34m\u001b[0m\n\u001b[1;32m----> 1\u001b[1;33m \u001b[0mfile\u001b[0m \u001b[1;33m=\u001b[0m \u001b[0mopen\u001b[0m\u001b[1;33m(\u001b[0m\u001b[1;34m\"merhaba2.txt\"\u001b[0m\u001b[1;33m,\u001b[0m\u001b[1;34m\"r\"\u001b[0m\u001b[1;33m)\u001b[0m\u001b[1;33m\u001b[0m\u001b[1;33m\u001b[0m\u001b[0m\n\u001b[0m",
      "\u001b[1;31mFileNotFoundError\u001b[0m: [Errno 2] No such file or directory: 'merhaba2.txt'"
     ]
    }
   ],
   "source": [
    "file = open(\"merhaba2.txt\",\"r\")"
   ]
  },
  {
   "cell_type": "code",
   "execution_count": 60,
   "id": "blond-direction",
   "metadata": {},
   "outputs": [],
   "source": [
    "#böyle bir dosya olmadığından hata verdi"
   ]
  },
  {
   "cell_type": "code",
   "execution_count": 61,
   "id": "informative-mineral",
   "metadata": {},
   "outputs": [],
   "source": [
    "try:\n",
    "    \n",
    "    file = open(\"merhaba.txt\",\"r\")\n",
    "    \n",
    "except FileNotFoundError:\n",
    "    \n",
    "    print(\"böyle bir dosya mevcut değildir\")"
   ]
  },
  {
   "cell_type": "code",
   "execution_count": 62,
   "id": "strategic-corrections",
   "metadata": {},
   "outputs": [
    {
     "name": "stdout",
     "output_type": "stream",
     "text": [
      "böyle bir dosya mevcut değildir\n"
     ]
    }
   ],
   "source": [
    "try:\n",
    "    \n",
    "    file = open(\"merhaba2.txt\",\"r\")\n",
    "    \n",
    "except FileNotFoundError:\n",
    "    \n",
    "    print(\"böyle bir dosya mevcut değildir\")"
   ]
  },
  {
   "cell_type": "code",
   "execution_count": 63,
   "id": "another-truck",
   "metadata": {},
   "outputs": [],
   "source": [
    "file.close()"
   ]
  },
  {
   "cell_type": "code",
   "execution_count": null,
   "id": "pursuant-wildlife",
   "metadata": {},
   "outputs": [],
   "source": [
    "\n",
    "\n",
    "\n"
   ]
  },
  {
   "cell_type": "code",
   "execution_count": 65,
   "id": "diagnostic-submission",
   "metadata": {},
   "outputs": [
    {
     "name": "stdout",
     "output_type": "stream",
     "text": [
      "merhaba dünya\n",
      "\n",
      "ikinci merhaba dünya\n",
      "\n",
      "\n",
      "\n",
      "üçüncü merhaba dünya\n"
     ]
    }
   ],
   "source": [
    "file = open(\"merhaba.txt\",\"r\",encoding = \"utf-8\")\n",
    "\n",
    "for i in file:\n",
    "    \n",
    "    print(i)        #burda fonksiyon kendiliğinden bir tane \\n daha koyar bunu engellemek için aşağıdaki kod kullanılır\n",
    "    \n",
    "file.close()"
   ]
  },
  {
   "cell_type": "code",
   "execution_count": 66,
   "id": "bizarre-spanking",
   "metadata": {},
   "outputs": [
    {
     "name": "stdout",
     "output_type": "stream",
     "text": [
      "merhaba dünya\n",
      "ikinci merhaba dünya\n",
      "\n",
      "üçüncü merhaba dünya"
     ]
    }
   ],
   "source": [
    "file = open(\"merhaba.txt\",\"r\",encoding = \"utf-8\")\n",
    "\n",
    "for i in file:\n",
    "    \n",
    "    print(i , end = \"\")\n",
    "    \n",
    "file.close()"
   ]
  },
  {
   "cell_type": "code",
   "execution_count": null,
   "id": "military-speaking",
   "metadata": {},
   "outputs": [],
   "source": [
    "\n",
    "\n"
   ]
  },
  {
   "cell_type": "markdown",
   "id": "numeric-rendering",
   "metadata": {},
   "source": [
    "for döngüsü olmadan okumak"
   ]
  },
  {
   "cell_type": "code",
   "execution_count": 68,
   "id": "requested-fabric",
   "metadata": {},
   "outputs": [
    {
     "name": "stdout",
     "output_type": "stream",
     "text": [
      "merhaba dünya\n",
      "ikinci merhaba dünya\n",
      "\n",
      "üçüncü merhaba dünya\n"
     ]
    },
    {
     "data": {
      "text/plain": [
       "<function TextIOWrapper.close()>"
      ]
     },
     "execution_count": 68,
     "metadata": {},
     "output_type": "execute_result"
    }
   ],
   "source": [
    "file = open(\"merhaba.txt\",\"r\",encoding = \"utf-8\")\n",
    "\n",
    "okuma = file.read()\n",
    "\n",
    "print(okuma)\n",
    "\n",
    "file.close"
   ]
  },
  {
   "cell_type": "code",
   "execution_count": 76,
   "id": "driven-clothing",
   "metadata": {},
   "outputs": [],
   "source": [
    "file = open(\"merhaba.txt\",\"r\",encoding = \"utf-8\")"
   ]
  },
  {
   "cell_type": "code",
   "execution_count": 77,
   "id": "demanding-layout",
   "metadata": {},
   "outputs": [
    {
     "name": "stdout",
     "output_type": "stream",
     "text": [
      "merhaba dünya\n",
      "\n",
      "ikinci merhaba dünya\n",
      "\n"
     ]
    }
   ],
   "source": [
    "print(file.readline())              #readline yazarak dosyanın ilk satırını okuruz\n",
    "print(file.readline())              #bir daha yazdığımızda ikinci satırı okur bu şekilde devam eder\n",
    "file.close()"
   ]
  },
  {
   "cell_type": "code",
   "execution_count": null,
   "id": "single-table",
   "metadata": {},
   "outputs": [],
   "source": [
    "\n",
    "\n"
   ]
  },
  {
   "cell_type": "code",
   "execution_count": 80,
   "id": "quarterly-nickel",
   "metadata": {},
   "outputs": [
    {
     "name": "stdout",
     "output_type": "stream",
     "text": [
      "['merhaba dünya\\n', 'ikinci merhaba dünya\\n', '\\n', 'üçüncü merhaba dünya']\n"
     ]
    }
   ],
   "source": [
    "file = open(\"merhaba.txt\",\"r\",encoding = \"utf-8\")\n",
    "\n",
    "liste = file.readlines()        #readlines  dosyanın her satırını bir listeye atar\n",
    "\n",
    "print(liste)\n",
    "\n",
    "file.close()"
   ]
  },
  {
   "cell_type": "code",
   "execution_count": null,
   "id": "assured-mother",
   "metadata": {},
   "outputs": [],
   "source": [
    "\n",
    "\n"
   ]
  },
  {
   "cell_type": "markdown",
   "id": "basic-chile",
   "metadata": {},
   "source": [
    "# dosyaları otomotik kapatma"
   ]
  },
  {
   "cell_type": "code",
   "execution_count": 82,
   "id": "seasonal-theme",
   "metadata": {},
   "outputs": [
    {
     "name": "stdout",
     "output_type": "stream",
     "text": [
      "merhaba dünya\n",
      "\n",
      "ikinci merhaba dünya\n",
      "\n",
      "\n",
      "\n",
      "üçüncü merhaba dünya\n"
     ]
    }
   ],
   "source": [
    "with open(\"merhaba.txt\",\"r\",encoding = \"utf-8\") as file:     #bu komutla dosya otomotik olarak kapanır işlemler bittikten sonra\n",
    "    \n",
    "    for i in file:\n",
    "        \n",
    "        print(i)"
   ]
  },
  {
   "cell_type": "code",
   "execution_count": 84,
   "id": "suburban-leone",
   "metadata": {},
   "outputs": [
    {
     "name": "stdout",
     "output_type": "stream",
     "text": [
      "merhaba dünya\n",
      "ikinci merhaba dünya\n",
      "\n",
      "üçüncü merhaba dünya\n"
     ]
    }
   ],
   "source": [
    "with open(\"merhaba.txt\",\"r\",encoding = \"utf-8\") as file:\n",
    "    \n",
    "    okuma = file.read()\n",
    "    \n",
    "    print(okuma)"
   ]
  },
  {
   "cell_type": "code",
   "execution_count": null,
   "id": "promotional-gravity",
   "metadata": {},
   "outputs": [],
   "source": [
    "\n",
    "\n"
   ]
  },
  {
   "cell_type": "markdown",
   "id": "sized-reality",
   "metadata": {},
   "source": [
    "# dosyada istenilen yerden okuma yapma"
   ]
  },
  {
   "cell_type": "code",
   "execution_count": 86,
   "id": "insured-incentive",
   "metadata": {},
   "outputs": [
    {
     "name": "stdout",
     "output_type": "stream",
     "text": [
      "0\n"
     ]
    }
   ],
   "source": [
    "with open(\"merhaba.txt\",\"r\",encoding = \"utf-8\") as file:\n",
    "    \n",
    "    print(file.tell())     #dosya içinde kaçıncı baytta olduğumuzu gösterir"
   ]
  },
  {
   "cell_type": "markdown",
   "id": "attractive-brick",
   "metadata": {},
   "source": [
    "burda sıfır yazdığından dolayı metinin başında olduğu anlaşılır"
   ]
  },
  {
   "cell_type": "code",
   "execution_count": 88,
   "id": "beginning-length",
   "metadata": {},
   "outputs": [
    {
     "name": "stdout",
     "output_type": "stream",
     "text": [
      "0\n",
      "22\n"
     ]
    }
   ],
   "source": [
    "with open(\"merhaba.txt\",\"r\",encoding = \"utf-8\") as file:\n",
    "    \n",
    "    print(file.tell())\n",
    "    \n",
    "    file.seek(22)              #bu komutla 22 . ci bytta geçildi . okuma burdan sonra devam eder\n",
    "    \n",
    "    print(file.tell())"
   ]
  },
  {
   "cell_type": "code",
   "execution_count": 92,
   "id": "dental-plumbing",
   "metadata": {},
   "outputs": [
    {
     "name": "stdout",
     "output_type": "stream",
     "text": [
      "27\n",
      "ba dünya\n",
      "ikinci merh\n"
     ]
    }
   ],
   "source": [
    "with open(\"merhaba.txt\",\"r\",encoding = \"utf-8\") as file:\n",
    "    \n",
    "    \n",
    "    file.seek(5)\n",
    "    \n",
    "    okuma = file.read(20)\n",
    "    \n",
    "    print(file.tell())\n",
    "    \n",
    "    print(okuma)"
   ]
  },
  {
   "cell_type": "markdown",
   "id": "collectible-market",
   "metadata": {},
   "source": [
    "5. byte ve 20.byte arasını okudu"
   ]
  },
  {
   "cell_type": "code",
   "execution_count": null,
   "id": "formal-peoples",
   "metadata": {},
   "outputs": [],
   "source": [
    "\n",
    "\n"
   ]
  },
  {
   "cell_type": "markdown",
   "id": "deadly-penny",
   "metadata": {},
   "source": [
    "# \"r+\"   komutu (hem dosyayı okumayı hemde yazmayı sağlıyor)"
   ]
  },
  {
   "cell_type": "code",
   "execution_count": 96,
   "id": "complex-hawaiian",
   "metadata": {},
   "outputs": [],
   "source": [
    "with open(\"merhaba.txt\",\"r+\",encoding = \"utf-8\") as file:\n",
    "    file.seek(0)\n",
    "    file.seek(20)    #20.ci byte gidildi\n",
    "    \n",
    "    file.write(\"yazıldı\")\n",
    "   "
   ]
  },
  {
   "cell_type": "code",
   "execution_count": 97,
   "id": "collected-subdivision",
   "metadata": {},
   "outputs": [
    {
     "name": "stdout",
     "output_type": "stream",
     "text": [
      "merhaba dünya\n",
      "ikinyazıldıa dünya\n",
      "\n",
      "üçüncü merhaba dünya\n"
     ]
    }
   ],
   "source": [
    "with open(\"merhaba.txt\",\"r+\",encoding = \"utf-8\") as file:\n",
    "    \n",
    "    print(file.read())"
   ]
  },
  {
   "cell_type": "code",
   "execution_count": null,
   "id": "frank-franklin",
   "metadata": {},
   "outputs": [],
   "source": [
    "\n",
    "\n"
   ]
  },
  {
   "cell_type": "markdown",
   "id": "immediate-mainstream",
   "metadata": {},
   "source": [
    "# dosyanın başına ekleme yapma "
   ]
  },
  {
   "cell_type": "code",
   "execution_count": 98,
   "id": "wireless-queen",
   "metadata": {},
   "outputs": [],
   "source": [
    "with open(\"merhaba.txt\",\"a\",encoding = \"utf-8\") as file:\n",
    "    \n",
    "    file.write(\"\\n eklenen 1\")"
   ]
  },
  {
   "cell_type": "code",
   "execution_count": 99,
   "id": "better-destruction",
   "metadata": {},
   "outputs": [
    {
     "name": "stdout",
     "output_type": "stream",
     "text": [
      "merhaba dünya\n",
      "ikinyazıldıa dünya\n",
      "\n",
      "üçüncü merhaba dünya\n",
      " eklenen 1\n"
     ]
    }
   ],
   "source": [
    "with open(\"merhaba.txt\",\"r+\",encoding = \"utf-8\") as file:\n",
    "    \n",
    "    print(file.read())"
   ]
  },
  {
   "cell_type": "markdown",
   "id": "enhanced-wichita",
   "metadata": {},
   "source": [
    "sona ekledi başa ekleme şu şekilde yapılır"
   ]
  },
  {
   "cell_type": "code",
   "execution_count": 103,
   "id": "historic-newfoundland",
   "metadata": {},
   "outputs": [
    {
     "name": "stdout",
     "output_type": "stream",
     "text": [
      "eklenen 2 merhaba dünya\n",
      "ikinyazıldıa dünya\n",
      "\n",
      "üçüncü merhaba dünya\n",
      " eklenen 1\n"
     ]
    }
   ],
   "source": [
    "with open(\"merhaba.txt\",\"r+\",encoding = \"utf-8\") as file:\n",
    "    \n",
    "    ekleme = file.read()\n",
    "    \n",
    "    ekleme = \"eklenen 2 \" + ekleme\n",
    "    \n",
    "    print(ekleme)"
   ]
  },
  {
   "cell_type": "code",
   "execution_count": null,
   "id": "composed-scholar",
   "metadata": {},
   "outputs": [],
   "source": [
    "\n",
    "\n"
   ]
  },
  {
   "cell_type": "markdown",
   "id": "requested-france",
   "metadata": {},
   "source": [
    "# dosyanın ortasına ekleme yapma"
   ]
  },
  {
   "cell_type": "code",
   "execution_count": 109,
   "id": "neutral-clerk",
   "metadata": {},
   "outputs": [
    {
     "name": "stdout",
     "output_type": "stream",
     "text": [
      "['merhaba dünya\\n', 'ikinyazıldıa dünya\\n', '\\n', 'eklenen3\\n', 'üçüncü merhaba dünya\\n', ' eklenen 1merhaba dünya\\n', 'ikinyazıldıa dünya\\n', '\\n', 'eklenen3\\n', 'üçüncü merhaba dünya\\n', ' eklenen 1merhaba dünya\\n', 'ikinyazıldıa dünya\\n', '\\n', 'eklenen3\\n', 'üçüncü merhaba dünya\\n', ' eklenen 1merhaba dünya\\n', 'ikinyazıldıa dünya\\n', '\\n', 'eklenen3\\n', 'üçüncü merhaba dünya\\n', ' eklenen 1']\n"
     ]
    }
   ],
   "source": [
    "with open(\"merhaba.txt\",\"r+\",encoding = \"utf-8\") as file:\n",
    "    \n",
    "    liste = file.readlines()    #her bir satırı listeye eleman olarak ekledi\n",
    "    \n",
    "    liste.insert(3,\"eklenen3\\n\")\n",
    "    \n",
    "    print(liste)\n",
    "    \n",
    "    for i in liste:\n",
    "        \n",
    "        file.write(i)\n",
    "        \n",
    "    "
   ]
  },
  {
   "cell_type": "code",
   "execution_count": 110,
   "id": "guided-friend",
   "metadata": {},
   "outputs": [
    {
     "name": "stdout",
     "output_type": "stream",
     "text": [
      "merhaba dünya\n",
      "ikinyazıldıa dünya\n",
      "\n",
      "üçüncü merhaba dünya\n",
      " eklenen 1merhaba dünya\n",
      "ikinyazıldıa dünya\n",
      "\n",
      "eklenen3\n",
      "üçüncü merhaba dünya\n",
      " eklenen 1merhaba dünya\n",
      "ikinyazıldıa dünya\n",
      "\n",
      "eklenen3\n",
      "üçüncü merhaba dünya\n",
      " eklenen 1merhaba dünya\n",
      "ikinyazıldıa dünya\n",
      "\n",
      "eklenen3\n",
      "üçüncü merhaba dünya\n",
      " eklenen 1merhaba dünya\n",
      "ikinyazıldıa dünya\n",
      "\n",
      "eklenen3\n",
      "üçüncü merhaba dünya\n",
      " eklenen 1merhaba dünya\n",
      "ikinyazıldıa dünya\n",
      "\n",
      "eklenen3\n",
      "üçüncü merhaba dünya\n",
      " eklenen 1merhaba dünya\n",
      "ikinyazıldıa dünya\n",
      "\n",
      "eklenen3\n",
      "üçüncü merhaba dünya\n",
      " eklenen 1merhaba dünya\n",
      "ikinyazıldıa dünya\n",
      "\n",
      "eklenen3\n",
      "üçüncü merhaba dünya\n",
      " eklenen 1\n"
     ]
    }
   ],
   "source": [
    "with open(\"merhaba.txt\",\"r+\",encoding = \"utf-8\") as file:\n",
    "    \n",
    "    print(file.read())"
   ]
  },
  {
   "cell_type": "code",
   "execution_count": null,
   "id": "protected-parts",
   "metadata": {},
   "outputs": [],
   "source": []
  }
 ],
 "metadata": {
  "kernelspec": {
   "display_name": "Python 3",
   "language": "python",
   "name": "python3"
  },
  "language_info": {
   "codemirror_mode": {
    "name": "ipython",
    "version": 3
   },
   "file_extension": ".py",
   "mimetype": "text/x-python",
   "name": "python",
   "nbconvert_exporter": "python",
   "pygments_lexer": "ipython3",
   "version": "3.9.1"
  }
 },
 "nbformat": 4,
 "nbformat_minor": 5
}
