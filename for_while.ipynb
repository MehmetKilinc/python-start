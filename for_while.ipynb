{
 "cells": [
  {
   "cell_type": "code",
   "execution_count": 1,
   "id": "alone-restaurant",
   "metadata": {},
   "outputs": [
    {
     "data": {
      "text/plain": [
       "True"
      ]
     },
     "execution_count": 1,
     "metadata": {},
     "output_type": "execute_result"
    }
   ],
   "source": [
    "\"a\" in \"ahmet\""
   ]
  },
  {
   "cell_type": "code",
   "execution_count": 2,
   "id": "computational-auditor",
   "metadata": {},
   "outputs": [
    {
     "data": {
      "text/plain": [
       "True"
      ]
     },
     "execution_count": 2,
     "metadata": {},
     "output_type": "execute_result"
    }
   ],
   "source": [
    "\"met\" in \"ahmet\""
   ]
  },
  {
   "cell_type": "code",
   "execution_count": 3,
   "id": "higher-sunday",
   "metadata": {},
   "outputs": [
    {
     "data": {
      "text/plain": [
       "False"
      ]
     },
     "execution_count": 3,
     "metadata": {},
     "output_type": "execute_result"
    }
   ],
   "source": [
    "\"ka\" in \"ahmet\""
   ]
  },
  {
   "cell_type": "code",
   "execution_count": 4,
   "id": "leading-brazil",
   "metadata": {},
   "outputs": [
    {
     "data": {
      "text/plain": [
       "True"
      ]
     },
     "execution_count": 4,
     "metadata": {},
     "output_type": "execute_result"
    }
   ],
   "source": [
    "7 in [3,4,6,7]"
   ]
  },
  {
   "cell_type": "code",
   "execution_count": 9,
   "id": "stretch-ground",
   "metadata": {},
   "outputs": [
    {
     "name": "stdout",
     "output_type": "stream",
     "text": [
      "eleman : 1   toplam : 1\n",
      "eleman : 2   toplam : 3\n",
      "eleman : 3   toplam : 6\n",
      "eleman : 4   toplam : 10\n",
      "eleman : 5   toplam : 15\n",
      "eleman : 6   toplam : 21\n"
     ]
    }
   ],
   "source": [
    "liste = [1,2,3,4,5,6]\n",
    "toplam = 0\n",
    "for i in liste:\n",
    "    \n",
    "    toplam += i\n",
    "    print(\"eleman : {}   toplam : {}\".format(i,toplam))\n"
   ]
  },
  {
   "cell_type": "code",
   "execution_count": 11,
   "id": "happy-reference",
   "metadata": {},
   "outputs": [
    {
     "name": "stdout",
     "output_type": "stream",
     "text": [
      "sayı : 0    durum : çift\n",
      "sayı : 1    durum : tek\n",
      "sayı : 24    durum : çift\n",
      "sayı : 56    durum : çift\n",
      "sayı : 97    durum : tek\n",
      "sayı : 45    durum : tek\n",
      "sayı : 67    durum : tek\n",
      "sayı : 23    durum : tek\n",
      "sayı : 108    durum : çift\n"
     ]
    }
   ],
   "source": [
    "liste2 = [0 , 1 , 24 , 56 , 97 , 45 , 67 , 23 , 108]\n",
    "\n",
    "for i in liste2:\n",
    "    if(i % 2 == 0):\n",
    "        print(\"sayı : {}    durum : çift\".format(i))\n",
    "    else:\n",
    "        print(\"sayı : {}    durum : tek\".format(i))"
   ]
  },
  {
   "cell_type": "code",
   "execution_count": 18,
   "id": "formed-coupon",
   "metadata": {},
   "outputs": [
    {
     "name": "stdout",
     "output_type": "stream",
     "text": [
      "(1, 2)\n",
      "(3, 4)\n",
      "(5, 6)\n"
     ]
    }
   ],
   "source": [
    "liste3 = [(1,2),(3,4),(5,6)]\n",
    "\n",
    "for i in liste3:\n",
    "    print(i)"
   ]
  },
  {
   "cell_type": "code",
   "execution_count": 19,
   "id": "incomplete-commercial",
   "metadata": {},
   "outputs": [
    {
     "name": "stdout",
     "output_type": "stream",
     "text": [
      "1 2\n",
      "3 4\n",
      "5 6\n"
     ]
    }
   ],
   "source": [
    "liste4 = [(1,2),(3,4),(5,6)]\n",
    "\n",
    "for i,j in liste4:\n",
    "    print(i,j)"
   ]
  },
  {
   "cell_type": "code",
   "execution_count": 20,
   "id": "waiting-wildlife",
   "metadata": {},
   "outputs": [
    {
     "name": "stdout",
     "output_type": "stream",
     "text": [
      "2\n",
      "12\n",
      "30\n"
     ]
    }
   ],
   "source": [
    "for i,j in liste4:\n",
    "    print(i * j)"
   ]
  },
  {
   "cell_type": "code",
   "execution_count": 21,
   "id": "worst-logan",
   "metadata": {},
   "outputs": [
    {
     "name": "stdout",
     "output_type": "stream",
     "text": [
      "bir\n",
      "iki\n",
      "üç\n",
      "dört\n"
     ]
    }
   ],
   "source": [
    "sozluk = {\"bir\" : 1 , \"iki\" : 2 , \"üç\" : 3 , \"dört\" : 4}\n",
    "\n",
    "for i in sozluk:\n",
    "    print(i)"
   ]
  },
  {
   "cell_type": "code",
   "execution_count": 24,
   "id": "absent-hypothesis",
   "metadata": {},
   "outputs": [
    {
     "name": "stdout",
     "output_type": "stream",
     "text": [
      "bir\n",
      "iki\n",
      "üç\n",
      "dört\n"
     ]
    }
   ],
   "source": [
    "for i in sozluk.keys():\n",
    "    print(i)"
   ]
  },
  {
   "cell_type": "code",
   "execution_count": 25,
   "id": "human-sally",
   "metadata": {},
   "outputs": [
    {
     "name": "stdout",
     "output_type": "stream",
     "text": [
      "1\n",
      "2\n",
      "3\n",
      "4\n"
     ]
    }
   ],
   "source": [
    "for i in sozluk.values():\n",
    "    print(i)"
   ]
  },
  {
   "cell_type": "code",
   "execution_count": 26,
   "id": "magnetic-eligibility",
   "metadata": {},
   "outputs": [
    {
     "name": "stdout",
     "output_type": "stream",
     "text": [
      "('bir', 1)\n",
      "('iki', 2)\n",
      "('üç', 3)\n",
      "('dört', 4)\n"
     ]
    }
   ],
   "source": [
    "for i in sozluk.items():\n",
    "    print(i)"
   ]
  },
  {
   "cell_type": "code",
   "execution_count": 30,
   "id": "infinite-stevens",
   "metadata": {},
   "outputs": [
    {
     "name": "stdout",
     "output_type": "stream",
     "text": [
      "anahtar :  bir \t\t değer : 1\n",
      "anahtar :  iki \t\t değer : 2\n",
      "anahtar :  üç \t\t değer : 3\n",
      "anahtar :  dört \t\t değer : 4\n"
     ]
    }
   ],
   "source": [
    "for i,j in sozluk.items():\n",
    "    print(\"anahtar : \", i , \"\\t\\t değer :\" , j)"
   ]
  },
  {
   "cell_type": "code",
   "execution_count": null,
   "id": "entitled-motion",
   "metadata": {},
   "outputs": [],
   "source": [
    "i = 0\n",
    "\n",
    "while (i < 10):\n",
    "    \n",
    "    print(\"i = \", i)\n",
    "    i += 1"
   ]
  },
  {
   "cell_type": "code",
   "execution_count": null,
   "id": "present-pontiac",
   "metadata": {},
   "outputs": [],
   "source": [
    "i = 0 \n",
    "\n",
    "while (i < 100):\n",
    "    print(\"i :\", i)\n",
    "    i += 7"
   ]
  },
  {
   "cell_type": "code",
   "execution_count": null,
   "id": "wooden-leone",
   "metadata": {},
   "outputs": [],
   "source": [
    "liste = [1,2,3,4,5,6,7]\n",
    "\n",
    "for i in liste:\n",
    "    print(i)"
   ]
  },
  {
   "cell_type": "code",
   "execution_count": null,
   "id": "official-campaign",
   "metadata": {},
   "outputs": [],
   "source": [
    "liste = [1,2,3,4,5,6,7]\n",
    "\n",
    "index = 0\n",
    "\n",
    "while(index < len(liste)):\n",
    "    print(\"index = \", index , \"değer = \",liste[index])\n",
    "    index += 1"
   ]
  },
  {
   "cell_type": "code",
   "execution_count": null,
   "id": "ultimate-feelings",
   "metadata": {},
   "outputs": [],
   "source": []
  }
 ],
 "metadata": {
  "kernelspec": {
   "display_name": "Python 3",
   "language": "python",
   "name": "python3"
  },
  "language_info": {
   "codemirror_mode": {
    "name": "ipython",
    "version": 3
   },
   "file_extension": ".py",
   "mimetype": "text/x-python",
   "name": "python",
   "nbconvert_exporter": "python",
   "pygments_lexer": "ipython3",
   "version": "3.9.1"
  }
 },
 "nbformat": 4,
 "nbformat_minor": 5
}
