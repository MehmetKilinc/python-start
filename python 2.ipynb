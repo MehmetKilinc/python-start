{
 "cells": [
  {
   "cell_type": "code",
   "execution_count": 1,
   "id": "portuguese-nickname",
   "metadata": {},
   "outputs": [
    {
     "name": "stdout",
     "output_type": "stream",
     "text": [
      "enter number : 5\n",
      "|101|\n"
     ]
    }
   ],
   "source": [
    "number = int(input(\"enter number : \"))\n",
    "binary_equivalent_of_a_number = \"|{:b}|\".format(number)\n",
    "print(binary_equivalent_of_a_number)"
   ]
  },
  {
   "cell_type": "code",
   "execution_count": 4,
   "id": "excellent-michael",
   "metadata": {},
   "outputs": [
    {
     "name": "stdout",
     "output_type": "stream",
     "text": [
      "<class 'str'>\n",
      "bookone\n",
      "<class 'str'>\n",
      "booktwo\n",
      "<class 'str'>\n",
      "bookthree\n"
     ]
    }
   ],
   "source": [
    "book_list = [\"bookone\",\"booktwo\",\"bookthree\"]\n",
    "for i in book_list:\n",
    "    print(type(i))\n",
    "    print(i)"
   ]
  },
  {
   "cell_type": "code",
   "execution_count": 5,
   "id": "single-glasgow",
   "metadata": {},
   "outputs": [
    {
     "name": "stdout",
     "output_type": "stream",
     "text": [
      "number of books to add :2\n",
      "enter book name :bookfour\n",
      "enter book name :bookfive\n",
      "book name : bookone\n",
      "book name : booktwo\n",
      "book name : bookthree\n",
      "book name : bookfour\n",
      "book name : bookfive\n"
     ]
    }
   ],
   "source": [
    "numbers_of_books_to_add = int(input(\"number of books to add :\"))\n",
    "for i in (1,numbers_of_books_to_add + 1):\n",
    "    book_to_add = input(\"enter book name :\")\n",
    "    book_list += [book_to_add]\n",
    "for i in book_list:\n",
    "    print(\"book name : {}\".format(i))"
   ]
  },
  {
   "cell_type": "code",
   "execution_count": null,
   "id": "outdoor-cradle",
   "metadata": {},
   "outputs": [],
   "source": []
  }
 ],
 "metadata": {
  "kernelspec": {
   "display_name": "Python 3",
   "language": "python",
   "name": "python3"
  },
  "language_info": {
   "codemirror_mode": {
    "name": "ipython",
    "version": 3
   },
   "file_extension": ".py",
   "mimetype": "text/x-python",
   "name": "python",
   "nbconvert_exporter": "python",
   "pygments_lexer": "ipython3",
   "version": "3.9.1"
  }
 },
 "nbformat": 4,
 "nbformat_minor": 5
}
