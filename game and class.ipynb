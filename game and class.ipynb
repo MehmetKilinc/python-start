{
 "cells": [
  {
   "cell_type": "markdown",
   "id": "boolean-saver",
   "metadata": {},
   "source": [
    "# game\n"
   ]
  },
  {
   "cell_type": "code",
   "execution_count": null,
   "id": "mighty-missile",
   "metadata": {},
   "outputs": [
    {
     "name": "stdout",
     "output_type": "stream",
     "text": [
      "0. foe ---->>>> health : 64 --- power : 31 ----- shield : 5\n",
      "1. foe ---->>>> health : 62 --- power : 24 ----- shield : 5\n",
      "2. foe ---->>>> health : 67 --- power : 49 ----- shield : 1\n",
      "3. foe ---->>>> health : 51 --- power : 50 ----- shield : 10\n",
      "4. foe ---->>>> health : 46 --- power : 46 ----- shield : 10\n",
      "5. foe ---->>>> health : 42 --- power : 49 ----- shield : 4\n",
      "6. foe ---->>>> health : 30 --- power : 22 ----- shield : 6\n",
      "7. foe ---->>>> health : 46 --- power : 49 ----- shield : 5\n",
      "8. foe ---->>>> health : 40 --- power : 30 ----- shield : 6\n",
      "9. foe ---->>>> health : 32 --- power : 49 ----- shield : 4\n",
      "number of enemies :3\n",
      "player ----->>> health : 500 ---  power : 55 ----- shield : 20\n",
      "0. foe ---->>>> health : 64 --- power : 31 ----- shield : 5\n",
      "1. foe ---->>>> health : 62 --- power : 24 ----- shield : 5\n",
      "2. foe ---->>>> health : 67 --- power : 49 ----- shield : 1\n",
      "3. foe ---->>>> health : 6 --- power : 50 ----- shield : 10\n",
      "4. foe ---->>>> health : 46 --- power : 46 ----- shield : 10\n",
      "5. foe ---->>>> health : 42 --- power : 49 ----- shield : 4\n",
      "6. foe ---->>>> health : 30 --- power : 22 ----- shield : 6\n",
      "7. foe ---->>>> health : 46 --- power : 49 ----- shield : 5\n",
      "8. foe ---->>>> health : 40 --- power : 30 ----- shield : 6\n",
      "9. foe ---->>>> health : 32 --- power : 49 ----- shield : 4\n",
      "number of enemies :2\n",
      "player ----->>> health : 500 ---  power : 55 ----- shield : 20\n",
      "0. foe ---->>>> health : 64 --- power : 31 ----- shield : 5\n",
      "1. foe ---->>>> health : 62 --- power : 24 ----- shield : 5\n",
      "2. foe ---->>>> health : 13 --- power : 49 ----- shield : 1\n",
      "3. foe ---->>>> health : 6 --- power : 50 ----- shield : 10\n",
      "4. foe ---->>>> health : 46 --- power : 46 ----- shield : 10\n",
      "5. foe ---->>>> health : 42 --- power : 49 ----- shield : 4\n",
      "6. foe ---->>>> health : 30 --- power : 22 ----- shield : 6\n",
      "7. foe ---->>>> health : 46 --- power : 49 ----- shield : 5\n",
      "8. foe ---->>>> health : 40 --- power : 30 ----- shield : 6\n",
      "9. foe ---->>>> health : 32 --- power : 49 ----- shield : 4\n"
     ]
    }
   ],
   "source": [
    "import random\n",
    "import os\n",
    "class foe():\n",
    "    def __init__(self):\n",
    "        self.is_he_live = True\n",
    "        self.health = random.randint(30,70)\n",
    "        self.shield = random.randint(0,10)\n",
    "        self.power = random.randint(20,50)\n",
    "        \n",
    "    def fight(self,player):\n",
    "        damage = self.power - player.shield\n",
    "        player.health -= damage\n",
    "        \n",
    "        if player.health <= 0:\n",
    "            player.is_he_live = False\n",
    "            \n",
    "class player():\n",
    "    def __init__(self):\n",
    "        self.is_he_live = True\n",
    "        self.health = 500\n",
    "        self.shield = 20\n",
    "        self.power = 55\n",
    "        \n",
    "    def fight(self , foe):\n",
    "        damage = self.power - foe.shield\n",
    "        foe.health -= damage\n",
    "        \n",
    "        if foe.health <= 0:\n",
    "            foe.is_he_live = False\n",
    "            enemies.remove(foe)\n",
    "            \n",
    "enemies = list()\n",
    "for i in range(10):\n",
    "    enemies.append(foe())\n",
    "    \n",
    "player = player()\n",
    "\n",
    "while True:\n",
    "    for i in enemies:\n",
    "        print(\"{}. foe ---->>>> health : {} --- power : {} ----- shield : {}\".format(enemies.index(i),i.health,i.power,i.shield))\n",
    "    \n",
    "    selection = int(input(\"number of enemies :\"))\n",
    "    foe = enemies[selection]\n",
    "    player.fight(foe)\n",
    "    if enemies:\n",
    "        target = enemies[random.randint(0,len(enemies)-1)]\n",
    "    \n",
    "    os.system(\"cls\")\n",
    "    print(\"player ----->>> health : {} ---  power : {} ----- shield : {}\".format(player.health , player.power , player.shield))\n",
    "    if player.is_he_live == False:\n",
    "        print(\"game over\")\n",
    "        quit()\n",
    "    if not enemies:\n",
    "        print(\"you won ..\")\n",
    "        quit()\n",
    "        "
   ]
  },
  {
   "cell_type": "code",
   "execution_count": null,
   "id": "basic-lancaster",
   "metadata": {},
   "outputs": [],
   "source": []
  }
 ],
 "metadata": {
  "kernelspec": {
   "display_name": "Python 3",
   "language": "python",
   "name": "python3"
  },
  "language_info": {
   "codemirror_mode": {
    "name": "ipython",
    "version": 3
   },
   "file_extension": ".py",
   "mimetype": "text/x-python",
   "name": "python",
   "nbconvert_exporter": "python",
   "pygments_lexer": "ipython3",
   "version": "3.9.1"
  }
 },
 "nbformat": 4,
 "nbformat_minor": 5
}
