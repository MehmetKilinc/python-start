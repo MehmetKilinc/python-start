{
 "cells": [
  {
   "cell_type": "code",
   "execution_count": 43,
   "id": "charged-breakdown",
   "metadata": {},
   "outputs": [],
   "source": [
    "class çalışan():\n",
    "    \n",
    "    def __init__(self,isim,soyisim,maaş,departman):\n",
    "        \n",
    "        print(\"çalışan sınıfın init fonksiyonu\")\n",
    "        \n",
    "        self.isim = isim\n",
    "        \n",
    "        self.soyisim = soyisim\n",
    "        \n",
    "        self.maaş = maaş\n",
    "        \n",
    "        self.departman = departman\n",
    "        \n",
    "    def bilgilerigöster(self):\n",
    "        \n",
    "        print(\"\"\"\n",
    "        \n",
    "        isim : {}\n",
    "        \n",
    "        maaş : {}\n",
    "        \n",
    "        departman : {}\n",
    "        \n",
    "        \"\"\".format(self.isim,self.maaş,self.departman))\n",
    "        \n",
    "    def departmandeğiştir(self,yeni_departman):\n",
    "        \n",
    "        self.departman = yeni_departman\n",
    "        \n",
    "        \n",
    "    def zamyap(self,miktar):\n",
    "        \n",
    "        self.maaş += miktar\n",
    "        \n",
    "        "
   ]
  },
  {
   "cell_type": "code",
   "execution_count": 44,
   "id": "grateful-radiation",
   "metadata": {},
   "outputs": [
    {
     "ename": "IndentationError",
     "evalue": "expected an indented block (<ipython-input-44-b8f54ad7cd85>, line 1)",
     "output_type": "error",
     "traceback": [
      "\u001b[1;36m  File \u001b[1;32m\"<ipython-input-44-b8f54ad7cd85>\"\u001b[1;36m, line \u001b[1;32m1\u001b[0m\n\u001b[1;33m    class yönetici(çalışan):\u001b[0m\n\u001b[1;37m                            ^\u001b[0m\n\u001b[1;31mIndentationError\u001b[0m\u001b[1;31m:\u001b[0m expected an indented block\n"
     ]
    }
   ],
   "source": [
    "class yönetici(çalışan):"
   ]
  },
  {
   "cell_type": "code",
   "execution_count": 45,
   "id": "headed-threshold",
   "metadata": {},
   "outputs": [],
   "source": [
    "class yönetici(çalışan):\n",
    "    \n",
    "    pass       #sonradan birşeyler ekleyeceksek pass kullanırız yoksa hata verir"
   ]
  },
  {
   "cell_type": "code",
   "execution_count": 46,
   "id": "european-slovenia",
   "metadata": {},
   "outputs": [
    {
     "name": "stdout",
     "output_type": "stream",
     "text": [
      "çalışan sınıfın init fonksiyonu\n"
     ]
    }
   ],
   "source": [
    "yönetici1 = yönetici(\"ahmet\",\"demir\",3000,\"güvenlik\")"
   ]
  },
  {
   "cell_type": "code",
   "execution_count": 47,
   "id": "enabling-banks",
   "metadata": {},
   "outputs": [
    {
     "name": "stdout",
     "output_type": "stream",
     "text": [
      "\n",
      "        \n",
      "        isim : ahmet\n",
      "        \n",
      "        maaş : 3000\n",
      "        \n",
      "        departman : güvenlik\n",
      "        \n",
      "        \n"
     ]
    }
   ],
   "source": [
    "yönetici1.bilgilerigöster()"
   ]
  },
  {
   "cell_type": "code",
   "execution_count": 48,
   "id": "dominant-region",
   "metadata": {},
   "outputs": [
    {
     "data": {
      "text/plain": [
       "'güvenlik'"
      ]
     },
     "execution_count": 48,
     "metadata": {},
     "output_type": "execute_result"
    }
   ],
   "source": [
    "yönetici1.departman"
   ]
  },
  {
   "cell_type": "code",
   "execution_count": 49,
   "id": "focused-anxiety",
   "metadata": {},
   "outputs": [
    {
     "name": "stdout",
     "output_type": "stream",
     "text": [
      "\n",
      "        \n",
      "        isim : ahmet\n",
      "        \n",
      "        maaş : 3000\n",
      "        \n",
      "        departman : güvenlik\n",
      "        \n",
      "        \n"
     ]
    }
   ],
   "source": [
    "yönetici1.bilgilerigöster()"
   ]
  },
  {
   "cell_type": "code",
   "execution_count": 50,
   "id": "invalid-champagne",
   "metadata": {},
   "outputs": [],
   "source": [
    "yönetici1.departmandeğiştir(\"kodlama\")"
   ]
  },
  {
   "cell_type": "code",
   "execution_count": 51,
   "id": "weekly-journalism",
   "metadata": {},
   "outputs": [
    {
     "name": "stdout",
     "output_type": "stream",
     "text": [
      "\n",
      "        \n",
      "        isim : ahmet\n",
      "        \n",
      "        maaş : 3000\n",
      "        \n",
      "        departman : kodlama\n",
      "        \n",
      "        \n"
     ]
    }
   ],
   "source": [
    "yönetici1.bilgilerigöster()"
   ]
  },
  {
   "cell_type": "code",
   "execution_count": null,
   "id": "careful-motorcycle",
   "metadata": {},
   "outputs": [],
   "source": []
  },
  {
   "cell_type": "code",
   "execution_count": 52,
   "id": "saved-apartment",
   "metadata": {},
   "outputs": [],
   "source": [
    "yönetici1.zamyap(500)"
   ]
  },
  {
   "cell_type": "code",
   "execution_count": 54,
   "id": "narrative-board",
   "metadata": {},
   "outputs": [
    {
     "name": "stdout",
     "output_type": "stream",
     "text": [
      "\n",
      "        \n",
      "        isim : ahmet\n",
      "        \n",
      "        maaş : 3500\n",
      "        \n",
      "        departman : kodlama\n",
      "        \n",
      "        \n"
     ]
    }
   ],
   "source": [
    "yönetici1.bilgilerigöster()"
   ]
  },
  {
   "cell_type": "code",
   "execution_count": 55,
   "id": "familiar-kingdom",
   "metadata": {},
   "outputs": [
    {
     "data": {
      "text/plain": [
       "['__class__',\n",
       " '__delattr__',\n",
       " '__dict__',\n",
       " '__dir__',\n",
       " '__doc__',\n",
       " '__eq__',\n",
       " '__format__',\n",
       " '__ge__',\n",
       " '__getattribute__',\n",
       " '__gt__',\n",
       " '__hash__',\n",
       " '__init__',\n",
       " '__init_subclass__',\n",
       " '__le__',\n",
       " '__lt__',\n",
       " '__module__',\n",
       " '__ne__',\n",
       " '__new__',\n",
       " '__reduce__',\n",
       " '__reduce_ex__',\n",
       " '__repr__',\n",
       " '__setattr__',\n",
       " '__sizeof__',\n",
       " '__str__',\n",
       " '__subclasshook__',\n",
       " '__weakref__',\n",
       " 'bilgilerigöster',\n",
       " 'departmandeğiştir',\n",
       " 'zamyap']"
      ]
     },
     "execution_count": 55,
     "metadata": {},
     "output_type": "execute_result"
    }
   ],
   "source": [
    "dir(yönetici)"
   ]
  },
  {
   "cell_type": "code",
   "execution_count": 56,
   "id": "accepted-radar",
   "metadata": {},
   "outputs": [],
   "source": [
    "class çalışan():\n",
    "    \n",
    "    def __init__(self,isim,soyisim,maaş,departman):\n",
    "        \n",
    "        print(\"çalışan sınıfın init fonksiyonu\")\n",
    "        \n",
    "        self.isim = isim\n",
    "        \n",
    "        self.soyisim = soyisim\n",
    "        \n",
    "        self.maaş = maaş\n",
    "        \n",
    "        self.departman = departman\n",
    "        \n",
    "    def bilgilerigöster(self):\n",
    "        \n",
    "        print(\"\"\"\n",
    "        \n",
    "        isim : {}\n",
    "        \n",
    "        maaş : {}\n",
    "        \n",
    "        departman : {}\n",
    "        \n",
    "        \"\"\".format(self.isim,self.maaş,self.departman))\n",
    "        \n",
    "    def departmandeğiştir(self,yeni_departman):\n",
    "        \n",
    "        self.departman = yeni_departman\n",
    "        \n",
    "        \n",
    "    def zamyap(self,miktar):\n",
    "        \n",
    "        self.maaş += miktar\n",
    "        \n",
    "        "
   ]
  },
  {
   "cell_type": "code",
   "execution_count": 60,
   "id": "incomplete-repair",
   "metadata": {},
   "outputs": [],
   "source": [
    "class yönetici(çalışan):\n",
    "    \n",
    "    def __init__(self,isim,maaş,departman,kişi_sayısı):\n",
    "        \n",
    "        print(\"yönetici sınıfının init fonksiyonu\")\n",
    "        \n",
    "        self.isim = isim\n",
    "        \n",
    "        self.maaş = maaş\n",
    "        \n",
    "        self.departman = departman\n",
    "        \n",
    "        self.kişi_sayısı = kişi_sayısı\n",
    "        \n",
    "    def bilgilerigöster(self):\n",
    "        \n",
    "        print(\"\"\"\n",
    "        \n",
    "        isim : {}\n",
    "        \n",
    "        maaş : {}\n",
    "        \n",
    "        departman : {}\n",
    "        \n",
    "        kişi sayısı : {}\n",
    "        \n",
    "        \n",
    "        \n",
    "        \n",
    "        \"\"\".format(self.isim,self.maaş,self.departman,self.kişi_sayısı))\n",
    "        "
   ]
  },
  {
   "cell_type": "code",
   "execution_count": 61,
   "id": "royal-disease",
   "metadata": {},
   "outputs": [
    {
     "name": "stdout",
     "output_type": "stream",
     "text": [
      "yönetici sınıfının init fonksiyonu\n"
     ]
    }
   ],
   "source": [
    "yönetici2 = yönetici(\"james\",3000,\"güvenlik\",10)"
   ]
  },
  {
   "cell_type": "code",
   "execution_count": 62,
   "id": "increasing-greenhouse",
   "metadata": {},
   "outputs": [
    {
     "name": "stdout",
     "output_type": "stream",
     "text": [
      "\n",
      "        \n",
      "        isim : james\n",
      "        \n",
      "        maaş : 3000\n",
      "        \n",
      "        departman : güvenlik\n",
      "        \n",
      "        kişi sayısı : 10\n",
      "        \n",
      "        \n",
      "        \n",
      "        \n",
      "        \n"
     ]
    }
   ],
   "source": [
    "yönetici2.bilgilerigöster()"
   ]
  },
  {
   "cell_type": "markdown",
   "id": "political-freight",
   "metadata": {},
   "source": [
    "super anahtar kelimesi "
   ]
  },
  {
   "cell_type": "code",
   "execution_count": 70,
   "id": "straight-dublin",
   "metadata": {},
   "outputs": [],
   "source": [
    "class çalışan():\n",
    "    \n",
    "    def __init__(self,isim,maaş,departman):\n",
    "        \n",
    "        print(\"çalışan sınıfın init fonksiyonu\")\n",
    "        \n",
    "        self.isim = isim\n",
    "        \n",
    "        self.maaş = maaş\n",
    "        \n",
    "        self.departman = departman\n",
    "        \n",
    "    def bilgilerigöster(self):\n",
    "        \n",
    "        print(\"\"\"\n",
    "        \n",
    "        isim : {}\n",
    "        \n",
    "        maaş : {}\n",
    "        \n",
    "        departman : {}\n",
    "        \n",
    "        \"\"\".format(self.isim,self.maaş,self.departman))\n",
    "        \n",
    "    def departmandeğiştir(self,yeni_departman):\n",
    "        \n",
    "        self.departman = yeni_departman\n",
    "        \n",
    "        \n",
    "    def zamyap(self,miktar):\n",
    "        \n",
    "        self.maaş += miktar\n",
    "        \n",
    "        "
   ]
  },
  {
   "cell_type": "code",
   "execution_count": 71,
   "id": "capable-security",
   "metadata": {},
   "outputs": [],
   "source": [
    "class yönetici(çalışan):\n",
    "    \n",
    "    def __init__(self,isim,maaş,departman,kişi_sayısı):\n",
    "        \n",
    "        super().__init__(isim,maaş,departman)\n",
    "        \n",
    "        print(\"yönetici sınıfının init fonksiyonu\")\n",
    "        \n",
    "    \n",
    "        self.kişi_sayısı = kişi_sayısı\n",
    "        \n",
    "    def bilgilerigöster(self):\n",
    "        \n",
    "        print(\"\"\"\n",
    "        \n",
    "        isim : {}\n",
    "        \n",
    "        maaş : {}\n",
    "        \n",
    "        departman : {}\n",
    "        \n",
    "        kişi sayısı : {}\n",
    "        \n",
    "        \n",
    "        \n",
    "        \n",
    "        \"\"\".format(self.isim,self.maaş,self.departman,self.kişi_sayısı))\n",
    "        "
   ]
  },
  {
   "cell_type": "code",
   "execution_count": 75,
   "id": "known-longitude",
   "metadata": {},
   "outputs": [
    {
     "name": "stdout",
     "output_type": "stream",
     "text": [
      "çalışan sınıfın init fonksiyonu\n",
      "yönetici sınıfının init fonksiyonu\n"
     ]
    }
   ],
   "source": [
    "yönetici3 = yönetici(\"hasan\",10000,\"java\",20)"
   ]
  },
  {
   "cell_type": "code",
   "execution_count": 76,
   "id": "creative-jesus",
   "metadata": {},
   "outputs": [
    {
     "name": "stdout",
     "output_type": "stream",
     "text": [
      "\n",
      "        \n",
      "        isim : hasan\n",
      "        \n",
      "        maaş : 10000\n",
      "        \n",
      "        departman : java\n",
      "        \n",
      "        kişi sayısı : 20\n",
      "        \n",
      "        \n",
      "        \n",
      "        \n",
      "        \n"
     ]
    }
   ],
   "source": [
    "yönetici3.bilgilerigöster()"
   ]
  },
  {
   "cell_type": "code",
   "execution_count": null,
   "id": "cloudy-banana",
   "metadata": {},
   "outputs": [],
   "source": []
  },
  {
   "cell_type": "markdown",
   "id": "integrated-arbor",
   "metadata": {},
   "source": [
    "# nesneler - özel metodlar"
   ]
  },
  {
   "cell_type": "code",
   "execution_count": 77,
   "id": "protecting-berkeley",
   "metadata": {},
   "outputs": [],
   "source": [
    "class kitap():\n",
    "    \n",
    "    pass"
   ]
  },
  {
   "cell_type": "code",
   "execution_count": 81,
   "id": "established-sigma",
   "metadata": {},
   "outputs": [],
   "source": [
    "kitap1 = kitap()   #__init metodu"
   ]
  },
  {
   "cell_type": "code",
   "execution_count": 82,
   "id": "wrong-genius",
   "metadata": {},
   "outputs": [
    {
     "name": "stdout",
     "output_type": "stream",
     "text": [
      "<__main__.kitap object at 0x00000216D475BB80>\n"
     ]
    }
   ],
   "source": [
    "print(kitap1)     #__str__ metodu"
   ]
  },
  {
   "cell_type": "code",
   "execution_count": 83,
   "id": "waiting-sleep",
   "metadata": {},
   "outputs": [
    {
     "ename": "TypeError",
     "evalue": "object of type 'kitap' has no len()",
     "output_type": "error",
     "traceback": [
      "\u001b[1;31m---------------------------------------------------------------------------\u001b[0m",
      "\u001b[1;31mTypeError\u001b[0m                                 Traceback (most recent call last)",
      "\u001b[1;32m<ipython-input-83-6ca7c080462d>\u001b[0m in \u001b[0;36m<module>\u001b[1;34m\u001b[0m\n\u001b[1;32m----> 1\u001b[1;33m \u001b[0mlen\u001b[0m\u001b[1;33m(\u001b[0m\u001b[0mkitap1\u001b[0m\u001b[1;33m)\u001b[0m   \u001b[1;31m#__len__ metodu\u001b[0m\u001b[1;33m\u001b[0m\u001b[1;33m\u001b[0m\u001b[0m\n\u001b[0m",
      "\u001b[1;31mTypeError\u001b[0m: object of type 'kitap' has no len()"
     ]
    }
   ],
   "source": [
    "len(kitap1)   #__len__ metodu"
   ]
  },
  {
   "cell_type": "code",
   "execution_count": 84,
   "id": "strategic-gauge",
   "metadata": {},
   "outputs": [],
   "source": [
    "del kitap1      #__del__ metodu"
   ]
  },
  {
   "cell_type": "code",
   "execution_count": 86,
   "id": "statutory-dynamics",
   "metadata": {},
   "outputs": [
    {
     "ename": "NameError",
     "evalue": "name 'kitap1' is not defined",
     "output_type": "error",
     "traceback": [
      "\u001b[1;31m---------------------------------------------------------------------------\u001b[0m",
      "\u001b[1;31mNameError\u001b[0m                                 Traceback (most recent call last)",
      "\u001b[1;32m<ipython-input-86-a6c7c2ed523b>\u001b[0m in \u001b[0;36m<module>\u001b[1;34m\u001b[0m\n\u001b[1;32m----> 1\u001b[1;33m \u001b[0mkitap1\u001b[0m        \u001b[1;31m#del metodu ile sildik\u001b[0m\u001b[1;33m\u001b[0m\u001b[1;33m\u001b[0m\u001b[0m\n\u001b[0m",
      "\u001b[1;31mNameError\u001b[0m: name 'kitap1' is not defined"
     ]
    }
   ],
   "source": [
    "kitap1        #del metodu ile sildik"
   ]
  },
  {
   "cell_type": "code",
   "execution_count": 97,
   "id": "joined-manufacturer",
   "metadata": {},
   "outputs": [],
   "source": [
    "class kitap():\n",
    "    \n",
    "    def __init__(self,isim,yazar,sayfa_sayısı,tür):\n",
    "        \n",
    "        print(\"init fonksiyonu\")\n",
    "        \n",
    "        self.isim = isim\n",
    "        \n",
    "        self.yazar = yazar \n",
    "        \n",
    "        self.sayfa_sayısı = sayfa_sayısı\n",
    "        \n",
    "        self.tür = tür\n",
    "        \n",
    "        \n",
    "    def __str__(self):\n",
    "        \n",
    "        print(\"str fonksiyonu\")\n",
    "        \n",
    "        return \"isim : {}\\nyazar : {}\\nsayfa sayısı : {}\\ntür : {}\".format(self.isim,self.yazar,self.sayfa_sayısı,self.tür)\n",
    "        \n",
    "        \n",
    "        "
   ]
  },
  {
   "cell_type": "code",
   "execution_count": 98,
   "id": "little-strain",
   "metadata": {},
   "outputs": [
    {
     "name": "stdout",
     "output_type": "stream",
     "text": [
      "init fonksiyonu\n"
     ]
    }
   ],
   "source": [
    "kitap1 = kitap(\"1984\",\"george orwell\",384,\"distopya\")"
   ]
  },
  {
   "cell_type": "code",
   "execution_count": 99,
   "id": "disabled-advancement",
   "metadata": {},
   "outputs": [
    {
     "name": "stdout",
     "output_type": "stream",
     "text": [
      "str fonksiyonu\n",
      "isim : 1984\n",
      "yazar : george orwell\n",
      "sayfa sayısı : 384\n",
      "tür : distopya\n"
     ]
    }
   ],
   "source": [
    "print(kitap1)"
   ]
  },
  {
   "cell_type": "code",
   "execution_count": 104,
   "id": "billion-tablet",
   "metadata": {},
   "outputs": [],
   "source": [
    "class kitap():\n",
    "    \n",
    "    def __init__(self,isim,yazar,sayfa_sayısı,tür):\n",
    "        \n",
    "        print(\"init fonksiyonu\")\n",
    "        \n",
    "        self.isim = isim\n",
    "        \n",
    "        self.yazar = yazar \n",
    "        \n",
    "        self.sayfa_sayısı = sayfa_sayısı\n",
    "        \n",
    "        self.tür = tür\n",
    "        \n",
    "        \n",
    "    def __str__(self):\n",
    "        \n",
    "        print(\"str fonksiyonu\")\n",
    "        \n",
    "        return \"isim : {}\\nyazar : {}\\nsayfa sayısı : {}\\ntür : {}\".format(self.isim,self.yazar,self.sayfa_sayısı,self.tür)\n",
    "        \n",
    "        \n",
    "    def __len__(self):\n",
    "        \n",
    "        print(\"len fonksiyonu\")\n",
    "        \n",
    "        return self.sayfa_sayısı\n",
    "    \n",
    "    def __del__(self):\n",
    "        \n",
    "        print(\"kitap objesi siliniyor...\")"
   ]
  },
  {
   "cell_type": "code",
   "execution_count": 105,
   "id": "mounted-thomson",
   "metadata": {},
   "outputs": [
    {
     "name": "stdout",
     "output_type": "stream",
     "text": [
      "init fonksiyonu\n"
     ]
    }
   ],
   "source": [
    "kitap2 = kitap(\"hayvan çiftliği\",\"george orwell\", 115 , \"distopya\")"
   ]
  },
  {
   "cell_type": "code",
   "execution_count": 106,
   "id": "published-archives",
   "metadata": {},
   "outputs": [
    {
     "name": "stdout",
     "output_type": "stream",
     "text": [
      "str fonksiyonu\n",
      "isim : hayvan çiftliği\n",
      "yazar : george orwell\n",
      "sayfa sayısı : 115\n",
      "tür : distopya\n"
     ]
    }
   ],
   "source": [
    "print(kitap2)"
   ]
  },
  {
   "cell_type": "code",
   "execution_count": 107,
   "id": "victorian-hungarian",
   "metadata": {},
   "outputs": [
    {
     "name": "stdout",
     "output_type": "stream",
     "text": [
      "len fonksiyonu\n"
     ]
    },
    {
     "data": {
      "text/plain": [
       "115"
      ]
     },
     "execution_count": 107,
     "metadata": {},
     "output_type": "execute_result"
    }
   ],
   "source": [
    "len(\n",
    "kitap2)"
   ]
  },
  {
   "cell_type": "code",
   "execution_count": 108,
   "id": "lesser-morocco",
   "metadata": {},
   "outputs": [
    {
     "name": "stdout",
     "output_type": "stream",
     "text": [
      "kitap objesi siliniyor...\n"
     ]
    }
   ],
   "source": [
    "del(kitap2)"
   ]
  },
  {
   "cell_type": "code",
   "execution_count": 109,
   "id": "dental-income",
   "metadata": {},
   "outputs": [
    {
     "ename": "NameError",
     "evalue": "name 'kitap2' is not defined",
     "output_type": "error",
     "traceback": [
      "\u001b[1;31m---------------------------------------------------------------------------\u001b[0m",
      "\u001b[1;31mNameError\u001b[0m                                 Traceback (most recent call last)",
      "\u001b[1;32m<ipython-input-109-6d02dfd4b032>\u001b[0m in \u001b[0;36m<module>\u001b[1;34m\u001b[0m\n\u001b[1;32m----> 1\u001b[1;33m \u001b[0mprint\u001b[0m\u001b[1;33m(\u001b[0m\u001b[0mkitap2\u001b[0m\u001b[1;33m)\u001b[0m\u001b[1;33m\u001b[0m\u001b[1;33m\u001b[0m\u001b[0m\n\u001b[0m",
      "\u001b[1;31mNameError\u001b[0m: name 'kitap2' is not defined"
     ]
    }
   ],
   "source": [
    "print(kitap2)"
   ]
  },
  {
   "cell_type": "markdown",
   "id": "resident-collect",
   "metadata": {},
   "source": [
    "metod kullanımı site :\n",
    "\n",
    "\n",
    "http://www.diveintopython3.net/special-medhod-names.html"
   ]
  },
  {
   "cell_type": "code",
   "execution_count": null,
   "id": "neural-beast",
   "metadata": {},
   "outputs": [],
   "source": []
  }
 ],
 "metadata": {
  "kernelspec": {
   "display_name": "Python 3",
   "language": "python",
   "name": "python3"
  },
  "language_info": {
   "codemirror_mode": {
    "name": "ipython",
    "version": 3
   },
   "file_extension": ".py",
   "mimetype": "text/x-python",
   "name": "python",
   "nbconvert_exporter": "python",
   "pygments_lexer": "ipython3",
   "version": "3.9.1"
  }
 },
 "nbformat": 4,
 "nbformat_minor": 5
}
