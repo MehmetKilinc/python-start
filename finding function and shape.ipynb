{
 "cells": [
  {
   "cell_type": "code",
   "execution_count": 1,
   "id": "living-native",
   "metadata": {},
   "outputs": [],
   "source": [
    "def hello():\n",
    "    print(\"hello\")"
   ]
  },
  {
   "cell_type": "code",
   "execution_count": 3,
   "id": "portable-captain",
   "metadata": {},
   "outputs": [
    {
     "name": "stdout",
     "output_type": "stream",
     "text": [
      "hello\n"
     ]
    }
   ],
   "source": [
    "hello()"
   ]
  },
  {
   "cell_type": "code",
   "execution_count": 4,
   "id": "alpine-times",
   "metadata": {},
   "outputs": [],
   "source": [
    "def roots(a,b,c):\n",
    "    delta = b * b - 4 * a * c\n",
    "    if (delta < 0):\n",
    "        print(\"no root\")\n",
    "        \n",
    "    x1 = (-b - delta**0.5)/(2*a)\n",
    "    x2 = (-b + delta**0.5)/(2*a)"
   ]
  },
  {
   "cell_type": "code",
   "execution_count": 7,
   "id": "central-mandate",
   "metadata": {},
   "outputs": [
    {
     "name": "stdout",
     "output_type": "stream",
     "text": [
      "a :4\n",
      "b :2\n",
      "c :4\n",
      "no root\n",
      "None\n"
     ]
    }
   ],
   "source": [
    "a = int(input(\"a :\"))\n",
    "b = int(input(\"b :\"))\n",
    "c = int(input(\"c :\"))\n",
    "\n",
    "\n",
    "result = roots(a , b , c)\n",
    "print(result)"
   ]
  },
  {
   "cell_type": "code",
   "execution_count": 8,
   "id": "appropriate-richardson",
   "metadata": {},
   "outputs": [
    {
     "name": "stdout",
     "output_type": "stream",
     "text": [
      "enter number of elements : 3\n",
      "a :2\n",
      "b :2\n",
      "c :2\n",
      "equilateral triangle\n",
      "enter number of elements : 3\n",
      "a :2\n",
      "b :2\n",
      "c :4\n",
      "does not specify a triangle\n",
      "enter number of elements : 3\n",
      "a :4\n",
      "b :4\n",
      "c :3\n",
      "scalene triangle\n",
      "enter number of elements : 4\n",
      "a :2\n",
      "b :2\n",
      "c :2\n",
      "d :2\n",
      "square\n",
      "enter number of elements : \n"
     ]
    },
    {
     "ename": "ValueError",
     "evalue": "invalid literal for int() with base 10: ''",
     "output_type": "error",
     "traceback": [
      "\u001b[1;31m---------------------------------------------------------------------------\u001b[0m",
      "\u001b[1;31mValueError\u001b[0m                                Traceback (most recent call last)",
      "\u001b[1;32m<ipython-input-8-1788ae57b843>\u001b[0m in \u001b[0;36m<module>\u001b[1;34m\u001b[0m\n\u001b[0;32m     37\u001b[0m \u001b[1;33m\u001b[0m\u001b[0m\n\u001b[0;32m     38\u001b[0m \u001b[1;32mwhile\u001b[0m\u001b[1;33m(\u001b[0m\u001b[1;32mTrue\u001b[0m\u001b[1;33m)\u001b[0m\u001b[1;33m:\u001b[0m\u001b[1;33m\u001b[0m\u001b[1;33m\u001b[0m\u001b[0m\n\u001b[1;32m---> 39\u001b[1;33m     \u001b[0mnumber_of_elements\u001b[0m \u001b[1;33m=\u001b[0m \u001b[0mint\u001b[0m\u001b[1;33m(\u001b[0m\u001b[0minput\u001b[0m\u001b[1;33m(\u001b[0m\u001b[1;34m\"enter number of elements : \"\u001b[0m\u001b[1;33m)\u001b[0m\u001b[1;33m)\u001b[0m\u001b[1;33m\u001b[0m\u001b[1;33m\u001b[0m\u001b[0m\n\u001b[0m\u001b[0;32m     40\u001b[0m \u001b[1;33m\u001b[0m\u001b[0m\n\u001b[0;32m     41\u001b[0m     \u001b[1;32mif\u001b[0m\u001b[1;33m(\u001b[0m\u001b[0mnumber_of_elements\u001b[0m \u001b[1;33m==\u001b[0m \u001b[1;36m3\u001b[0m\u001b[1;33m)\u001b[0m\u001b[1;33m:\u001b[0m\u001b[1;33m\u001b[0m\u001b[1;33m\u001b[0m\u001b[0m\n",
      "\u001b[1;31mValueError\u001b[0m: invalid literal for int() with base 10: ''"
     ]
    }
   ],
   "source": [
    "def geometry(figure):\n",
    "    if len(figure)==3:\n",
    "        a = figure[0]\n",
    "        b = figure[1]\n",
    "        c = figure[2]\n",
    "        \n",
    "        if(a + b)>c and (a+c)>b and (b+c)>a:\n",
    "            if(a==b) and (b==c)and(a==c):\n",
    "                print(\"equilateral triangle\")\n",
    "                \n",
    "            elif(a==b) and (a==c):\n",
    "                print(\"isosceles triangle\")\n",
    "                \n",
    "            else :\n",
    "                print(\"scalene triangle\")\n",
    "                \n",
    "        else :\n",
    "            print(\"does not specify a triangle\")\n",
    "            \n",
    "    elif len(figure)==4:\n",
    "        a = figure[0]\n",
    "        b = figure[1]\n",
    "        c = figure[2]\n",
    "        d = figure[3]\n",
    "        \n",
    "        if (a==b) and (a==c) and (a==d):\n",
    "            print(\"square\")\n",
    "            \n",
    "        elif (a==c) and (b==d):\n",
    "            print(\"rectangle\")\n",
    "            \n",
    "        else :\n",
    "            print(\"regular square\")\n",
    "            \n",
    "    else :\n",
    "        print(\"does not show shape\")\n",
    "        \n",
    "while(True):\n",
    "    number_of_elements = int(input(\"enter number of elements : \"))\n",
    "    \n",
    "    if(number_of_elements == 3):\n",
    "        a = int(input(\"a :\"))\n",
    "        b = int(input(\"b :\"))\n",
    "        c = int(input(\"c :\"))\n",
    "        geometry([a,b,c])\n",
    "        \n",
    "    elif (number_of_elements == 4):\n",
    "        a = int(input(\"a :\"))\n",
    "        b = int(input(\"b :\"))\n",
    "        c = int(input(\"c :\"))\n",
    "        d = int(input(\"d :\"))\n",
    "        geometry([a,b,c,d])\n",
    "        \n",
    "    else :\n",
    "        print(\"please enter again ...\")"
   ]
  },
  {
   "cell_type": "code",
   "execution_count": 10,
   "id": "novel-assessment",
   "metadata": {},
   "outputs": [
    {
     "name": "stdout",
     "output_type": "stream",
     "text": [
      "10\n"
     ]
    }
   ],
   "source": [
    "def Collect(list1):\n",
    "    total = 0\n",
    "    \n",
    "    for i in list1:\n",
    "        total += i\n",
    "        \n",
    "    return total\n",
    "\n",
    "print(Collect([1,2,3,4]))\n",
    "    "
   ]
  },
  {
   "cell_type": "code",
   "execution_count": 11,
   "id": "beautiful-banks",
   "metadata": {},
   "outputs": [
    {
     "name": "stdout",
     "output_type": "stream",
     "text": [
      "10\n"
     ]
    }
   ],
   "source": [
    "def collecttwo(list2):\n",
    "    if (len(list2)==0):\n",
    "        return 0\n",
    "    else:\n",
    "        return list2[0] + (collecttwo(list2[1:]))\n",
    "\n",
    "print(collecttwo([1,2,3,4]))"
   ]
  },
  {
   "cell_type": "code",
   "execution_count": 12,
   "id": "piano-enclosure",
   "metadata": {},
   "outputs": [
    {
     "name": "stdout",
     "output_type": "stream",
     "text": [
      "2\n",
      "5\n"
     ]
    }
   ],
   "source": [
    "a = 5\n",
    "\n",
    "def hello():\n",
    "    a = 2\n",
    "    print(a)\n",
    "\n",
    "hello()\n",
    "print(a)"
   ]
  },
  {
   "cell_type": "code",
   "execution_count": 13,
   "id": "alternative-absorption",
   "metadata": {},
   "outputs": [
    {
     "name": "stdout",
     "output_type": "stream",
     "text": [
      "2\n",
      "2\n"
     ]
    }
   ],
   "source": [
    "a = 5\n",
    "\n",
    "def hello():\n",
    "    global a\n",
    "    a = 2\n",
    "    print(a)\n",
    "    \n",
    "hello()\n",
    "print(a)"
   ]
  },
  {
   "cell_type": "code",
   "execution_count": null,
   "id": "daily-joining",
   "metadata": {},
   "outputs": [],
   "source": []
  }
 ],
 "metadata": {
  "kernelspec": {
   "display_name": "Python 3",
   "language": "python",
   "name": "python3"
  },
  "language_info": {
   "codemirror_mode": {
    "name": "ipython",
    "version": 3
   },
   "file_extension": ".py",
   "mimetype": "text/x-python",
   "name": "python",
   "nbconvert_exporter": "python",
   "pygments_lexer": "ipython3",
   "version": "3.9.1"
  }
 },
 "nbformat": 4,
 "nbformat_minor": 5
}
