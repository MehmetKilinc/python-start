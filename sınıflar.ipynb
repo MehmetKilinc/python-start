{
 "cells": [
  {
   "cell_type": "code",
   "execution_count": 1,
   "id": "unauthorized-highway",
   "metadata": {},
   "outputs": [],
   "source": [
    "class ogrenciler():\n",
    "    \n",
    "    ad = \"ahmet\"\n",
    "    \n",
    "    soyad = \"demir\"\n",
    "    \n",
    "    cinsiyet = \"erkek\"\n",
    "    \n",
    "    numara = 1000"
   ]
  },
  {
   "cell_type": "code",
   "execution_count": 2,
   "id": "directed-explosion",
   "metadata": {},
   "outputs": [],
   "source": [
    "ogrenci2 = ogrenciler()"
   ]
  },
  {
   "cell_type": "code",
   "execution_count": 3,
   "id": "entertaining-strap",
   "metadata": {},
   "outputs": [
    {
     "data": {
      "text/plain": [
       "<__main__.ogrenciler at 0x1f9aaa836a0>"
      ]
     },
     "execution_count": 3,
     "metadata": {},
     "output_type": "execute_result"
    }
   ],
   "source": [
    "ogrenci2"
   ]
  },
  {
   "cell_type": "code",
   "execution_count": 4,
   "id": "hydraulic-logic",
   "metadata": {},
   "outputs": [],
   "source": [
    "ogrenci3 = ogrenciler()"
   ]
  },
  {
   "cell_type": "code",
   "execution_count": 5,
   "id": "athletic-parade",
   "metadata": {},
   "outputs": [
    {
     "data": {
      "text/plain": [
       "<__main__.ogrenciler at 0x1f9aaa83d60>"
      ]
     },
     "execution_count": 5,
     "metadata": {},
     "output_type": "execute_result"
    }
   ],
   "source": [
    "ogrenci3"
   ]
  },
  {
   "cell_type": "code",
   "execution_count": 7,
   "id": "numeric-luther",
   "metadata": {},
   "outputs": [
    {
     "data": {
      "text/plain": [
       "'ahmet'"
      ]
     },
     "execution_count": 7,
     "metadata": {},
     "output_type": "execute_result"
    }
   ],
   "source": [
    "ogrenci2.ad"
   ]
  },
  {
   "cell_type": "raw",
   "id": "injured-exercise",
   "metadata": {},
   "source": [
    "ogrenci3.ad"
   ]
  },
  {
   "cell_type": "code",
   "execution_count": 9,
   "id": "behind-replica",
   "metadata": {},
   "outputs": [
    {
     "data": {
      "text/plain": [
       "'demir'"
      ]
     },
     "execution_count": 9,
     "metadata": {},
     "output_type": "execute_result"
    }
   ],
   "source": [
    "ogrenci3.soyad"
   ]
  },
  {
   "cell_type": "code",
   "execution_count": 10,
   "id": "unnecessary-consciousness",
   "metadata": {},
   "outputs": [
    {
     "data": {
      "text/plain": [
       "'demir'"
      ]
     },
     "execution_count": 10,
     "metadata": {},
     "output_type": "execute_result"
    }
   ],
   "source": [
    "ogrenci2.soyad"
   ]
  },
  {
   "cell_type": "code",
   "execution_count": null,
   "id": "rolled-feeding",
   "metadata": {},
   "outputs": [],
   "source": []
  },
  {
   "cell_type": "code",
   "execution_count": null,
   "id": "strange-struggle",
   "metadata": {},
   "outputs": [],
   "source": [
    "\n",
    "\n",
    "\n"
   ]
  },
  {
   "cell_type": "code",
   "execution_count": 11,
   "id": "available-journal",
   "metadata": {},
   "outputs": [
    {
     "data": {
      "text/plain": [
       "['__class__',\n",
       " '__delattr__',\n",
       " '__dict__',\n",
       " '__dir__',\n",
       " '__doc__',\n",
       " '__eq__',\n",
       " '__format__',\n",
       " '__ge__',\n",
       " '__getattribute__',\n",
       " '__gt__',\n",
       " '__hash__',\n",
       " '__init__',\n",
       " '__init_subclass__',\n",
       " '__le__',\n",
       " '__lt__',\n",
       " '__module__',\n",
       " '__ne__',\n",
       " '__new__',\n",
       " '__reduce__',\n",
       " '__reduce_ex__',\n",
       " '__repr__',\n",
       " '__setattr__',\n",
       " '__sizeof__',\n",
       " '__str__',\n",
       " '__subclasshook__',\n",
       " '__weakref__',\n",
       " 'ad',\n",
       " 'cinsiyet',\n",
       " 'numara',\n",
       " 'soyad']"
      ]
     },
     "execution_count": 11,
     "metadata": {},
     "output_type": "execute_result"
    }
   ],
   "source": [
    "dir(ogrenci2)"
   ]
  },
  {
   "cell_type": "code",
   "execution_count": 12,
   "id": "nonprofit-egypt",
   "metadata": {},
   "outputs": [],
   "source": [
    "class ogrenciler():\n",
    "    \n",
    "    ad = \"ahmet\"\n",
    "    \n",
    "    soyad = \"demir\"\n",
    "    \n",
    "    cinsiyet = \"erkek\"\n",
    "    \n",
    "    numara = 1000\n",
    "    \n",
    "    \n",
    "    def __init__(self):\n",
    "        \n",
    "        print(\"init fonksiyonu çağrıldı\")\n",
    "        \n",
    "        "
   ]
  },
  {
   "cell_type": "code",
   "execution_count": 13,
   "id": "boring-landscape",
   "metadata": {},
   "outputs": [
    {
     "name": "stdout",
     "output_type": "stream",
     "text": [
      "init fonksiyonu çağrıldı\n"
     ]
    }
   ],
   "source": [
    "ogrenci4 = ogrenciler()"
   ]
  },
  {
   "cell_type": "code",
   "execution_count": null,
   "id": "flying-report",
   "metadata": {},
   "outputs": [],
   "source": [
    "\n",
    "\n",
    "\n"
   ]
  },
  {
   "cell_type": "code",
   "execution_count": 1,
   "id": "transsexual-proxy",
   "metadata": {},
   "outputs": [],
   "source": [
    "class musteri():\n",
    "    \n",
    "    def __init__(self,ad,soyad,kart_numara):\n",
    "        \n",
    "        self.ad = ad\n",
    "        \n",
    "        self.soyad = soyad\n",
    "        \n",
    "        self.kart_numara = kart_numara\n",
    "        \n",
    "        "
   ]
  },
  {
   "cell_type": "code",
   "execution_count": 2,
   "id": "extensive-nothing",
   "metadata": {},
   "outputs": [],
   "source": [
    "musteri1 = musteri(\"ahmet\",\"ahmet\",\"4444\")"
   ]
  },
  {
   "cell_type": "code",
   "execution_count": 3,
   "id": "imported-quebec",
   "metadata": {},
   "outputs": [],
   "source": [
    "musteri2 = musteri(\"brad\",\"pitt\",\"8888\")"
   ]
  },
  {
   "cell_type": "code",
   "execution_count": null,
   "id": "revised-bride",
   "metadata": {},
   "outputs": [],
   "source": []
  },
  {
   "cell_type": "code",
   "execution_count": 4,
   "id": "piano-macro",
   "metadata": {},
   "outputs": [
    {
     "data": {
      "text/plain": [
       "'ahmet'"
      ]
     },
     "execution_count": 4,
     "metadata": {},
     "output_type": "execute_result"
    }
   ],
   "source": [
    "musteri1.ad"
   ]
  },
  {
   "cell_type": "code",
   "execution_count": 5,
   "id": "eleven-prophet",
   "metadata": {},
   "outputs": [
    {
     "data": {
      "text/plain": [
       "'brad'"
      ]
     },
     "execution_count": 5,
     "metadata": {},
     "output_type": "execute_result"
    }
   ],
   "source": [
    "musteri2.ad"
   ]
  },
  {
   "cell_type": "code",
   "execution_count": 6,
   "id": "virtual-oliver",
   "metadata": {},
   "outputs": [],
   "source": [
    "class musteri():\n",
    "    \n",
    "    def __init__(self,ad = \"bilgi yok\",soyad = \"bilgi yok\",kart_numara = \"bilgi yok\"):\n",
    "        \n",
    "        self.ad = ad\n",
    "        \n",
    "        self.soyad = soyad\n",
    "        \n",
    "        self.kart_numara = kart_numara\n",
    "        \n",
    "        "
   ]
  },
  {
   "cell_type": "code",
   "execution_count": 7,
   "id": "recovered-brother",
   "metadata": {},
   "outputs": [],
   "source": [
    "musteri3 = musteri(ad = \"george\")"
   ]
  },
  {
   "cell_type": "code",
   "execution_count": 8,
   "id": "comparative-recommendation",
   "metadata": {},
   "outputs": [
    {
     "data": {
      "text/plain": [
       "'george'"
      ]
     },
     "execution_count": 8,
     "metadata": {},
     "output_type": "execute_result"
    }
   ],
   "source": [
    "musteri3.ad"
   ]
  },
  {
   "cell_type": "code",
   "execution_count": 9,
   "id": "random-resource",
   "metadata": {},
   "outputs": [
    {
     "data": {
      "text/plain": [
       "'bilgi yok'"
      ]
     },
     "execution_count": 9,
     "metadata": {},
     "output_type": "execute_result"
    }
   ],
   "source": [
    "musteri3.kart_numara"
   ]
  },
  {
   "cell_type": "code",
   "execution_count": 10,
   "id": "legislative-aberdeen",
   "metadata": {},
   "outputs": [
    {
     "data": {
      "text/plain": [
       "'bilgi yok'"
      ]
     },
     "execution_count": 10,
     "metadata": {},
     "output_type": "execute_result"
    }
   ],
   "source": [
    "musteri3.soyad"
   ]
  },
  {
   "cell_type": "code",
   "execution_count": null,
   "id": "ranging-satisfaction",
   "metadata": {},
   "outputs": [],
   "source": [
    "\n",
    "\n",
    "\n",
    "\n",
    "\n",
    "\n",
    "\n",
    "\n",
    "\n",
    "\n",
    "\n",
    "\n",
    "\n"
   ]
  },
  {
   "cell_type": "code",
   "execution_count": 19,
   "id": "coated-bikini",
   "metadata": {},
   "outputs": [],
   "source": [
    "class yazılımcı():\n",
    "    \n",
    "    def __init__(self,ad,soyad,numara,maaş,diller):\n",
    "        \n",
    "        self.ad = ad\n",
    "        \n",
    "        self.soyad = soyad\n",
    "        \n",
    "        self.numara = numara\n",
    "        \n",
    "        self.maaş = maaş\n",
    "        \n",
    "        self.diller = diller\n",
    "        \n",
    "    def bilgilerigöster(self):\n",
    "        \n",
    "        print(\"\"\"\n",
    "        \n",
    "        \n",
    "        yazılımcının özellikleri\n",
    "        \n",
    "        ad : {}\n",
    "        \n",
    "        soyad : {}\n",
    "        \n",
    "        numara : {}\n",
    "        \n",
    "        maaş : {}\n",
    "        \n",
    "        diller : {}\n",
    "        \n",
    "        \n",
    "        \n",
    "        \n",
    "        \n",
    "        \n",
    "        \"\"\".format(self.ad,self.soyad,self.numara,self.maaş,self.diller))\n",
    "        \n",
    "        \n",
    "    def zam(self,zam_miktar):\n",
    "        \n",
    "        self.maaş += zam_miktar\n",
    "        \n",
    "        \n",
    "    def dilekleme(self,yeni_dil):\n",
    "        \n",
    "        self.diller.append(yeni_dil)\n",
    "        \n",
    "        "
   ]
  },
  {
   "cell_type": "code",
   "execution_count": 20,
   "id": "olive-population",
   "metadata": {},
   "outputs": [],
   "source": [
    "yazılımcı1 = yazılımcı(\"ahmet\",\"demir\",\"4444\",3000,[\"java\",\"python\",\"c\"])"
   ]
  },
  {
   "cell_type": "code",
   "execution_count": 21,
   "id": "empty-destination",
   "metadata": {},
   "outputs": [
    {
     "data": {
      "text/plain": [
       "<__main__.yazılımcı at 0x20397f955b0>"
      ]
     },
     "execution_count": 21,
     "metadata": {},
     "output_type": "execute_result"
    }
   ],
   "source": [
    "yazılımcı1"
   ]
  },
  {
   "cell_type": "code",
   "execution_count": 22,
   "id": "english-guidance",
   "metadata": {},
   "outputs": [
    {
     "name": "stdout",
     "output_type": "stream",
     "text": [
      "\n",
      "        \n",
      "        \n",
      "        yazılımcının özellikleri\n",
      "        \n",
      "        ad : ahmet\n",
      "        \n",
      "        soyad : demir\n",
      "        \n",
      "        numara : 4444\n",
      "        \n",
      "        maaş : 3000\n",
      "        \n",
      "        diller : ['java', 'python', 'c']\n",
      "        \n",
      "        \n",
      "        \n",
      "        \n",
      "        \n",
      "        \n",
      "        \n"
     ]
    }
   ],
   "source": [
    "yazılımcı1.bilgilerigöster()"
   ]
  },
  {
   "cell_type": "code",
   "execution_count": 23,
   "id": "second-creek",
   "metadata": {},
   "outputs": [],
   "source": [
    "yazılımcı2 = yazılımcı(\"james\",\"bond\",5555,4000,[\"python\",\"c++\"])"
   ]
  },
  {
   "cell_type": "code",
   "execution_count": 24,
   "id": "smart-hollow",
   "metadata": {},
   "outputs": [
    {
     "name": "stdout",
     "output_type": "stream",
     "text": [
      "\n",
      "        \n",
      "        \n",
      "        yazılımcının özellikleri\n",
      "        \n",
      "        ad : james\n",
      "        \n",
      "        soyad : bond\n",
      "        \n",
      "        numara : 5555\n",
      "        \n",
      "        maaş : 4000\n",
      "        \n",
      "        diller : ['python', 'c++']\n",
      "        \n",
      "        \n",
      "        \n",
      "        \n",
      "        \n",
      "        \n",
      "        \n"
     ]
    }
   ],
   "source": [
    "yazılımcı2.bilgilerigöster()"
   ]
  },
  {
   "cell_type": "code",
   "execution_count": 25,
   "id": "green-voltage",
   "metadata": {},
   "outputs": [],
   "source": [
    "yazılımcı1.zam(1000)"
   ]
  },
  {
   "cell_type": "code",
   "execution_count": 26,
   "id": "innovative-morgan",
   "metadata": {},
   "outputs": [
    {
     "name": "stdout",
     "output_type": "stream",
     "text": [
      "\n",
      "        \n",
      "        \n",
      "        yazılımcının özellikleri\n",
      "        \n",
      "        ad : ahmet\n",
      "        \n",
      "        soyad : demir\n",
      "        \n",
      "        numara : 4444\n",
      "        \n",
      "        maaş : 4000\n",
      "        \n",
      "        diller : ['java', 'python', 'c']\n",
      "        \n",
      "        \n",
      "        \n",
      "        \n",
      "        \n",
      "        \n",
      "        \n"
     ]
    }
   ],
   "source": [
    "yazılımcı1.bilgilerigöster()"
   ]
  },
  {
   "cell_type": "code",
   "execution_count": 27,
   "id": "natural-specialist",
   "metadata": {},
   "outputs": [],
   "source": [
    "yazılımcı1.dilekleme(\"php\")"
   ]
  },
  {
   "cell_type": "code",
   "execution_count": 28,
   "id": "quiet-median",
   "metadata": {},
   "outputs": [
    {
     "name": "stdout",
     "output_type": "stream",
     "text": [
      "\n",
      "        \n",
      "        \n",
      "        yazılımcının özellikleri\n",
      "        \n",
      "        ad : ahmet\n",
      "        \n",
      "        soyad : demir\n",
      "        \n",
      "        numara : 4444\n",
      "        \n",
      "        maaş : 4000\n",
      "        \n",
      "        diller : ['java', 'python', 'c', 'php']\n",
      "        \n",
      "        \n",
      "        \n",
      "        \n",
      "        \n",
      "        \n",
      "        \n"
     ]
    }
   ],
   "source": [
    "yazılımcı1.bilgilerigöster()"
   ]
  },
  {
   "cell_type": "code",
   "execution_count": null,
   "id": "caring-johnston",
   "metadata": {},
   "outputs": [],
   "source": []
  }
 ],
 "metadata": {
  "kernelspec": {
   "display_name": "Python 3",
   "language": "python",
   "name": "python3"
  },
  "language_info": {
   "codemirror_mode": {
    "name": "ipython",
    "version": 3
   },
   "file_extension": ".py",
   "mimetype": "text/x-python",
   "name": "python",
   "nbconvert_exporter": "python",
   "pygments_lexer": "ipython3",
   "version": "3.9.1"
  }
 },
 "nbformat": 4,
 "nbformat_minor": 5
}
