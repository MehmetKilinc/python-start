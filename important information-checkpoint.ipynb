{
 "cells": [
  {
   "cell_type": "markdown",
   "id": "medieval-lawsuit",
   "metadata": {},
   "source": [
    "# debugging"
   ]
  },
  {
   "cell_type": "code",
   "execution_count": 2,
   "id": "vulnerable-connecticut",
   "metadata": {},
   "outputs": [
    {
     "name": "stdout",
     "output_type": "stream",
     "text": [
      "enter number :5\n",
      "enter number :0\n"
     ]
    },
    {
     "ename": "ZeroDivisionError",
     "evalue": "float division by zero",
     "output_type": "error",
     "traceback": [
      "\u001b[1;31m---------------------------------------------------------------------------\u001b[0m",
      "\u001b[1;31mZeroDivisionError\u001b[0m                         Traceback (most recent call last)",
      "\u001b[1;32m<ipython-input-2-1481cf7c5387>\u001b[0m in \u001b[0;36m<module>\u001b[1;34m\u001b[0m\n\u001b[0;32m      2\u001b[0m \u001b[0mnumbertwo\u001b[0m \u001b[1;33m=\u001b[0m \u001b[0mfloat\u001b[0m\u001b[1;33m(\u001b[0m\u001b[0minput\u001b[0m\u001b[1;33m(\u001b[0m\u001b[1;34m\"enter number :\"\u001b[0m\u001b[1;33m)\u001b[0m\u001b[1;33m)\u001b[0m\u001b[1;33m\u001b[0m\u001b[1;33m\u001b[0m\u001b[0m\n\u001b[0;32m      3\u001b[0m \u001b[1;33m\u001b[0m\u001b[0m\n\u001b[1;32m----> 4\u001b[1;33m \u001b[0mprint\u001b[0m\u001b[1;33m(\u001b[0m\u001b[1;34m\"sonuc = {}\"\u001b[0m\u001b[1;33m.\u001b[0m\u001b[0mformat\u001b[0m\u001b[1;33m(\u001b[0m\u001b[0mnumberone\u001b[0m\u001b[1;33m/\u001b[0m\u001b[0mnumbertwo\u001b[0m\u001b[1;33m)\u001b[0m\u001b[1;33m)\u001b[0m\u001b[1;33m\u001b[0m\u001b[1;33m\u001b[0m\u001b[0m\n\u001b[0m",
      "\u001b[1;31mZeroDivisionError\u001b[0m: float division by zero"
     ]
    }
   ],
   "source": [
    "numberone = float(input(\"enter number :\"))\n",
    "numbertwo = float(input(\"enter number :\"))\n",
    "\n",
    "print(\"sonuc = {}\".format(numberone/numbertwo))"
   ]
  },
  {
   "cell_type": "code",
   "execution_count": 3,
   "id": "champion-filename",
   "metadata": {},
   "outputs": [
    {
     "name": "stdout",
     "output_type": "stream",
     "text": [
      "enter number :5\n",
      "enter number :0\n",
      "a number cannot be divided by zero\n",
      "float division by zero\n"
     ]
    }
   ],
   "source": [
    "numberone = float(input(\"enter number :\"))\n",
    "numbertwo = float(input(\"enter number :\"))\n",
    "\n",
    "try:\n",
    "    print(\"sonuc = {}\".format(numberone/numbertwo))\n",
    "    \n",
    "except ZeroDivisionError as error:\n",
    "    print(\"a number cannot be divided by zero\")\n",
    "    print(error)\n",
    "    "
   ]
  },
  {
   "cell_type": "markdown",
   "id": "patient-covering",
   "metadata": {},
   "source": [
    "# creating error"
   ]
  },
  {
   "cell_type": "code",
   "execution_count": 7,
   "id": "secondary-noise",
   "metadata": {},
   "outputs": [
    {
     "name": "stdout",
     "output_type": "stream",
     "text": [
      "enter number :5\n"
     ]
    },
    {
     "ename": "Exception",
     "evalue": "this number cannot be five",
     "output_type": "error",
     "traceback": [
      "\u001b[1;31m---------------------------------------------------------------------------\u001b[0m",
      "\u001b[1;31mException\u001b[0m                                 Traceback (most recent call last)",
      "\u001b[1;32m<ipython-input-7-3777ffe898d4>\u001b[0m in \u001b[0;36m<module>\u001b[1;34m\u001b[0m\n\u001b[0;32m      3\u001b[0m     \u001b[1;32mif\u001b[0m \u001b[0mnumber\u001b[0m \u001b[1;33m==\u001b[0m \u001b[1;36m5\u001b[0m\u001b[1;33m:\u001b[0m\u001b[1;33m\u001b[0m\u001b[1;33m\u001b[0m\u001b[0m\n\u001b[0;32m      4\u001b[0m         \u001b[1;32mraise\u001b[0m \u001b[0mException\u001b[0m\u001b[1;33m(\u001b[0m\u001b[1;34m\"this number cannot be five\"\u001b[0m\u001b[1;33m)\u001b[0m\u001b[1;33m\u001b[0m\u001b[1;33m\u001b[0m\u001b[0m\n\u001b[1;32m----> 5\u001b[1;33m \u001b[0mcreating_error\u001b[0m\u001b[1;33m(\u001b[0m\u001b[1;33m)\u001b[0m\u001b[1;33m\u001b[0m\u001b[1;33m\u001b[0m\u001b[0m\n\u001b[0m",
      "\u001b[1;32m<ipython-input-7-3777ffe898d4>\u001b[0m in \u001b[0;36mcreating_error\u001b[1;34m()\u001b[0m\n\u001b[0;32m      2\u001b[0m     \u001b[0mnumber\u001b[0m \u001b[1;33m=\u001b[0m \u001b[0mint\u001b[0m\u001b[1;33m(\u001b[0m\u001b[0minput\u001b[0m\u001b[1;33m(\u001b[0m\u001b[1;34m\"enter number :\"\u001b[0m\u001b[1;33m)\u001b[0m\u001b[1;33m)\u001b[0m\u001b[1;33m\u001b[0m\u001b[1;33m\u001b[0m\u001b[0m\n\u001b[0;32m      3\u001b[0m     \u001b[1;32mif\u001b[0m \u001b[0mnumber\u001b[0m \u001b[1;33m==\u001b[0m \u001b[1;36m5\u001b[0m\u001b[1;33m:\u001b[0m\u001b[1;33m\u001b[0m\u001b[1;33m\u001b[0m\u001b[0m\n\u001b[1;32m----> 4\u001b[1;33m         \u001b[1;32mraise\u001b[0m \u001b[0mException\u001b[0m\u001b[1;33m(\u001b[0m\u001b[1;34m\"this number cannot be five\"\u001b[0m\u001b[1;33m)\u001b[0m\u001b[1;33m\u001b[0m\u001b[1;33m\u001b[0m\u001b[0m\n\u001b[0m\u001b[0;32m      5\u001b[0m \u001b[0mcreating_error\u001b[0m\u001b[1;33m(\u001b[0m\u001b[1;33m)\u001b[0m\u001b[1;33m\u001b[0m\u001b[1;33m\u001b[0m\u001b[0m\n",
      "\u001b[1;31mException\u001b[0m: this number cannot be five"
     ]
    }
   ],
   "source": [
    "def creating_error():\n",
    "    number = int(input(\"enter number :\"))\n",
    "    if number == 5:\n",
    "        raise Exception(\"this number cannot be five\")\n",
    "creating_error()"
   ]
  },
  {
   "cell_type": "code",
   "execution_count": 8,
   "id": "photographic-string",
   "metadata": {},
   "outputs": [
    {
     "name": "stdout",
     "output_type": "stream",
     "text": [
      "enter number :2\n"
     ]
    }
   ],
   "source": [
    "creating_error()"
   ]
  },
  {
   "cell_type": "code",
   "execution_count": 9,
   "id": "heard-semiconductor",
   "metadata": {},
   "outputs": [
    {
     "name": "stdout",
     "output_type": "stream",
     "text": [
      "cdefghı\n"
     ]
    }
   ],
   "source": [
    "string = \"abcdefghı\"\n",
    "\n",
    "print(string[2:20])"
   ]
  },
  {
   "cell_type": "code",
   "execution_count": 10,
   "id": "bridal-appliance",
   "metadata": {},
   "outputs": [
    {
     "name": "stdout",
     "output_type": "stream",
     "text": [
      "ıhgfedcba\n"
     ]
    }
   ],
   "source": [
    "print(string[::-1])"
   ]
  },
  {
   "cell_type": "code",
   "execution_count": 11,
   "id": "dynamic-bread",
   "metadata": {},
   "outputs": [
    {
     "name": "stdout",
     "output_type": "stream",
     "text": [
      "abcdefghı\n"
     ]
    }
   ],
   "source": [
    "print(string[::1])"
   ]
  },
  {
   "cell_type": "code",
   "execution_count": 12,
   "id": "welcome-harassment",
   "metadata": {},
   "outputs": [
    {
     "name": "stdout",
     "output_type": "stream",
     "text": [
      "acegı\n"
     ]
    }
   ],
   "source": [
    "print(string[::2])"
   ]
  },
  {
   "cell_type": "code",
   "execution_count": 13,
   "id": "northern-research",
   "metadata": {},
   "outputs": [
    {
     "name": "stdout",
     "output_type": "stream",
     "text": [
      "adg\n"
     ]
    }
   ],
   "source": [
    "print(string[::3])"
   ]
  },
  {
   "cell_type": "code",
   "execution_count": 14,
   "id": "literary-chance",
   "metadata": {},
   "outputs": [
    {
     "name": "stdout",
     "output_type": "stream",
     "text": [
      "aeı\n"
     ]
    }
   ],
   "source": [
    "print(string[::4])"
   ]
  },
  {
   "cell_type": "code",
   "execution_count": 22,
   "id": "straight-sentence",
   "metadata": {},
   "outputs": [
    {
     "name": "stdout",
     "output_type": "stream",
     "text": [
      "(9, 2)\n",
      "(2308094809027379, 281474976710656)\n",
      "(10, 1)\n"
     ]
    }
   ],
   "source": [
    "numberone = 4.5\n",
    "numbertwo = 8.2\n",
    "numberthree = 10\n",
    "print(numberone.as_integer_ratio())\n",
    "print(numbertwo.as_integer_ratio())\n",
    "print(numberthree.as_integer_ratio())"
   ]
  },
  {
   "cell_type": "code",
   "execution_count": 23,
   "id": "affected-picking",
   "metadata": {},
   "outputs": [
    {
     "name": "stdout",
     "output_type": "stream",
     "text": [
      "<class 'int'>\n",
      "<class 'float'>\n"
     ]
    }
   ],
   "source": [
    "numberone = 10\n",
    "numbertwo = 15.1\n",
    "print(type(numberone))\n",
    "print(type(numbertwo))"
   ]
  },
  {
   "cell_type": "code",
   "execution_count": 26,
   "id": "other-conservative",
   "metadata": {},
   "outputs": [
    {
     "name": "stdout",
     "output_type": "stream",
     "text": [
      "20.0\n",
      "12.0\n"
     ]
    }
   ],
   "source": [
    "complex_number = 20 + 12j\n",
    "print(complex_number.real)\n",
    "print(complex_number.imag)"
   ]
  },
  {
   "cell_type": "code",
   "execution_count": null,
   "id": "registered-protocol",
   "metadata": {},
   "outputs": [],
   "source": [
    "\n",
    "numbertwo = -20\n",
    "print(abs(numberone))\n",
    "print(abs(numbertwo))"
   ]
  },
  {
   "cell_type": "markdown",
   "id": "foster-understanding",
   "metadata": {},
   "source": [
    "gives absolute value"
   ]
  },
  {
   "cell_type": "code",
   "execution_count": 28,
   "id": "painted-malaysia",
   "metadata": {},
   "outputs": [
    {
     "name": "stdout",
     "output_type": "stream",
     "text": [
      "(2, 2)\n"
     ]
    }
   ],
   "source": [
    "numberone = 10\n",
    "numbertwo = 4\n",
    "print(divmod(numberone,numbertwo))"
   ]
  },
  {
   "cell_type": "markdown",
   "id": "creative-fairy",
   "metadata": {},
   "source": [
    "gives share and remainder"
   ]
  },
  {
   "cell_type": "markdown",
   "id": "realistic-hardware",
   "metadata": {},
   "source": [
    "# creating file"
   ]
  },
  {
   "cell_type": "code",
   "execution_count": 40,
   "id": "directed-ghost",
   "metadata": {},
   "outputs": [
    {
     "data": {
      "text/plain": [
       "<function TextIOWrapper.close()>"
      ]
     },
     "execution_count": 40,
     "metadata": {},
     "output_type": "execute_result"
    }
   ],
   "source": [
    "file = open(\"test.txt\",\"w\")\n",
    "print_into_file = \"hello world\"\n",
    "print_into_file = \"hello world\"\n",
    "file.write(print_into_file)\n",
    "file.close"
   ]
  },
  {
   "cell_type": "code",
   "execution_count": 41,
   "id": "dimensional-wheat",
   "metadata": {},
   "outputs": [
    {
     "name": "stdout",
     "output_type": "stream",
     "text": [
      "[]\n"
     ]
    },
    {
     "data": {
      "text/plain": [
       "<function TextIOWrapper.close()>"
      ]
     },
     "execution_count": 41,
     "metadata": {},
     "output_type": "execute_result"
    }
   ],
   "source": [
    "file=open(\"test.txt\",\"r\")\n",
    "reading = file.readlines()\n",
    "print(reading)\n",
    "file.close"
   ]
  }
 ],
 "metadata": {
  "kernelspec": {
   "display_name": "Python 3",
   "language": "python",
   "name": "python3"
  },
  "language_info": {
   "codemirror_mode": {
    "name": "ipython",
    "version": 3
   },
   "file_extension": ".py",
   "mimetype": "text/x-python",
   "name": "python",
   "nbconvert_exporter": "python",
   "pygments_lexer": "ipython3",
   "version": "3.9.1"
  }
 },
 "nbformat": 4,
 "nbformat_minor": 5
}
