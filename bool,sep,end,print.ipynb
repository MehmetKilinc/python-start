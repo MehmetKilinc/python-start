{
 "cells": [
  {
   "cell_type": "code",
   "execution_count": 19,
   "id": "matched-present",
   "metadata": {},
   "outputs": [
    {
     "name": "stdout",
     "output_type": "stream",
     "text": [
      "True\n"
     ]
    }
   ],
   "source": [
    "a = 1 \n",
    "b = 0\n",
    "\n",
    "print(bool(a))"
   ]
  },
  {
   "cell_type": "code",
   "execution_count": 20,
   "id": "revised-edition",
   "metadata": {},
   "outputs": [
    {
     "name": "stdout",
     "output_type": "stream",
     "text": [
      "False\n"
     ]
    }
   ],
   "source": [
    "print(bool(b))"
   ]
  },
  {
   "cell_type": "code",
   "execution_count": 21,
   "id": "numerous-revision",
   "metadata": {},
   "outputs": [
    {
     "name": "stdout",
     "output_type": "stream",
     "text": [
      "6\n"
     ]
    }
   ],
   "source": [
    "c = 6.78\n",
    "\n",
    "print(int(c))"
   ]
  },
  {
   "cell_type": "code",
   "execution_count": 22,
   "id": "attached-prevention",
   "metadata": {},
   "outputs": [
    {
     "name": "stdout",
     "output_type": "stream",
     "text": [
      "2.0\n"
     ]
    }
   ],
   "source": [
    "d = 2\n",
    "print(float(d))"
   ]
  },
  {
   "cell_type": "code",
   "execution_count": 23,
   "id": "tender-midwest",
   "metadata": {},
   "outputs": [
    {
     "name": "stdout",
     "output_type": "stream",
     "text": [
      "\n",
      "\n",
      "orgphjgoptırgj\n",
      "rğjgtrgujtr\n",
      "rğjgğtrujgtr\n",
      "\n",
      "\n",
      "\n"
     ]
    }
   ],
   "source": [
    "print(\"\"\"\n",
    "\n",
    "orgphjgoptırgj\n",
    "rğjgtrgujtr\n",
    "rğjgğtrujgtr\n",
    "\n",
    "\n",
    "\"\"\")"
   ]
  },
  {
   "cell_type": "code",
   "execution_count": 26,
   "id": "liquid-problem",
   "metadata": {},
   "outputs": [
    {
     "name": "stdout",
     "output_type": "stream",
     "text": [
      "1:2:3\n"
     ]
    }
   ],
   "source": [
    "a = 1\n",
    "b = 2 \n",
    "c = 3\n",
    "\n",
    "print(a,b,c,  sep=\":\")"
   ]
  },
  {
   "cell_type": "code",
   "execution_count": 28,
   "id": "growing-pixel",
   "metadata": {},
   "outputs": [
    {
     "name": "stdout",
     "output_type": "stream",
     "text": [
      "1============2============3\n"
     ]
    }
   ],
   "source": [
    "a = 1\n",
    "b = 2 \n",
    "c = 3\n",
    "\n",
    "print(a,b,c,  sep=\"============\")"
   ]
  },
  {
   "cell_type": "code",
   "execution_count": 31,
   "id": "textile-witness",
   "metadata": {},
   "outputs": [
    {
     "name": "stdout",
     "output_type": "stream",
     "text": [
      "1============2============3hello"
     ]
    }
   ],
   "source": [
    "a = 1\n",
    "b = 2 \n",
    "c = 3\n",
    "\n",
    "print(a,b,c,  sep=\"============\" , end = \"hello\")\n",
    "\n"
   ]
  },
  {
   "cell_type": "code",
   "execution_count": null,
   "id": "treated-resident",
   "metadata": {},
   "outputs": [],
   "source": []
  }
 ],
 "metadata": {
  "kernelspec": {
   "display_name": "Python 3",
   "language": "python",
   "name": "python3"
  },
  "language_info": {
   "codemirror_mode": {
    "name": "ipython",
    "version": 3
   },
   "file_extension": ".py",
   "mimetype": "text/x-python",
   "name": "python",
   "nbconvert_exporter": "python",
   "pygments_lexer": "ipython3",
   "version": "3.9.1"
  }
 },
 "nbformat": 4,
 "nbformat_minor": 5
}
