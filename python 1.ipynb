{
 "cells": [
  {
   "cell_type": "code",
   "execution_count": 2,
   "id": "spare-sphere",
   "metadata": {},
   "outputs": [
    {
     "name": "stdout",
     "output_type": "stream",
     "text": [
      "enter number:6\n",
      "not a prime number\n"
     ]
    }
   ],
   "source": [
    "counter=0\n",
    "number=input(\"enter number:\")\n",
    "for i in range(2,int(number)):\n",
    "    if(int(number)%i==0):\n",
    "        counter+=1\n",
    "        break\n",
    "if(counter!=0):\n",
    "    print(\"not a prime number\")\n",
    "else:\n",
    "    print(\"prime number\")"
   ]
  },
  {
   "cell_type": "code",
   "execution_count": 7,
   "id": "serial-version",
   "metadata": {},
   "outputs": [],
   "source": [
    "list1=\"\"\"\n",
    "a={}\n",
    "b={}\"\"\".format(\"pen\",\"eraser\")"
   ]
  },
  {
   "cell_type": "code",
   "execution_count": 8,
   "id": "fancy-anthony",
   "metadata": {},
   "outputs": [
    {
     "name": "stdout",
     "output_type": "stream",
     "text": [
      "p\n",
      "e\n",
      "n\n",
      ",\n",
      "e\n",
      "r\n",
      "a\n",
      "s\n",
      "e\n",
      "r\n"
     ]
    }
   ],
   "source": [
    "listtwo=\"pen,eraser\"\n",
    "for i in listtwo:\n",
    "    print(\"{}\".format(i))"
   ]
  },
  {
   "cell_type": "markdown",
   "id": "distinct-diana",
   "metadata": {},
   "source": [
    "# number order\n"
   ]
  },
  {
   "cell_type": "code",
   "execution_count": 11,
   "id": "sunset-wagon",
   "metadata": {},
   "outputs": [
    {
     "name": "stdout",
     "output_type": "stream",
     "text": [
      "[1, 5, 54, 43, 7, 70, 3, 19, 90]\n",
      "[1, 5, 43, 7, 54, 3, 19, 70, 90]\n",
      "[1, 5, 7, 43, 3, 19, 54, 70, 90]\n",
      "[1, 5, 7, 3, 19, 43, 54, 70, 90]\n",
      "[1, 5, 3, 7, 19, 43, 54, 70, 90]\n",
      "[1, 3, 5, 7, 19, 43, 54, 70, 90]\n",
      "[1, 3, 5, 7, 19, 43, 54, 70, 90]\n",
      "[1, 3, 5, 7, 19, 43, 54, 70, 90]\n",
      "[1, 3, 5, 7, 19, 43, 54, 70, 90]\n"
     ]
    }
   ],
   "source": [
    "numbers = [1,5,90,54,43,7,70,3,19]\n",
    "size = numbers.__len__()\n",
    "for i in range(0,size):\n",
    "    for j in range(1,size):\n",
    "        if numbers[j-1]>numbers[j]:\n",
    "            z=numbers[j-1]\n",
    "            numbers[j-1]=numbers[j]\n",
    "            numbers[j]=z\n",
    "    print(numbers)"
   ]
  },
  {
   "cell_type": "code",
   "execution_count": 18,
   "id": "complicated-radar",
   "metadata": {},
   "outputs": [
    {
     "name": "stdout",
     "output_type": "stream",
     "text": [
      "ı am fine and you\n"
     ]
    }
   ],
   "source": [
    "a1=\"ı am fine\"\n",
    "a2=\"and you\"\n",
    "combining = \"{} {}\".format(a1,a2)\n",
    "print(combining)"
   ]
  },
  {
   "cell_type": "markdown",
   "id": "regular-mystery",
   "metadata": {},
   "source": [
    "ı am fine and you"
   ]
  },
  {
   "cell_type": "code",
   "execution_count": 19,
   "id": "mediterranean-action",
   "metadata": {},
   "outputs": [
    {
     "name": "stdout",
     "output_type": "stream",
     "text": [
      "enter first sentence :hello\n",
      "enter second sentence :how are you\n",
      "hello how are you\n"
     ]
    }
   ],
   "source": [
    "first_sentence = input(\"enter first sentence :\")\n",
    "second_sentence = input(\"enter second sentence :\")\n",
    "combining = \"{} {}\".format(first_sentence,second_sentence)\n",
    "print(combining)"
   ]
  },
  {
   "cell_type": "code",
   "execution_count": null,
   "id": "authorized-lodge",
   "metadata": {},
   "outputs": [],
   "source": []
  }
 ],
 "metadata": {
  "kernelspec": {
   "display_name": "Python 3",
   "language": "python",
   "name": "python3"
  },
  "language_info": {
   "codemirror_mode": {
    "name": "ipython",
    "version": 3
   },
   "file_extension": ".py",
   "mimetype": "text/x-python",
   "name": "python",
   "nbconvert_exporter": "python",
   "pygments_lexer": "ipython3",
   "version": "3.9.1"
  }
 },
 "nbformat": 4,
 "nbformat_minor": 5
}
