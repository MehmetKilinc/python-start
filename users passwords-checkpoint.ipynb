{
 "cells": [
  {
   "cell_type": "markdown",
   "id": "proper-tourism",
   "metadata": {},
   "source": [
    "# users and passwords"
   ]
  },
  {
   "cell_type": "code",
   "execution_count": 2,
   "id": "swedish-jurisdiction",
   "metadata": {},
   "outputs": [
    {
     "name": "stdout",
     "output_type": "stream",
     "text": [
      "enter user name :james\n",
      "welcome james\n",
      "enter your password :12345\n",
      "Login successful\n"
     ]
    }
   ],
   "source": [
    "def users():\n",
    "    users = {\"james\" : \"12345\",\n",
    "\n",
    "             \"george\" : \"54321\"\n",
    "            }\n",
    "\n",
    "    names = users.keys()\n",
    "\n",
    "    user_name = input(\"enter user name :\")\n",
    "\n",
    "    if user_name in names:\n",
    "        print(\"welcome {}\".format(user_name))\n",
    "        password = input(\"enter your password :\")\n",
    "        if password == users[user_name]:\n",
    "            print(\"Login successful\")\n",
    "        else:\n",
    "            print(\"Wrong password\")\n",
    "\n",
    "    else:\n",
    "        print(\"no user\")\n",
    "        \n",
    "users()"
   ]
  },
  {
   "cell_type": "code",
   "execution_count": 3,
   "id": "worldwide-prize",
   "metadata": {},
   "outputs": [
    {
     "name": "stdout",
     "output_type": "stream",
     "text": [
      "enter user name :george\n",
      "welcome george\n",
      "enter your password :54321\n",
      "Login successful\n"
     ]
    }
   ],
   "source": [
    "users()"
   ]
  },
  {
   "cell_type": "code",
   "execution_count": 4,
   "id": "talented-victory",
   "metadata": {},
   "outputs": [
    {
     "name": "stdout",
     "output_type": "stream",
     "text": [
      "enter user name :mark\n",
      "no user\n"
     ]
    }
   ],
   "source": [
    "users()"
   ]
  }
 ],
 "metadata": {
  "kernelspec": {
   "display_name": "Python 3",
   "language": "python",
   "name": "python3"
  },
  "language_info": {
   "codemirror_mode": {
    "name": "ipython",
    "version": 3
   },
   "file_extension": ".py",
   "mimetype": "text/x-python",
   "name": "python",
   "nbconvert_exporter": "python",
   "pygments_lexer": "ipython3",
   "version": "3.9.1"
  }
 },
 "nbformat": 4,
 "nbformat_minor": 5
}
