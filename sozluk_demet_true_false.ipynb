{
 "cells": [
  {
   "cell_type": "code",
   "execution_count": 6,
   "id": "historical-display",
   "metadata": {},
   "outputs": [],
   "source": [
    "demet = (1,1,1,2,2,3,4,5,5,5,5,5,6)"
   ]
  },
  {
   "cell_type": "code",
   "execution_count": 7,
   "id": "gross-technology",
   "metadata": {},
   "outputs": [
    {
     "data": {
      "text/plain": [
       "tuple"
      ]
     },
     "execution_count": 7,
     "metadata": {},
     "output_type": "execute_result"
    }
   ],
   "source": [
    "type(demet)"
   ]
  },
  {
   "cell_type": "code",
   "execution_count": 8,
   "id": "tough-fountain",
   "metadata": {},
   "outputs": [
    {
     "data": {
      "text/plain": [
       "1"
      ]
     },
     "execution_count": 8,
     "metadata": {},
     "output_type": "execute_result"
    }
   ],
   "source": [
    "demet[2]"
   ]
  },
  {
   "cell_type": "code",
   "execution_count": 9,
   "id": "obvious-tiger",
   "metadata": {},
   "outputs": [
    {
     "data": {
      "text/plain": [
       "3"
      ]
     },
     "execution_count": 9,
     "metadata": {},
     "output_type": "execute_result"
    }
   ],
   "source": [
    "demet.count(1)"
   ]
  },
  {
   "cell_type": "code",
   "execution_count": 10,
   "id": "normal-suggestion",
   "metadata": {},
   "outputs": [
    {
     "data": {
      "text/plain": [
       "5"
      ]
     },
     "execution_count": 10,
     "metadata": {},
     "output_type": "execute_result"
    }
   ],
   "source": [
    "demet.count(5)"
   ]
  },
  {
   "cell_type": "code",
   "execution_count": 11,
   "id": "designed-excess",
   "metadata": {},
   "outputs": [],
   "source": [
    "demet2 = (\"merhaba\",\"yazilim\",\"python\",\"java\")"
   ]
  },
  {
   "cell_type": "code",
   "execution_count": 13,
   "id": "honest-comparative",
   "metadata": {},
   "outputs": [
    {
     "data": {
      "text/plain": [
       "0"
      ]
     },
     "execution_count": 13,
     "metadata": {},
     "output_type": "execute_result"
    }
   ],
   "source": [
    "demet2.index(\"merhaba\")  #stringin bulunduğu index numarasını verir"
   ]
  },
  {
   "cell_type": "code",
   "execution_count": 15,
   "id": "italic-given",
   "metadata": {},
   "outputs": [
    {
     "ename": "TypeError",
     "evalue": "'tuple' object does not support item assignment",
     "output_type": "error",
     "traceback": [
      "\u001b[1;31m---------------------------------------------------------------------------\u001b[0m",
      "\u001b[1;31mTypeError\u001b[0m                                 Traceback (most recent call last)",
      "\u001b[1;32m<ipython-input-15-3c906aabbc45>\u001b[0m in \u001b[0;36m<module>\u001b[1;34m\u001b[0m\n\u001b[1;32m----> 1\u001b[1;33m \u001b[0mdemet\u001b[0m\u001b[1;33m[\u001b[0m\u001b[1;36m0\u001b[0m\u001b[1;33m]\u001b[0m \u001b[1;33m=\u001b[0m \u001b[1;36m1\u001b[0m         \u001b[1;31m#demetlerin listelerden farkı değiştirilemez oluşu\u001b[0m\u001b[1;33m\u001b[0m\u001b[1;33m\u001b[0m\u001b[0m\n\u001b[0m",
      "\u001b[1;31mTypeError\u001b[0m: 'tuple' object does not support item assignment"
     ]
    }
   ],
   "source": [
    "demet[0] = 1         #demetlerin listelerden farkı değiştirilemez oluşu"
   ]
  },
  {
   "cell_type": "code",
   "execution_count": 16,
   "id": "novel-accident",
   "metadata": {},
   "outputs": [],
   "source": [
    "sozluk1 = {\"bir\":1 , \"iki\":2 , \"uc\":3 , \"dort\":4}"
   ]
  },
  {
   "cell_type": "code",
   "execution_count": 17,
   "id": "satellite-compound",
   "metadata": {},
   "outputs": [
    {
     "data": {
      "text/plain": [
       "dict"
      ]
     },
     "execution_count": 17,
     "metadata": {},
     "output_type": "execute_result"
    }
   ],
   "source": [
    "type(sozluk1)"
   ]
  },
  {
   "cell_type": "code",
   "execution_count": 18,
   "id": "stopped-architect",
   "metadata": {},
   "outputs": [],
   "source": [
    "sozluk2 = {}        #boş bir sözlük"
   ]
  },
  {
   "cell_type": "code",
   "execution_count": 21,
   "id": "sticky-prayer",
   "metadata": {},
   "outputs": [],
   "source": [
    "sozluk3 = dict()    #boş bir sözlük"
   ]
  },
  {
   "cell_type": "code",
   "execution_count": 22,
   "id": "bearing-longer",
   "metadata": {},
   "outputs": [
    {
     "data": {
      "text/plain": [
       "{'bir': 1, 'iki': 2, 'uc': 3, 'dort': 4}"
      ]
     },
     "execution_count": 22,
     "metadata": {},
     "output_type": "execute_result"
    }
   ],
   "source": [
    "sozluk1"
   ]
  },
  {
   "cell_type": "code",
   "execution_count": 24,
   "id": "hired-patient",
   "metadata": {},
   "outputs": [
    {
     "data": {
      "text/plain": [
       "1"
      ]
     },
     "execution_count": 24,
     "metadata": {},
     "output_type": "execute_result"
    }
   ],
   "source": [
    "sozluk1[\"bir\"]"
   ]
  },
  {
   "cell_type": "code",
   "execution_count": 25,
   "id": "educated-lightweight",
   "metadata": {},
   "outputs": [],
   "source": [
    "sozluk1[\"beş\"] = 5"
   ]
  },
  {
   "cell_type": "code",
   "execution_count": 26,
   "id": "heated-ticket",
   "metadata": {},
   "outputs": [
    {
     "data": {
      "text/plain": [
       "{'bir': 1, 'iki': 2, 'uc': 3, 'dort': 4, 'beş': 5}"
      ]
     },
     "execution_count": 26,
     "metadata": {},
     "output_type": "execute_result"
    }
   ],
   "source": [
    "sozluk1"
   ]
  },
  {
   "cell_type": "code",
   "execution_count": 27,
   "id": "frozen-infrared",
   "metadata": {},
   "outputs": [],
   "source": [
    "a =  {\"bir\":[1,2,3,4] , \"iki\" : [[1,2,3],[4,5,6]]}"
   ]
  },
  {
   "cell_type": "code",
   "execution_count": 28,
   "id": "surface-worcester",
   "metadata": {},
   "outputs": [
    {
     "data": {
      "text/plain": [
       "[[1, 2, 3], [4, 5, 6]]"
      ]
     },
     "execution_count": 28,
     "metadata": {},
     "output_type": "execute_result"
    }
   ],
   "source": [
    "a[\"iki\"]"
   ]
  },
  {
   "cell_type": "code",
   "execution_count": 29,
   "id": "miniature-hawaii",
   "metadata": {},
   "outputs": [
    {
     "data": {
      "text/plain": [
       "4"
      ]
     },
     "execution_count": 29,
     "metadata": {},
     "output_type": "execute_result"
    }
   ],
   "source": [
    "a[\"iki\"][1][0]"
   ]
  },
  {
   "cell_type": "code",
   "execution_count": 30,
   "id": "charming-chosen",
   "metadata": {},
   "outputs": [],
   "source": [
    "sozluk1[\"bir\"] = 9"
   ]
  },
  {
   "cell_type": "code",
   "execution_count": 31,
   "id": "automatic-fifty",
   "metadata": {},
   "outputs": [
    {
     "data": {
      "text/plain": [
       "{'bir': 9, 'iki': 2, 'uc': 3, 'dort': 4, 'beş': 5}"
      ]
     },
     "execution_count": 31,
     "metadata": {},
     "output_type": "execute_result"
    }
   ],
   "source": [
    "sozluk1"
   ]
  },
  {
   "cell_type": "code",
   "execution_count": 32,
   "id": "divine-compact",
   "metadata": {},
   "outputs": [],
   "source": [
    "sozluk1[\"iki\"] += 5"
   ]
  },
  {
   "cell_type": "code",
   "execution_count": 33,
   "id": "aerial-oxford",
   "metadata": {},
   "outputs": [
    {
     "data": {
      "text/plain": [
       "{'bir': 9, 'iki': 7, 'uc': 3, 'dort': 4, 'beş': 5}"
      ]
     },
     "execution_count": 33,
     "metadata": {},
     "output_type": "execute_result"
    }
   ],
   "source": [
    "sozluk1"
   ]
  },
  {
   "cell_type": "code",
   "execution_count": 34,
   "id": "biblical-boulder",
   "metadata": {},
   "outputs": [],
   "source": [
    "sozluk4 = {\"sayılar\":{\"bir\":1 , \"iki\":2 , \"üç\" : 3}, \"meyveler\" : {\"erik\" : \"kış\" , \"muz\" : \"yaz\" , \"kaysı\" : \"yaz\"}}"
   ]
  },
  {
   "cell_type": "code",
   "execution_count": 35,
   "id": "bacterial-earthquake",
   "metadata": {},
   "outputs": [
    {
     "data": {
      "text/plain": [
       "'kış'"
      ]
     },
     "execution_count": 35,
     "metadata": {},
     "output_type": "execute_result"
    }
   ],
   "source": [
    "sozluk4[\"meyveler\"][\"erik\"]"
   ]
  },
  {
   "cell_type": "code",
   "execution_count": 36,
   "id": "olympic-prerequisite",
   "metadata": {},
   "outputs": [
    {
     "data": {
      "text/plain": [
       "dict_keys(['bir', 'iki', 'uc', 'dort', 'beş'])"
      ]
     },
     "execution_count": 36,
     "metadata": {},
     "output_type": "execute_result"
    }
   ],
   "source": [
    "sozluk1.keys()"
   ]
  },
  {
   "cell_type": "code",
   "execution_count": 37,
   "id": "balanced-authority",
   "metadata": {},
   "outputs": [
    {
     "data": {
      "text/plain": [
       "dict_values([9, 7, 3, 4, 5])"
      ]
     },
     "execution_count": 37,
     "metadata": {},
     "output_type": "execute_result"
    }
   ],
   "source": [
    "sozluk1.values()"
   ]
  },
  {
   "cell_type": "code",
   "execution_count": 38,
   "id": "dressed-aviation",
   "metadata": {},
   "outputs": [
    {
     "data": {
      "text/plain": [
       "dict_items([('bir', 9), ('iki', 7), ('uc', 3), ('dort', 4), ('beş', 5)])"
      ]
     },
     "execution_count": 38,
     "metadata": {},
     "output_type": "execute_result"
    }
   ],
   "source": [
    "sozluk1.items()"
   ]
  },
  {
   "cell_type": "code",
   "execution_count": 39,
   "id": "ordinary-alcohol",
   "metadata": {},
   "outputs": [
    {
     "name": "stdout",
     "output_type": "stream",
     "text": [
      "bir 9\n",
      "iki 7\n",
      "uc 3\n",
      "dort 4\n",
      "beş 5\n"
     ]
    }
   ],
   "source": [
    "for i,j in sozluk1.items():\n",
    "    print(i,j)"
   ]
  },
  {
   "cell_type": "code",
   "execution_count": 41,
   "id": "young-beads",
   "metadata": {},
   "outputs": [
    {
     "name": "stdout",
     "output_type": "stream",
     "text": [
      "lütfen bir sayı giriniz:45harhhath\n",
      "sadece sayı giriniz .....!\n"
     ]
    }
   ],
   "source": [
    "\n",
    "\n",
    "try:\n",
    "    a = int(input(\"lütfen bir sayı giriniz:\"))\n",
    "    print(a)\n",
    "    \n",
    "except ValueError:\n",
    "    print(\"sadece sayı giriniz .....!\")"
   ]
  },
  {
   "cell_type": "code",
   "execution_count": 42,
   "id": "endangered-brain",
   "metadata": {},
   "outputs": [
    {
     "name": "stdout",
     "output_type": "stream",
     "text": [
      "oyuncunun adını girin : hakan\n",
      "oyuncunun soyadını girin : şükür\n",
      "oyuncunun yaşını girin : 40\n",
      "oyuncunun takımını girin : galatasaray\n",
      "\n",
      "oyuncunun adı    : hakan\n",
      "oyuncunun soyadı : şükür\n",
      "oyuncunun yaşı   : 40\n",
      "oyuncunun takımı : galatasaray\n",
      "\n"
     ]
    }
   ],
   "source": [
    "ad = input(\"oyuncunun adını girin : \")\n",
    "soyad = input(\"oyuncunun soyadını girin : \")\n",
    "yas = int(input(\"oyuncunun yaşını girin : \"))\n",
    "takım = input(\"oyuncunun takımını girin : \")\n",
    "\n",
    "bilgiler = [ad , soyad , yas , takım]\n",
    "\n",
    "print(\"\"\"\n",
    "oyuncunun adı    : {}\n",
    "oyuncunun soyadı : {}\n",
    "oyuncunun yaşı   : {}\n",
    "oyuncunun takımı : {}\n",
    "\"\"\".format(bilgiler[0],bilgiler[1],bilgiler[2],bilgiler[3]))"
   ]
  },
  {
   "cell_type": "code",
   "execution_count": 44,
   "id": "growing-penalty",
   "metadata": {},
   "outputs": [
    {
     "name": "stdout",
     "output_type": "stream",
     "text": [
      "a değerini giriniz : 2\n",
      "b değerini giriniz : 34\n",
      "c değerini giriniz : 4\n",
      "\n",
      "denklemin birinci kökü : -16.881527307120106\n",
      "denklemin ikinci kökü  : -0.4738907715195779\n",
      "\n",
      "\n"
     ]
    }
   ],
   "source": [
    "\n",
    "\n",
    "a = int(input(\"a değerini giriniz : \"))\n",
    "b = int(input(\"b değerini giriniz : \"))\n",
    "c = int(input(\"c değerini giriniz : \"))\n",
    "\n",
    "\n",
    "delta = b**2 - 4*a*c\n",
    "\n",
    "x1 = (-b - delta**0.5) / (2*a)\n",
    "x2 = (-b + delta**0.5) / 2*a\n",
    "\n",
    "print(\"\"\"\n",
    "denklemin birinci kökü : {}\n",
    "denklemin ikinci kökü  : {}\n",
    "\n",
    "\"\"\".format(x1 , x2))"
   ]
  },
  {
   "cell_type": "markdown",
   "id": "declared-hawaiian",
   "metadata": {},
   "source": [
    "# mantıksal değerler(boolean)"
   ]
  },
  {
   "cell_type": "code",
   "execution_count": 45,
   "id": "robust-coaching",
   "metadata": {},
   "outputs": [
    {
     "data": {
      "text/plain": [
       "bool"
      ]
     },
     "execution_count": 45,
     "metadata": {},
     "output_type": "execute_result"
    }
   ],
   "source": [
    "a = True\n",
    "type(a)"
   ]
  },
  {
   "cell_type": "code",
   "execution_count": 47,
   "id": "extensive-redhead",
   "metadata": {},
   "outputs": [
    {
     "data": {
      "text/plain": [
       "bool"
      ]
     },
     "execution_count": 47,
     "metadata": {},
     "output_type": "execute_result"
    }
   ],
   "source": [
    "b = False\n",
    "type(b)"
   ]
  },
  {
   "cell_type": "markdown",
   "id": "civilian-transformation",
   "metadata": {},
   "source": [
    "pythonda bir sayı değeri 0 sa False , 0 dan farklıysa True değerini alır"
   ]
  },
  {
   "cell_type": "code",
   "execution_count": 48,
   "id": "northern-chick",
   "metadata": {},
   "outputs": [
    {
     "data": {
      "text/plain": [
       "True"
      ]
     },
     "execution_count": 48,
     "metadata": {},
     "output_type": "execute_result"
    }
   ],
   "source": [
    "bool(-1)"
   ]
  },
  {
   "cell_type": "code",
   "execution_count": 49,
   "id": "written-encyclopedia",
   "metadata": {},
   "outputs": [
    {
     "data": {
      "text/plain": [
       "False"
      ]
     },
     "execution_count": 49,
     "metadata": {},
     "output_type": "execute_result"
    }
   ],
   "source": [
    "bool(0)"
   ]
  },
  {
   "cell_type": "code",
   "execution_count": 50,
   "id": "silver-joint",
   "metadata": {},
   "outputs": [
    {
     "data": {
      "text/plain": [
       "True"
      ]
     },
     "execution_count": 50,
     "metadata": {},
     "output_type": "execute_result"
    }
   ],
   "source": [
    "5 == 5"
   ]
  },
  {
   "cell_type": "code",
   "execution_count": 51,
   "id": "empty-toilet",
   "metadata": {},
   "outputs": [
    {
     "data": {
      "text/plain": [
       "False"
      ]
     },
     "execution_count": 51,
     "metadata": {},
     "output_type": "execute_result"
    }
   ],
   "source": [
    "5 == 10"
   ]
  },
  {
   "cell_type": "markdown",
   "id": "innovative-patient",
   "metadata": {},
   "source": [
    "\n",
    "\n",
    "\n",
    "pythonda bir değişkenin değerini sonradan belirlemek istersek bunun için None(atanmamaış anlamında kullanabiliriz)"
   ]
  },
  {
   "cell_type": "code",
   "execution_count": 52,
   "id": "caroline-camera",
   "metadata": {},
   "outputs": [
    {
     "name": "stdout",
     "output_type": "stream",
     "text": [
      "None\n"
     ]
    }
   ],
   "source": [
    "a = None\n",
    "print(a)"
   ]
  },
  {
   "cell_type": "code",
   "execution_count": 53,
   "id": "complimentary-track",
   "metadata": {},
   "outputs": [
    {
     "data": {
      "text/plain": [
       "4"
      ]
     },
     "execution_count": 53,
     "metadata": {},
     "output_type": "execute_result"
    }
   ],
   "source": [
    "a = 4\n",
    "a"
   ]
  },
  {
   "cell_type": "code",
   "execution_count": 54,
   "id": "identical-layer",
   "metadata": {},
   "outputs": [
    {
     "data": {
      "text/plain": [
       "True"
      ]
     },
     "execution_count": 54,
     "metadata": {},
     "output_type": "execute_result"
    }
   ],
   "source": [
    "\"ahmet\" == \"ahmet\""
   ]
  },
  {
   "cell_type": "code",
   "execution_count": 55,
   "id": "directed-pound",
   "metadata": {},
   "outputs": [
    {
     "data": {
      "text/plain": [
       "False"
      ]
     },
     "execution_count": 55,
     "metadata": {},
     "output_type": "execute_result"
    }
   ],
   "source": [
    "\"ahmet\" == \"yasin\""
   ]
  },
  {
   "cell_type": "code",
   "execution_count": 56,
   "id": "mineral-support",
   "metadata": {},
   "outputs": [
    {
     "data": {
      "text/plain": [
       "True"
      ]
     },
     "execution_count": 56,
     "metadata": {},
     "output_type": "execute_result"
    }
   ],
   "source": [
    "\"ahmet\" != \"yasin\""
   ]
  },
  {
   "cell_type": "code",
   "execution_count": 57,
   "id": "certain-gossip",
   "metadata": {},
   "outputs": [
    {
     "data": {
      "text/plain": [
       "True"
      ]
     },
     "execution_count": 57,
     "metadata": {},
     "output_type": "execute_result"
    }
   ],
   "source": [
    "\"ahmet\" < \"yasin\""
   ]
  },
  {
   "cell_type": "code",
   "execution_count": null,
   "id": "stock-savage",
   "metadata": {},
   "outputs": [],
   "source": []
  }
 ],
 "metadata": {
  "kernelspec": {
   "display_name": "Python 3",
   "language": "python",
   "name": "python3"
  },
  "language_info": {
   "codemirror_mode": {
    "name": "ipython",
    "version": 3
   },
   "file_extension": ".py",
   "mimetype": "text/x-python",
   "name": "python",
   "nbconvert_exporter": "python",
   "pygments_lexer": "ipython3",
   "version": "3.9.1"
  }
 },
 "nbformat": 4,
 "nbformat_minor": 5
}
