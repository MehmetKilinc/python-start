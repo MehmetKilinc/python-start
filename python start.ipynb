{
 "cells": [
  {
   "cell_type": "code",
   "execution_count": 1,
   "id": "imposed-titanium",
   "metadata": {},
   "outputs": [
    {
     "data": {
      "text/plain": [
       "4"
      ]
     },
     "execution_count": 1,
     "metadata": {},
     "output_type": "execute_result"
    }
   ],
   "source": [
    "5-1"
   ]
  },
  {
   "cell_type": "code",
   "execution_count": 2,
   "id": "voluntary-chicken",
   "metadata": {},
   "outputs": [
    {
     "data": {
      "text/plain": [
       "5.6"
      ]
     },
     "execution_count": 2,
     "metadata": {},
     "output_type": "execute_result"
    }
   ],
   "source": [
    "28/5"
   ]
  },
  {
   "cell_type": "code",
   "execution_count": 3,
   "id": "latest-burner",
   "metadata": {},
   "outputs": [
    {
     "data": {
      "text/plain": [
       "'HELLO'"
      ]
     },
     "execution_count": 3,
     "metadata": {},
     "output_type": "execute_result"
    }
   ],
   "source": [
    "\"HELLO\""
   ]
  },
  {
   "cell_type": "code",
   "execution_count": 4,
   "id": "democratic-appraisal",
   "metadata": {},
   "outputs": [
    {
     "data": {
      "text/plain": [
       "'HELLO'"
      ]
     },
     "execution_count": 4,
     "metadata": {},
     "output_type": "execute_result"
    }
   ],
   "source": [
    "'HELLO'"
   ]
  },
  {
   "cell_type": "code",
   "execution_count": 5,
   "id": "suffering-sterling",
   "metadata": {},
   "outputs": [],
   "source": [
    "a = \"how\"\n",
    "b = \"are\"\n",
    "c = \"you\""
   ]
  },
  {
   "cell_type": "code",
   "execution_count": 6,
   "id": "medium-jewel",
   "metadata": {},
   "outputs": [
    {
     "data": {
      "text/plain": [
       "'howareyou'"
      ]
     },
     "execution_count": 6,
     "metadata": {},
     "output_type": "execute_result"
    }
   ],
   "source": [
    "a+b+c"
   ]
  },
  {
   "cell_type": "code",
   "execution_count": 7,
   "id": "miniature-competition",
   "metadata": {},
   "outputs": [
    {
     "data": {
      "text/plain": [
       "'howhowhow'"
      ]
     },
     "execution_count": 7,
     "metadata": {},
     "output_type": "execute_result"
    }
   ],
   "source": [
    "a + a + a"
   ]
  },
  {
   "cell_type": "code",
   "execution_count": 8,
   "id": "cellular-adult",
   "metadata": {},
   "outputs": [
    {
     "name": "stdout",
     "output_type": "stream",
     "text": [
      "hello cat\n"
     ]
    }
   ],
   "source": [
    "print(\"hello\",\"cat\")"
   ]
  },
  {
   "cell_type": "code",
   "execution_count": 9,
   "id": "adjusted-provider",
   "metadata": {},
   "outputs": [
    {
     "name": "stdout",
     "output_type": "stream",
     "text": [
      "hellocat\n"
     ]
    }
   ],
   "source": [
    "print(\"hello\"+\"cat\")"
   ]
  },
  {
   "cell_type": "code",
   "execution_count": 10,
   "id": "charged-telescope",
   "metadata": {},
   "outputs": [
    {
     "name": "stdout",
     "output_type": "stream",
     "text": [
      "hello 33\n"
     ]
    }
   ],
   "source": [
    "print(\"hello\",33)"
   ]
  },
  {
   "cell_type": "code",
   "execution_count": 11,
   "id": "current-strip",
   "metadata": {},
   "outputs": [
    {
     "ename": "TypeError",
     "evalue": "can only concatenate str (not \"int\") to str",
     "output_type": "error",
     "traceback": [
      "\u001b[1;31m---------------------------------------------------------------------------\u001b[0m",
      "\u001b[1;31mTypeError\u001b[0m                                 Traceback (most recent call last)",
      "\u001b[1;32m<ipython-input-11-30bd5dfd5539>\u001b[0m in \u001b[0;36m<module>\u001b[1;34m\u001b[0m\n\u001b[1;32m----> 1\u001b[1;33m \u001b[0mprint\u001b[0m\u001b[1;33m(\u001b[0m\u001b[1;34m\"hello\"\u001b[0m \u001b[1;33m+\u001b[0m \u001b[1;36m33\u001b[0m\u001b[1;33m)\u001b[0m\u001b[1;33m\u001b[0m\u001b[1;33m\u001b[0m\u001b[0m\n\u001b[0m",
      "\u001b[1;31mTypeError\u001b[0m: can only concatenate str (not \"int\") to str"
     ]
    }
   ],
   "source": [
    "print(\"hello\" + 33)"
   ]
  },
  {
   "cell_type": "code",
   "execution_count": 12,
   "id": "missing-office",
   "metadata": {},
   "outputs": [
    {
     "name": "stdout",
     "output_type": "stream",
     "text": [
      "hello33\n"
     ]
    }
   ],
   "source": [
    "print(\"hello\" + str(33))"
   ]
  },
  {
   "cell_type": "code",
   "execution_count": 13,
   "id": "negative-audit",
   "metadata": {},
   "outputs": [
    {
     "name": "stdout",
     "output_type": "stream",
     "text": [
      "hello\n"
     ]
    }
   ],
   "source": [
    "a = \"hello\"\n",
    "print(a)"
   ]
  },
  {
   "cell_type": "code",
   "execution_count": 14,
   "id": "opponent-engagement",
   "metadata": {},
   "outputs": [
    {
     "data": {
      "text/plain": [
       "'h'"
      ]
     },
     "execution_count": 14,
     "metadata": {},
     "output_type": "execute_result"
    }
   ],
   "source": [
    "a[0]"
   ]
  },
  {
   "cell_type": "code",
   "execution_count": 15,
   "id": "social-inspiration",
   "metadata": {},
   "outputs": [
    {
     "data": {
      "text/plain": [
       "'e'"
      ]
     },
     "execution_count": 15,
     "metadata": {},
     "output_type": "execute_result"
    }
   ],
   "source": [
    "a[1]"
   ]
  },
  {
   "cell_type": "code",
   "execution_count": 16,
   "id": "caring-cleaning",
   "metadata": {},
   "outputs": [
    {
     "data": {
      "text/plain": [
       "'llo'"
      ]
     },
     "execution_count": 16,
     "metadata": {},
     "output_type": "execute_result"
    }
   ],
   "source": [
    "a[2:10]"
   ]
  },
  {
   "cell_type": "code",
   "execution_count": 17,
   "id": "executive-baseline",
   "metadata": {},
   "outputs": [
    {
     "data": {
      "text/plain": [
       "'el'"
      ]
     },
     "execution_count": 17,
     "metadata": {},
     "output_type": "execute_result"
    }
   ],
   "source": [
    "a[1:3]"
   ]
  },
  {
   "cell_type": "code",
   "execution_count": 18,
   "id": "voluntary-surprise",
   "metadata": {},
   "outputs": [
    {
     "data": {
      "text/plain": [
       "'hel'"
      ]
     },
     "execution_count": 18,
     "metadata": {},
     "output_type": "execute_result"
    }
   ],
   "source": [
    "a[:3]"
   ]
  },
  {
   "cell_type": "code",
   "execution_count": 19,
   "id": "municipal-disease",
   "metadata": {},
   "outputs": [
    {
     "data": {
      "text/plain": [
       "'lo'"
      ]
     },
     "execution_count": 19,
     "metadata": {},
     "output_type": "execute_result"
    }
   ],
   "source": [
    "a[3:]"
   ]
  },
  {
   "cell_type": "code",
   "execution_count": 20,
   "id": "weighted-outline",
   "metadata": {},
   "outputs": [
    {
     "data": {
      "text/plain": [
       "5"
      ]
     },
     "execution_count": 20,
     "metadata": {},
     "output_type": "execute_result"
    }
   ],
   "source": [
    "len(a)"
   ]
  },
  {
   "cell_type": "code",
   "execution_count": 21,
   "id": "specialized-killer",
   "metadata": {},
   "outputs": [
    {
     "data": {
      "text/plain": [
       "5"
      ]
     },
     "execution_count": 21,
     "metadata": {},
     "output_type": "execute_result"
    }
   ],
   "source": [
    "len(\"hello\")"
   ]
  },
  {
   "cell_type": "code",
   "execution_count": 22,
   "id": "brilliant-barrier",
   "metadata": {},
   "outputs": [
    {
     "data": {
      "text/plain": [
       "int"
      ]
     },
     "execution_count": 22,
     "metadata": {},
     "output_type": "execute_result"
    }
   ],
   "source": [
    "type(12)"
   ]
  },
  {
   "cell_type": "code",
   "execution_count": 23,
   "id": "charged-throat",
   "metadata": {},
   "outputs": [
    {
     "data": {
      "text/plain": [
       "float"
      ]
     },
     "execution_count": 23,
     "metadata": {},
     "output_type": "execute_result"
    }
   ],
   "source": [
    "type(12.6)"
   ]
  },
  {
   "cell_type": "code",
   "execution_count": 25,
   "id": "indian-crowd",
   "metadata": {},
   "outputs": [
    {
     "data": {
      "text/plain": [
       "str"
      ]
     },
     "execution_count": 25,
     "metadata": {},
     "output_type": "execute_result"
    }
   ],
   "source": [
    "type(\"hello\")"
   ]
  },
  {
   "cell_type": "code",
   "execution_count": 26,
   "id": "complicated-ghana",
   "metadata": {},
   "outputs": [],
   "source": [
    "a = [1 , 45 , \"hello\"]"
   ]
  },
  {
   "cell_type": "code",
   "execution_count": 27,
   "id": "metallic-sunset",
   "metadata": {},
   "outputs": [
    {
     "data": {
      "text/plain": [
       "45"
      ]
     },
     "execution_count": 27,
     "metadata": {},
     "output_type": "execute_result"
    }
   ],
   "source": [
    "a[1]"
   ]
  },
  {
   "cell_type": "code",
   "execution_count": 29,
   "id": "lined-assistant",
   "metadata": {},
   "outputs": [
    {
     "data": {
      "text/plain": [
       "'hello'"
      ]
     },
     "execution_count": 29,
     "metadata": {},
     "output_type": "execute_result"
    }
   ],
   "source": [
    "a[2]"
   ]
  },
  {
   "cell_type": "code",
   "execution_count": 30,
   "id": "julian-learning",
   "metadata": {},
   "outputs": [],
   "source": [
    "a.append(\"cat\")"
   ]
  },
  {
   "cell_type": "code",
   "execution_count": 31,
   "id": "spread-romania",
   "metadata": {},
   "outputs": [
    {
     "name": "stdout",
     "output_type": "stream",
     "text": [
      "[1, 45, 'hello', 'cat']\n"
     ]
    }
   ],
   "source": [
    "print(a)"
   ]
  },
  {
   "cell_type": "code",
   "execution_count": 33,
   "id": "wireless-diploma",
   "metadata": {},
   "outputs": [
    {
     "data": {
      "text/plain": [
       "[1, 45, 'hello', 'cat', 'dog']"
      ]
     },
     "execution_count": 33,
     "metadata": {},
     "output_type": "execute_result"
    }
   ],
   "source": [
    "a + [\"dog\"]"
   ]
  },
  {
   "cell_type": "code",
   "execution_count": 34,
   "id": "promotional-column",
   "metadata": {},
   "outputs": [],
   "source": [
    "a = a + [\"turtle\"]"
   ]
  },
  {
   "cell_type": "code",
   "execution_count": 35,
   "id": "defensive-monte",
   "metadata": {},
   "outputs": [
    {
     "name": "stdout",
     "output_type": "stream",
     "text": [
      "[1, 45, 'hello', 'cat', 'turtle']\n"
     ]
    }
   ],
   "source": [
    "print(a)"
   ]
  },
  {
   "cell_type": "code",
   "execution_count": 36,
   "id": "accomplished-circulation",
   "metadata": {},
   "outputs": [
    {
     "data": {
      "text/plain": [
       "[1, 45, 'hello']"
      ]
     },
     "execution_count": 36,
     "metadata": {},
     "output_type": "execute_result"
    }
   ],
   "source": [
    "a[:3]"
   ]
  },
  {
   "cell_type": "code",
   "execution_count": 37,
   "id": "governmental-puppy",
   "metadata": {},
   "outputs": [
    {
     "data": {
      "text/plain": [
       "['cat', 'turtle']"
      ]
     },
     "execution_count": 37,
     "metadata": {},
     "output_type": "execute_result"
    }
   ],
   "source": [
    "a[3:]"
   ]
  },
  {
   "cell_type": "code",
   "execution_count": 38,
   "id": "herbal-bryan",
   "metadata": {},
   "outputs": [],
   "source": [
    "a[:2] = [3, 4]"
   ]
  },
  {
   "cell_type": "code",
   "execution_count": 39,
   "id": "earned-depth",
   "metadata": {},
   "outputs": [
    {
     "name": "stdout",
     "output_type": "stream",
     "text": [
      "[3, 4, 'hello', 'cat', 'turtle']\n"
     ]
    }
   ],
   "source": [
    "print(a)"
   ]
  },
  {
   "cell_type": "code",
   "execution_count": 40,
   "id": "southeast-haven",
   "metadata": {},
   "outputs": [],
   "source": [
    "a[:2] = []"
   ]
  },
  {
   "cell_type": "code",
   "execution_count": 41,
   "id": "cheap-vampire",
   "metadata": {},
   "outputs": [
    {
     "name": "stdout",
     "output_type": "stream",
     "text": [
      "['hello', 'cat', 'turtle']\n"
     ]
    }
   ],
   "source": [
    "print(a)"
   ]
  },
  {
   "cell_type": "code",
   "execution_count": 44,
   "id": "alien-cannon",
   "metadata": {
    "scrolled": true
   },
   "outputs": [
    {
     "name": "stdout",
     "output_type": "stream",
     "text": [
      "enrolled students\n",
      "enter student's name :james\n",
      "enter student's surname :bond\n",
      "enter student's age :50\n",
      " name : james \n",
      " surname : bond \n",
      " age : 50\n"
     ]
    }
   ],
   "source": [
    "print(\"enrolled students\")\n",
    "name = input(\"enter student's name :\")\n",
    "surname = input(\"enter student's surname :\")\n",
    "age = input(\"enter student's age :\")\n",
    "\n",
    "liststudent = [name,surname,age]\n",
    "\n",
    "print(\" name : {} \\n surname : {} \\n age : {}\".format(liststudent[0] , liststudent[1] , liststudent[2]))"
   ]
  },
  {
   "cell_type": "code",
   "execution_count": null,
   "id": "equivalent-nebraska",
   "metadata": {},
   "outputs": [],
   "source": []
  }
 ],
 "metadata": {
  "kernelspec": {
   "display_name": "Python 3",
   "language": "python",
   "name": "python3"
  },
  "language_info": {
   "codemirror_mode": {
    "name": "ipython",
    "version": 3
   },
   "file_extension": ".py",
   "mimetype": "text/x-python",
   "name": "python",
   "nbconvert_exporter": "python",
   "pygments_lexer": "ipython3",
   "version": "3.9.1"
  }
 },
 "nbformat": 4,
 "nbformat_minor": 5
}
