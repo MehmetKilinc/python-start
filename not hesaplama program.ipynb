{
 "cells": [
  {
   "cell_type": "markdown",
   "id": "informative-chamber",
   "metadata": {},
   "source": [
    "# not hesaplama program"
   ]
  },
  {
   "cell_type": "code",
   "execution_count": 9,
   "id": "little-lightweight",
   "metadata": {},
   "outputs": [
    {
     "name": "stdout",
     "output_type": "stream",
     "text": [
      "ahmet ahmet,80,68,40\n",
      "['ahmet ahmet', '80', '68', '40']\n",
      "azat azat,90,60,20\n",
      "['azat azat', '90', '60', '20']\n",
      "['ahmet ahmet>>>>>>>>>>>>>>>   BB\\n', 'azat azat>>>>>>>>>>>>>>>   CC\\n']\n"
     ]
    }
   ],
   "source": [
    "def not_hesapla(satır):\n",
    "    \n",
    "    satır = satır[:-1]                #\\n silinsin yani boşluk bırakmasın diye yazıldı\n",
    "    \n",
    "    print(satır)\n",
    "    \n",
    "    liste = satır.split(\",\")            #split dosyadaki satırları virgüle göre parçalar\n",
    "    \n",
    "    print(liste)\n",
    "    \n",
    "    isim = liste[0]\n",
    "    \n",
    "    not1 = int(liste[1])\n",
    "    \n",
    "    not2 = int(liste[2])\n",
    "    \n",
    "    not3 = int(liste[3])\n",
    "    \n",
    "    son_not = not1 * (3/10) + not2 * (3/10) + not3 * (4/10)\n",
    "    \n",
    "    if son_not >= 80:\n",
    "        \n",
    "        harf = \"AA\"\n",
    "        \n",
    "    elif son_not >= 60:\n",
    "        \n",
    "        harf = \"BB\"\n",
    "        \n",
    "    elif son_not >= 50:\n",
    "        \n",
    "        harf = \"CC\"\n",
    "        \n",
    "    else:\n",
    "        \n",
    "        harf = \"FF\"\n",
    "        \n",
    "    return isim + \">>>>>>>>>>>>>>>   \" + harf + \"\\n\"\n",
    "\n",
    "with open(\"dosya.txt\",\"r\",encoding=\"utf-8\") as file:\n",
    "    \n",
    "    eklenecekler_listesi = []\n",
    "    \n",
    "    for i in file:\n",
    "        \n",
    "        eklenecekler_listesi.append(not_hesapla(i))\n",
    "        \n",
    "    print(eklenecekler_listesi)\n",
    "    \n",
    "with open(\"notlar.txt\",\"w\",encoding=\"utf-8\") as file2:\n",
    "    \n",
    "    for i in eklenecekler_listesi:\n",
    "        \n",
    "        file2.write(i)\n",
    "    \n",
    "    "
   ]
  },
  {
   "cell_type": "code",
   "execution_count": null,
   "id": "middle-orientation",
   "metadata": {},
   "outputs": [],
   "source": [
    "\n",
    "\n",
    "\n",
    "\n",
    "\n"
   ]
  }
 ],
 "metadata": {
  "kernelspec": {
   "display_name": "Python 3",
   "language": "python",
   "name": "python3"
  },
  "language_info": {
   "codemirror_mode": {
    "name": "ipython",
    "version": 3
   },
   "file_extension": ".py",
   "mimetype": "text/x-python",
   "name": "python",
   "nbconvert_exporter": "python",
   "pygments_lexer": "ipython3",
   "version": "3.9.1"
  }
 },
 "nbformat": 4,
 "nbformat_minor": 5
}
