{
 "cells": [
  {
   "cell_type": "markdown",
   "id": "impressive-herald",
   "metadata": {},
   "source": [
    "# DEMETELER(TUPLE) "
   ]
  },
  {
   "cell_type": "code",
   "execution_count": 1,
   "id": "toxic-digit",
   "metadata": {},
   "outputs": [],
   "source": [
    "demet = (\"kalem\" , \"defter\" , \"silgi\" , \"kitap\")"
   ]
  },
  {
   "cell_type": "code",
   "execution_count": 2,
   "id": "statutory-spending",
   "metadata": {},
   "outputs": [
    {
     "name": "stdout",
     "output_type": "stream",
     "text": [
      "('kalem', 'defter', 'silgi', 'kitap')\n"
     ]
    }
   ],
   "source": [
    "print(demet)"
   ]
  },
  {
   "cell_type": "code",
   "execution_count": 5,
   "id": "accepting-budget",
   "metadata": {},
   "outputs": [],
   "source": [
    "demet1 = \"armut\" , \"elma\" , \"kaysı\"          #parantez olmadanda yazılabilir"
   ]
  },
  {
   "cell_type": "code",
   "execution_count": 6,
   "id": "protecting-consolidation",
   "metadata": {},
   "outputs": [
    {
     "name": "stdout",
     "output_type": "stream",
     "text": [
      "('armut', 'elma', 'kaysı')\n"
     ]
    }
   ],
   "source": [
    "print(demet1)"
   ]
  },
  {
   "cell_type": "code",
   "execution_count": 7,
   "id": "attempted-guatemala",
   "metadata": {},
   "outputs": [
    {
     "data": {
      "text/plain": [
       "tuple"
      ]
     },
     "execution_count": 7,
     "metadata": {},
     "output_type": "execute_result"
    }
   ],
   "source": [
    "type(demet)"
   ]
  },
  {
   "cell_type": "code",
   "execution_count": 8,
   "id": "driven-pasta",
   "metadata": {},
   "outputs": [
    {
     "data": {
      "text/plain": [
       "tuple"
      ]
     },
     "execution_count": 8,
     "metadata": {},
     "output_type": "execute_result"
    }
   ],
   "source": [
    "type(demet1)"
   ]
  },
  {
   "cell_type": "code",
   "execution_count": 13,
   "id": "talented-atlanta",
   "metadata": {},
   "outputs": [],
   "source": [
    "demet2 = \"merhaba\"               #sonunda , olmadığı için bunu string olarak algıladı"
   ]
  },
  {
   "cell_type": "code",
   "execution_count": 10,
   "id": "substantial-verse",
   "metadata": {},
   "outputs": [
    {
     "data": {
      "text/plain": [
       "str"
      ]
     },
     "execution_count": 10,
     "metadata": {},
     "output_type": "execute_result"
    }
   ],
   "source": [
    "type(demet2)"
   ]
  },
  {
   "cell_type": "code",
   "execution_count": 14,
   "id": "genuine-comedy",
   "metadata": {},
   "outputs": [],
   "source": [
    "demet3 = \"merhaba\" ,                      #sonunda , olduğu için tuple olduğunu algıladı"
   ]
  },
  {
   "cell_type": "code",
   "execution_count": 15,
   "id": "declared-sequence",
   "metadata": {},
   "outputs": [
    {
     "data": {
      "text/plain": [
       "tuple"
      ]
     },
     "execution_count": 15,
     "metadata": {},
     "output_type": "execute_result"
    }
   ],
   "source": [
    "type(demet3)"
   ]
  },
  {
   "cell_type": "code",
   "execution_count": 16,
   "id": "architectural-young",
   "metadata": {},
   "outputs": [
    {
     "data": {
      "text/plain": [
       "'kitap'"
      ]
     },
     "execution_count": 16,
     "metadata": {},
     "output_type": "execute_result"
    }
   ],
   "source": [
    "demet[3]"
   ]
  },
  {
   "cell_type": "code",
   "execution_count": 17,
   "id": "appointed-maple",
   "metadata": {},
   "outputs": [
    {
     "data": {
      "text/plain": [
       "('defter', 'silgi')"
      ]
     },
     "execution_count": 17,
     "metadata": {},
     "output_type": "execute_result"
    }
   ],
   "source": [
    "demet[1:3]"
   ]
  },
  {
   "cell_type": "code",
   "execution_count": 18,
   "id": "angry-swing",
   "metadata": {},
   "outputs": [
    {
     "data": {
      "text/plain": [
       "('defter', 'silgi', 'kitap')"
      ]
     },
     "execution_count": 18,
     "metadata": {},
     "output_type": "execute_result"
    }
   ],
   "source": [
    "demet[1:4]"
   ]
  },
  {
   "cell_type": "code",
   "execution_count": 20,
   "id": "fifty-trout",
   "metadata": {},
   "outputs": [
    {
     "ename": "TypeError",
     "evalue": "'tuple' object does not support item assignment",
     "output_type": "error",
     "traceback": [
      "\u001b[1;31m---------------------------------------------------------------------------\u001b[0m",
      "\u001b[1;31mTypeError\u001b[0m                                 Traceback (most recent call last)",
      "\u001b[1;32m<ipython-input-20-f310d6d39065>\u001b[0m in \u001b[0;36m<module>\u001b[1;34m\u001b[0m\n\u001b[1;32m----> 1\u001b[1;33m \u001b[0mdemet\u001b[0m\u001b[1;33m[\u001b[0m\u001b[1;36m1\u001b[0m\u001b[1;33m]\u001b[0m \u001b[1;33m=\u001b[0m \u001b[1;34m\"kalemlik\"\u001b[0m       \u001b[1;31m#demetlerde değiştirme yada ekleme yapılamaz hata verir\u001b[0m\u001b[1;33m\u001b[0m\u001b[1;33m\u001b[0m\u001b[0m\n\u001b[0m",
      "\u001b[1;31mTypeError\u001b[0m: 'tuple' object does not support item assignment"
     ]
    }
   ],
   "source": [
    "demet[1] = \"kalemlik\"       #demetlerde değiştirme yada ekleme yapılamaz hata verir"
   ]
  },
  {
   "cell_type": "code",
   "execution_count": 22,
   "id": "postal-strike",
   "metadata": {},
   "outputs": [
    {
     "data": {
      "text/plain": [
       "['__add__',\n",
       " '__class__',\n",
       " '__class_getitem__',\n",
       " '__contains__',\n",
       " '__delattr__',\n",
       " '__dir__',\n",
       " '__doc__',\n",
       " '__eq__',\n",
       " '__format__',\n",
       " '__ge__',\n",
       " '__getattribute__',\n",
       " '__getitem__',\n",
       " '__getnewargs__',\n",
       " '__gt__',\n",
       " '__hash__',\n",
       " '__init__',\n",
       " '__init_subclass__',\n",
       " '__iter__',\n",
       " '__le__',\n",
       " '__len__',\n",
       " '__lt__',\n",
       " '__mul__',\n",
       " '__ne__',\n",
       " '__new__',\n",
       " '__reduce__',\n",
       " '__reduce_ex__',\n",
       " '__repr__',\n",
       " '__rmul__',\n",
       " '__setattr__',\n",
       " '__sizeof__',\n",
       " '__str__',\n",
       " '__subclasshook__',\n",
       " 'count',\n",
       " 'index']"
      ]
     },
     "execution_count": 22,
     "metadata": {},
     "output_type": "execute_result"
    }
   ],
   "source": [
    "dir(demet)            #dir komutuyla metotlarını sıralayabiliriz"
   ]
  },
  {
   "cell_type": "markdown",
   "id": "august-testament",
   "metadata": {},
   "source": [
    "# index metodu"
   ]
  },
  {
   "cell_type": "markdown",
   "id": "bigger-coating",
   "metadata": {},
   "source": [
    "index metodu bir tuple da aranılan elemanın kaçıncı index de olduğu bulan metottur."
   ]
  },
  {
   "cell_type": "code",
   "execution_count": 23,
   "id": "trying-wireless",
   "metadata": {},
   "outputs": [],
   "source": [
    "demet5 = \"python\" , \"java\" , \"c\" , \"c++\" , \"html\""
   ]
  },
  {
   "cell_type": "code",
   "execution_count": 24,
   "id": "funky-congo",
   "metadata": {},
   "outputs": [
    {
     "data": {
      "text/plain": [
       "0"
      ]
     },
     "execution_count": 24,
     "metadata": {},
     "output_type": "execute_result"
    }
   ],
   "source": [
    "demet5.index(\"python\")"
   ]
  },
  {
   "cell_type": "code",
   "execution_count": 25,
   "id": "starting-circuit",
   "metadata": {},
   "outputs": [
    {
     "data": {
      "text/plain": [
       "1"
      ]
     },
     "execution_count": 25,
     "metadata": {},
     "output_type": "execute_result"
    }
   ],
   "source": [
    "demet5.index(\"java\")"
   ]
  },
  {
   "cell_type": "code",
   "execution_count": 27,
   "id": "favorite-argentina",
   "metadata": {},
   "outputs": [
    {
     "name": "stdout",
     "output_type": "stream",
     "text": [
      "aradığınız elemanı giriniz :python\n",
      "aradığınız eleman demetin 0. index ' indedir\n"
     ]
    }
   ],
   "source": [
    "eleman  =input(\"aradığınız elemanı giriniz :\")\n",
    "\n",
    "if eleman in demet5:\n",
    "    \n",
    "    print(\"aradığınız eleman demetin {}. index ' indedir\".format(demet5.index(eleman)))"
   ]
  },
  {
   "cell_type": "markdown",
   "id": "extensive-alignment",
   "metadata": {},
   "source": [
    "# count metodu"
   ]
  },
  {
   "cell_type": "markdown",
   "id": "closing-mills",
   "metadata": {},
   "source": [
    "Count metodu tuple içinde aynı elamandan dan kaç tane olduğunu bulan metottur.\n",
    "\n"
   ]
  },
  {
   "cell_type": "code",
   "execution_count": 28,
   "id": "constant-roman",
   "metadata": {},
   "outputs": [],
   "source": [
    "demet6 = \"merhaba\" , \"naber\" , \"merhaba\" , \"merhaba\""
   ]
  },
  {
   "cell_type": "code",
   "execution_count": 29,
   "id": "cultural-monkey",
   "metadata": {},
   "outputs": [
    {
     "data": {
      "text/plain": [
       "3"
      ]
     },
     "execution_count": 29,
     "metadata": {},
     "output_type": "execute_result"
    }
   ],
   "source": [
    "demet6.count(\"merhaba\")"
   ]
  },
  {
   "cell_type": "code",
   "execution_count": 30,
   "id": "continuous-combining",
   "metadata": {},
   "outputs": [
    {
     "data": {
      "text/plain": [
       "1"
      ]
     },
     "execution_count": 30,
     "metadata": {},
     "output_type": "execute_result"
    }
   ],
   "source": [
    "demet6.count(\"naber\")"
   ]
  },
  {
   "cell_type": "code",
   "execution_count": null,
   "id": "productive-fence",
   "metadata": {},
   "outputs": [],
   "source": []
  }
 ],
 "metadata": {
  "kernelspec": {
   "display_name": "Python 3",
   "language": "python",
   "name": "python3"
  },
  "language_info": {
   "codemirror_mode": {
    "name": "ipython",
    "version": 3
   },
   "file_extension": ".py",
   "mimetype": "text/x-python",
   "name": "python",
   "nbconvert_exporter": "python",
   "pygments_lexer": "ipython3",
   "version": "3.9.1"
  }
 },
 "nbformat": 4,
 "nbformat_minor": 5
}
