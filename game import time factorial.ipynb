{
 "cells": [
  {
   "cell_type": "code",
   "execution_count": 1,
   "id": "metropolitan-environment",
   "metadata": {},
   "outputs": [
    {
     "name": "stdout",
     "output_type": "stream",
     "text": [
      "120\n"
     ]
    }
   ],
   "source": [
    "def factorial(number):\n",
    "    if number == 1:\n",
    "        return 1\n",
    "    else:\n",
    "        return number * factorial(number - 1)\n",
    "\n",
    "print(factorial(5))"
   ]
  },
  {
   "cell_type": "code",
   "execution_count": 2,
   "id": "significant-cream",
   "metadata": {},
   "outputs": [
    {
     "data": {
      "text/plain": [
       "40320"
      ]
     },
     "execution_count": 2,
     "metadata": {},
     "output_type": "execute_result"
    }
   ],
   "source": [
    "factorial(8)"
   ]
  },
  {
   "cell_type": "code",
   "execution_count": 3,
   "id": "assumed-torture",
   "metadata": {},
   "outputs": [
    {
     "data": {
      "text/plain": [
       "720"
      ]
     },
     "execution_count": 3,
     "metadata": {},
     "output_type": "execute_result"
    }
   ],
   "source": [
    "factorial(6)"
   ]
  },
  {
   "cell_type": "code",
   "execution_count": 4,
   "id": "expanded-sender",
   "metadata": {},
   "outputs": [
    {
     "name": "stdout",
     "output_type": "stream",
     "text": [
      "True\n"
     ]
    }
   ],
   "source": [
    "def triangle(a,b,hypotenuse):\n",
    "    if a**2 + b**2 == hypotenuse ** 2:\n",
    "        return True\n",
    "    else:\n",
    "        return False\n",
    "    \n",
    "print(triangle(3,4,5))"
   ]
  },
  {
   "cell_type": "code",
   "execution_count": 5,
   "id": "portable-professor",
   "metadata": {},
   "outputs": [
    {
     "name": "stdout",
     "output_type": "stream",
     "text": [
      "True\n"
     ]
    }
   ],
   "source": [
    "tri = lambda a,b,hypotenuse : a**2 + b**2 == hypotenuse**2\n",
    "print(tri(3,4,5))"
   ]
  },
  {
   "cell_type": "code",
   "execution_count": null,
   "id": "developing-diesel",
   "metadata": {},
   "outputs": [],
   "source": []
  },
  {
   "cell_type": "code",
   "execution_count": 6,
   "id": "varied-spring",
   "metadata": {},
   "outputs": [
    {
     "name": "stdout",
     "output_type": "stream",
     "text": [
      "hello\n",
      "press enter\n"
     ]
    },
    {
     "data": {
      "text/plain": [
       "1"
      ]
     },
     "execution_count": 6,
     "metadata": {},
     "output_type": "execute_result"
    }
   ],
   "source": [
    "import os\n",
    "print(\"hello\")\n",
    "input(\"press enter\")\n",
    "os.system(\"clear\")"
   ]
  },
  {
   "cell_type": "markdown",
   "id": "blank-monitoring",
   "metadata": {},
   "source": [
    "# time"
   ]
  },
  {
   "cell_type": "code",
   "execution_count": 7,
   "id": "secret-browser",
   "metadata": {},
   "outputs": [
    {
     "name": "stdout",
     "output_type": "stream",
     "text": [
      "first line\n",
      "the second line comes after 5 seconds\n"
     ]
    }
   ],
   "source": [
    "import time\n",
    "print(\"first line\")\n",
    "time.sleep(5)\n",
    "print(\"the second line comes after 5 seconds\")"
   ]
  },
  {
   "cell_type": "code",
   "execution_count": null,
   "id": "split-instrumentation",
   "metadata": {},
   "outputs": [],
   "source": []
  },
  {
   "cell_type": "code",
   "execution_count": 8,
   "id": "configured-permit",
   "metadata": {},
   "outputs": [
    {
     "name": "stdout",
     "output_type": "stream",
     "text": [
      "C:\\Users\\azat\\Desktop\n"
     ]
    }
   ],
   "source": [
    "import os\n",
    "the_directory_i_am_in = os.getcwd()\n",
    "print(the_directory_i_am_in)"
   ]
  },
  {
   "cell_type": "code",
   "execution_count": 11,
   "id": "internal-millennium",
   "metadata": {},
   "outputs": [
    {
     "name": "stdout",
     "output_type": "stream",
     "text": [
      "C:\\\n"
     ]
    }
   ],
   "source": [
    "os.chdir(\"../\")\n",
    "the_directory_i_am_in = os.getcwd()\n",
    "print(the_directory_i_am_in)"
   ]
  },
  {
   "cell_type": "code",
   "execution_count": 16,
   "id": "remarkable-plaza",
   "metadata": {},
   "outputs": [
    {
     "name": "stdout",
     "output_type": "stream",
     "text": [
      "\n",
      "\n",
      "\n",
      "\n",
      "\n",
      "\n",
      "\n",
      "\n",
      "\n",
      "\n",
      "\n",
      "\n",
      "\n",
      "\n",
      "\n",
      "\n",
      "\n",
      "\n",
      "\n",
      "\n",
      "\n",
      "\n",
      "\n",
      "\n",
      "\n",
      "\n",
      "\n",
      "\n",
      "\n",
      "\n",
      "\n",
      "\n",
      "\n",
      "\n",
      "\n",
      "\n",
      "\n",
      "\n",
      "\n",
      "\n",
      "\n",
      "\n",
      "\n",
      "\n",
      "\n",
      "\n",
      "\n",
      "\n",
      "\n",
      "\n",
      "\n",
      "\n",
      "\n",
      "\n",
      "\n",
      "\n",
      "\n",
      "\n",
      "\n",
      "\n",
      "\n",
      "\n",
      "\n",
      "\n",
      "\n",
      "\n",
      "\n",
      "\n",
      "\n",
      "\n",
      "\n",
      "\n",
      "\n",
      "\n",
      "\n",
      "\n",
      "\n",
      "\n",
      "\n",
      "\n",
      "\n",
      "\n",
      "\n",
      "\n",
      "\n",
      "\n",
      "\n",
      "\n",
      "\n",
      "\n",
      "\n",
      "\n",
      "\n",
      "\n",
      "\n",
      "\n",
      "\n",
      "\n",
      "\n",
      "\n",
      "\n",
      "\n",
      "\n",
      "\n",
      "\n",
      "\n",
      "\n",
      "\n",
      "\n",
      "\n",
      "\n",
      "\n",
      "\n",
      "\n",
      "\n",
      "\n",
      "\n",
      "\n",
      "\n",
      "\n",
      "\n",
      "\n",
      "\n",
      "\n",
      "\n",
      "\n",
      "\n",
      "\n",
      "\n",
      "\n",
      "\n",
      "\n",
      "\n",
      "\n",
      "\n",
      "\n",
      "\n",
      "\n",
      "\n",
      "\n",
      "\n",
      "\n",
      "\n",
      "\n",
      "\n",
      "\n",
      "\n"
     ]
    }
   ],
   "source": [
    "import os \n",
    "for i in dir(os):\n",
    "    if \"__\" not in i:      \n",
    "       #print(i)    shows attributes and functions\n",
    "        print()"
   ]
  },
  {
   "cell_type": "code",
   "execution_count": 19,
   "id": "controlled-natural",
   "metadata": {},
   "outputs": [
    {
     "name": "stdout",
     "output_type": "stream",
     "text": [
      "enter number :4\n",
      "1. line\n",
      "2. line\n",
      "3. line\n"
     ]
    }
   ],
   "source": [
    "import time\n",
    "\n",
    "number = int(input(\"enter number :\"))\n",
    "for i in range(1,number):\n",
    "    print(\"{}. line\".format(i))\n",
    "    time.sleep(5)   # shows every 5 second"
   ]
  },
  {
   "cell_type": "code",
   "execution_count": 20,
   "id": "silent-calculator",
   "metadata": {},
   "outputs": [
    {
     "name": "stdout",
     "output_type": "stream",
     "text": [
      "time difference : 3.0009241104125977\n"
     ]
    }
   ],
   "source": [
    "import time \n",
    "timeone = time.time()\n",
    "time.sleep(3)\n",
    "timetwo = time.time()\n",
    "\n",
    "print(\"time difference : {}\".format(timetwo - timeone))"
   ]
  },
  {
   "cell_type": "markdown",
   "id": "overall-murder",
   "metadata": {},
   "source": [
    "# game"
   ]
  },
  {
   "cell_type": "code",
   "execution_count": 24,
   "id": "introductory-sudan",
   "metadata": {},
   "outputs": [
    {
     "name": "stdout",
     "output_type": "stream",
     "text": [
      "selected number 48\n",
      "I kept a number between 10 and 50. guess : ? :\n",
      "guess :22\n",
      "wrong..\n"
     ]
    }
   ],
   "source": [
    "from random import randint\n",
    "from os import system as command\n",
    "\n",
    "def game():\n",
    "   \n",
    "    command(\"cls\")\n",
    "    random_number = randint(10,50)\n",
    "    print(\"selected number\",random_number)  #shown for information purposes . shown for information purposes\n",
    "    print(\"I kept a number between 10 and 50. guess : ? :\")\n",
    "    guess = int(input(\"guess :\"))\n",
    "\n",
    "    if guess == random_number:\n",
    "        command(\"cls\")\n",
    "        print(\"Congratulations....\")\n",
    "    else:\n",
    "        command(\"cls\")\n",
    "        print(\"wrong..\")\n",
    "        \n",
    "game()"
   ]
  },
  {
   "cell_type": "code",
   "execution_count": 25,
   "id": "sharp-absence",
   "metadata": {},
   "outputs": [
    {
     "name": "stdout",
     "output_type": "stream",
     "text": [
      "selected number 25\n",
      "I kept a number between 10 and 50. guess : ? :\n",
      "guess :25\n",
      "Congratulations....\n"
     ]
    }
   ],
   "source": [
    "game()"
   ]
  },
  {
   "cell_type": "code",
   "execution_count": null,
   "id": "declared-linux",
   "metadata": {},
   "outputs": [],
   "source": []
  }
 ],
 "metadata": {
  "kernelspec": {
   "display_name": "Python 3",
   "language": "python",
   "name": "python3"
  },
  "language_info": {
   "codemirror_mode": {
    "name": "ipython",
    "version": 3
   },
   "file_extension": ".py",
   "mimetype": "text/x-python",
   "name": "python",
   "nbconvert_exporter": "python",
   "pygments_lexer": "ipython3",
   "version": "3.9.1"
  }
 },
 "nbformat": 4,
 "nbformat_minor": 5
}
